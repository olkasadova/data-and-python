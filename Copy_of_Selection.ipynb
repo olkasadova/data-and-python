{
  "nbformat": 4,
  "nbformat_minor": 0,
  "metadata": {
    "colab": {
      "provenance": [],
      "include_colab_link": true
    },
    "kernelspec": {
      "name": "python3",
      "display_name": "Python 3"
    },
    "language_info": {
      "name": "python"
    }
  },
  "cells": [
    {
      "cell_type": "markdown",
      "metadata": {
        "id": "view-in-github",
        "colab_type": "text"
      },
      "source": [
        "<a href=\"https://colab.research.google.com/github/olkasadova/data-and-python/blob/main/Copy_of_Selection.ipynb\" target=\"_parent\"><img src=\"https://colab.research.google.com/assets/colab-badge.svg\" alt=\"Open In Colab\"/></a>"
      ]
    },
    {
      "cell_type": "markdown",
      "source": [
        "<a href=\"https://colab.research.google.com/github/StefanMeyer7/Python-Fundamentals/blob/main/Selection.ipynb\" target=\"_parent\"><img src=\"https://colab.research.google.com/assets/colab-badge.svg\" alt=\"Open In Colab\"/></a>"
      ],
      "metadata": {
        "id": "hypbENCo_DGn"
      }
    },
    {
      "cell_type": "markdown",
      "source": [
        "## Selection (if...elif...else)\n",
        "\n",
        "---\n"
      ],
      "metadata": {
        "id": "lTb7kV0B-iVj"
      }
    },
    {
      "cell_type": "markdown",
      "source": [
        "A key part of problem solving is decision making.  Decisions are based on data and have a set of outcomes depending on that data.\n",
        "\n",
        "A program is a sequence of instructions to be followed by the computer, to solve a particular problem.    \n",
        "\n",
        "It is not always useful for programs to do the exact same thing every time, in exactly the same way.  \n",
        "\n",
        "Say we have a program that will tell someone if they are too young to drive a car. We don't want it to tell them this if they are over 17. So we use an if statement to say: if the user's age is less than 17, tell them they are too young to drive a car.\n",
        "\n",
        "Run the code in the cell below to see if it works for the years 2006 and 2000"
      ],
      "metadata": {
        "id": "VzBWxE1u-i-x"
      }
    },
    {
      "cell_type": "code",
      "source": [
        "from datetime import datetime\n",
        "\n",
        "# determine if user is old enough to drive\n",
        "def drive_age():\n",
        "    birth_year = int(input(\"What year were you born?\"))\n",
        "    current_year = datetime.now().year\n",
        "    age = current_year - birth_year\n",
        "    if age < 17:\n",
        "        print(\"You are too young to drive a car\")\n",
        "\n",
        "drive_age()"
      ],
      "metadata": {
        "id": "vfhzZYV8-kyX"
      },
      "execution_count": null,
      "outputs": []
    },
    {
      "cell_type": "markdown",
      "source": [
        "---\n",
        "## Using else    \n",
        "\n",
        "So the program tells someone if they are too young to drive but if they are old enough it doesn't do anything. We need to give it an alternative action.  \n",
        "\n",
        "Run the code in the cell below to see if it works for the years 2006 and 2000  "
      ],
      "metadata": {
        "id": "v39YFr6i-nkq"
      }
    },
    {
      "cell_type": "code",
      "source": [
        "from datetime import datetime\n",
        "\n",
        "# determine if user is old enough to drive or not\n",
        "def drive_age():\n",
        "    birth_year = int(input(\"What year were you born?\"))\n",
        "    current_year = datetime.now().year\n",
        "    age = current_year - birth_year\n",
        "    if age < 17:\n",
        "        print(\"You are too young to drive a car\")\n",
        "    else:\n",
        "        print(\"You are old enough to drive a car\")\n",
        "\n",
        "drive_age()"
      ],
      "metadata": {
        "id": "EBM08-uw-rwr"
      },
      "execution_count": null,
      "outputs": []
    },
    {
      "cell_type": "markdown",
      "source": [
        "So an if statement is written like this:  \n",
        "\n",
        "```\n",
        "if A CONDITION IS TRUE :  \n",
        "  DO SOMETHING  \n",
        "else:  \n",
        "  DO SOMETHING ELSE\n",
        "```\n",
        "\n",
        "\n",
        "Important things to know:  \n",
        "\n",
        "A CONDITION can be *True* or *False* either because it is a boolean variable (storing the value True or False) or because it is using some form of comparison or logical operator:\n",
        "\n",
        "age < 17\n",
        "This is *True* if the value of **age** is less than 17 and *False* if the value of age is 17 or above\n",
        "\n",
        "name == \"Bill\"\n",
        "This is *True* if the value of the variable **name** is \"Bill\" and *False* if the value is any other name\n",
        "\n",
        "height >= 150\n",
        "This is *True* if the value of **height** is greater than, or equal to, 150 and *False* if the value is less than 150\n",
        "\n",
        "### What if there is more than one option?\n",
        "If you ask someone their age, then there may be a number of different things you can print depending on what it is:  \n",
        "\n",
        "Run the code in the cell below, try some different ages to get different results.    "
      ],
      "metadata": {
        "id": "vEI6wnmL-uLl"
      }
    },
    {
      "cell_type": "code",
      "source": [
        "def age_to_drive():\n",
        "    age = int(input(\"Please enter your age\"))\n",
        "    if age >= 17:\n",
        "        print(\"You are old enough to drive\")\n",
        "    elif age >= 13:\n",
        "        print(\"You are too young to drive but you are old enough to have a social media account\")\n",
        "    else:\n",
        "        print(\"You are too young to drive and to have a social media account\")\n",
        "\n",
        "age_to_drive()"
      ],
      "metadata": {
        "id": "vHhN7lPi-vr-"
      },
      "execution_count": null,
      "outputs": []
    },
    {
      "cell_type": "markdown",
      "source": [
        "Here's another example, try this one out:    \n",
        "*  ask the user to enter their **name**.    \n",
        "*  if their `name` is Bill then print \"Where is Ben?\"  \n",
        "*  if their `name` is Ben print \"Where is Bill?\"  \n",
        "*  otherwise print \"Where are Bill and Ben?\"  "
      ],
      "metadata": {
        "id": "MajARFmo-y1W"
      }
    },
    {
      "cell_type": "code",
      "source": [
        "def bill_or_ben():\n",
        "    name = input(\"What is your name?\")\n",
        "    if name == \"Bill\":\n",
        "      print(\"Where is Ben?\")\n",
        "    elif name == \"Ben\":\n",
        "      print(\"Where is Bill?\")\n",
        "    else:\n",
        "      print(\"Where are Bill and Ben?\")\n",
        "\n",
        "bill_or_ben()"
      ],
      "metadata": {
        "id": "zBLCkev_-0s9"
      },
      "execution_count": null,
      "outputs": []
    },
    {
      "cell_type": "markdown",
      "source": [
        "---\n",
        "### Exercise 1  - if and else\n",
        "\n",
        "Write a function called **find_greater()** which will:\n",
        "\n",
        "*  ask the user for 2 numbers (**num1** and **num2**)  \n",
        "*  use an if statement that compares the two numbers and prints the one that is the greater of the two.  "
      ],
      "metadata": {
        "id": "9rrdAWZp-2S7"
      }
    },
    {
      "cell_type": "code",
      "source": [
        "def find_greater():\n",
        "  num1 = input (\"Please provide the first number: \")\n",
        "  num2 = input (\"Please provide the second number: \")\n",
        "  if num1 > num2:\n",
        "    print (\"num1\", num1)\n",
        "  else:\n",
        "    print (\"num2\", num2)\n",
        "\n",
        "find_greater()"
      ],
      "metadata": {
        "id": "GZXrhYRh-4Kp",
        "outputId": "6109c55c-1799-44a0-ed2c-f59853be76ec",
        "colab": {
          "base_uri": "https://localhost:8080/"
        }
      },
      "execution_count": null,
      "outputs": [
        {
          "output_type": "stream",
          "name": "stdout",
          "text": [
            "Please provide the first number: 7\n",
            "Please provide the second number: 4\n",
            "num1\n"
          ]
        }
      ]
    },
    {
      "cell_type": "markdown",
      "source": [
        "---\n",
        "### Exercise 2 -\n",
        "\n",
        "Write a function called **guess_number(random_number)** which will use the generated **random_number**, between 1 and 100, provided in the brackets (called a parameter):  \n",
        "\n",
        "*  ask the user to **guess** the `random_number`  \n",
        "*  if the `guess` is greater than the `random_number` print \"Too high\"  \n",
        "*  else if the `guess` is less than the `random_number` print \"Too low\"  \n"
      ],
      "metadata": {
        "id": "8YpiGWK6-5Oz"
      }
    },
    {
      "cell_type": "code",
      "source": [
        "from random import randint\n",
        "\n",
        "def guess_number(randomNumber):\n",
        "  # add your code below here\n",
        "  guess= int(input(\"Please guess a number: \"))\n",
        "  if guess > randomNumber:\n",
        "    print (\"Too high\")\n",
        "  else:\n",
        "    print (\"Too low\")\n",
        "\n",
        "\n",
        "guess_number(randint(1,100))"
      ],
      "metadata": {
        "id": "uhADiWIW-6c6",
        "outputId": "ae87f7cc-38a1-44c3-cab1-5c315d756f3c",
        "colab": {
          "base_uri": "https://localhost:8080/"
        }
      },
      "execution_count": null,
      "outputs": [
        {
          "output_type": "stream",
          "name": "stdout",
          "text": [
            "Please guess a number: 7\n",
            "Too low\n"
          ]
        }
      ]
    },
    {
      "cell_type": "markdown",
      "source": [
        "---\n",
        "### Exercise 3 - AM or PM\n",
        "\n",
        "Write a function called **is_afternoon()** which will:\n",
        "\n",
        "*  ask the user to enter the **time** in 24 hour clock format (e.g. 1759)  \n",
        "*  use floor division (by 100) to calculate the **hour**  \n",
        "*  use modulus (100) to calculate the **minutes**  \n",
        "*  if the **hour** is 12 or greater, assign \"PM\" to a variable called **am_pm** AND subtract 12 from `hour` and store the result back in `hour`  \n",
        "*  else assign \"AM\" to the `am_pm` variable   \n",
        "*  assign the value str(`hour`) + \":\" + str(`minutes`) + `am_pm` to a new variable called **text_time**  \n",
        "*  print the message \"The time is\", `text_time`    \n",
        "\n",
        "Test input:  \n",
        "1759  \n",
        "\n",
        "Expected output:  \n",
        "The time is 5:59PM  \n",
        "\n",
        "Test input:  \n",
        "1132  \n",
        "\n",
        "Expected output:  \n",
        "The time is 11:32AM"
      ],
      "metadata": {
        "id": "Op5aC1Pb-714"
      }
    },
    {
      "cell_type": "code",
      "source": [
        "def is_afternoon():\n",
        "  time = int(input (\"Please input your time in 24 hour format: \"))\n",
        "  hour = time//100\n",
        "  minutes = time%100\n",
        "  if hour > 12:\n",
        "    am_pm=\"PM\"\n",
        "    hour-= 12\n",
        "  else:\n",
        "    am_pm=\"AM\"\n",
        "  text_time= str(hour)+\":\"+str(minutes)+am_pm\n",
        "  print(text_time)\n",
        "\n",
        "is_afternoon()"
      ],
      "metadata": {
        "id": "TNpm-5N0-8s4",
        "outputId": "971aeff8-65c1-4423-aa41-fb13cfee5fd0",
        "colab": {
          "base_uri": "https://localhost:8080/"
        }
      },
      "execution_count": null,
      "outputs": [
        {
          "output_type": "stream",
          "name": "stdout",
          "text": [
            "Please input your time in 24 hour format: 0812\n",
            "8:12AM\n"
          ]
        }
      ]
    },
    {
      "cell_type": "markdown",
      "source": [
        "---\n",
        "### Exercise 4 - Getting a number within limits\n",
        "\n",
        "Write a function called **validate()** which will:\n",
        "\n",
        "*  ask the user to enter a **number** between 1 and 100  \n",
        "*  if the `number` is less than 1 or more than 100, print the error message \"Number out of limits\"  \n",
        "*  else print \"Your number was\" followed by the `number`\n",
        "\n",
        "Test input:  \n",
        "50  \n",
        "\n",
        "Expected output:  \n",
        "Your number was 50  \n",
        "\n",
        "Test input:  \n",
        "150  \n",
        "\n",
        "Expected output:  \n",
        "Number out of limits"
      ],
      "metadata": {
        "id": "YLRfH_lX-9LY"
      }
    },
    {
      "cell_type": "code",
      "source": [
        "def validate():\n",
        "  number = int(input (\"Please provide a number between 1 and 100: \"))\n",
        "  if number <1 or number >100:\n",
        "    print (\"Number out of limits: \", number)\n",
        "  else:\n",
        "    print (\"Your number was \", number)\n",
        "\n",
        "validate ()"
      ],
      "metadata": {
        "id": "cGKytvBY_AMS",
        "outputId": "aa48cf55-e5ab-47d1-c728-c7908e630095",
        "colab": {
          "base_uri": "https://localhost:8080/"
        }
      },
      "execution_count": null,
      "outputs": [
        {
          "output_type": "stream",
          "name": "stdout",
          "text": [
            "Please provide a number between 1 and 100: 140\n",
            "Number out of limits:  140\n"
          ]
        }
      ]
    },
    {
      "cell_type": "markdown",
      "source": [
        "---\n",
        "### Exercise 5 - getting a menu choice  \n",
        "\n",
        "Write a function called **process_menu()** which will:\n",
        "\n",
        "*  print the following menu:  \n",
        "\n",
        "What value would you like to see?  \n",
        "\n",
        "1. Pi  \n",
        "2. Plank’s constant  \n",
        "3. E  \n",
        "4. Square root of 2  \n",
        "\n",
        "*  ask the user to choose a **menu_option**  \n",
        "*  if the `menu_option` chosen is not between 1 and 4, print \"Invalid choice\"  \n",
        "*  else print the number of the `menu_option` chosen\n",
        "\n",
        "Test input:  \n",
        "2  \n",
        "\n",
        "Expected output:  \n",
        "2  \n",
        "\n",
        "Test input:  \n",
        "5  \n",
        "\n",
        "Expected output:  \n",
        "Invalid choice"
      ],
      "metadata": {
        "id": "2uybulo7_AxA"
      }
    },
    {
      "cell_type": "code",
      "source": [
        "def process_menu():\n",
        "  print (\" What value would you like to see?\")\n",
        "  print (\"1. Pi\")\n",
        "  print (\"2. Plank’s constant\")\n",
        "  print (\"3. E\")\n",
        "  print (\"4. Square root of 2\")\n",
        "\n",
        "  # user's choice\n",
        "  menu_option = int(input(\"Choose your option: \"))\n",
        "  if menu_option <1 or menu_option > 4:\n",
        "    print (\"Invlid choice\")\n",
        "  else:\n",
        "    print (\"You have chosen option \", menu_option)\n",
        "\n",
        "process_menu()\n"
      ],
      "metadata": {
        "id": "TXPKKhAF_CQ2",
        "outputId": "76c9f882-286c-49ef-a8dc-6738190a3fff",
        "colab": {
          "base_uri": "https://localhost:8080/"
        }
      },
      "execution_count": null,
      "outputs": [
        {
          "output_type": "stream",
          "name": "stdout",
          "text": [
            " What value would you like to see?\n",
            "1. Pi\n",
            "2. Plank’s constant\n",
            "3. E\n",
            "4. Square root of 2\n",
            "Choose your option: -2\n",
            "Invlid choice\n"
          ]
        }
      ]
    },
    {
      "cell_type": "markdown",
      "source": [
        "---\n",
        "### Exercise 6 - acting on menu choice  \n",
        "\n",
        "Write a function called **process_menu_options()** which will:  \n",
        "\n",
        "*  print the following menu:  \n",
        "\n",
        "What value would you like to see?  \n",
        "\n",
        "1. Pi  \n",
        "2. Plank’s constant  \n",
        "3. E  \n",
        "4. Square root of 2  \n",
        "\n",
        "*  ask the user to choose a **menu_option**  \n",
        "*  if the `menu_option` is 1 print 3.14159265359  \n",
        "*  otherwise (*elif*) the `menu_option` is 2 print 6.62607004 × 10-34 (in Python this would be written 6.62607004E-34  \n",
        "*  otherwise if the `menu_option` is 3 - print 2.71828  \n",
        "*  otherwise if the `menu_option` is 4 - print 1.414  \n",
        "*  otherwise if the `menu_option` is anything *else* - print \"Invalid choice\"  \n",
        "\n",
        "Test input:  \n",
        "1  \n",
        "\n",
        "Expected output:  \n",
        "3.14159265359\n",
        "\n",
        "Test input:  \n",
        "4  \n",
        "\n",
        "Expected output:  \n",
        "1.414  \n",
        "\n",
        "Test input:  \n",
        "9  \n",
        "\n",
        "Expected output:  \n",
        "Invalid choice\n"
      ],
      "metadata": {
        "id": "JU7C1jmp_DVa"
      }
    },
    {
      "cell_type": "code",
      "source": [
        "def process_menu_options():\n",
        "  print (\" What value would you like to see?\")\n",
        "  print (\"1. Pi\")\n",
        "  print (\"2. Plank’s constant\")\n",
        "  print (\"3. E\")\n",
        "  print (\"4. Square root of 2\")\n",
        "  menu_option = int(input(\"Choose your option: \"))\n",
        "\n",
        "  if menu_option==1:\n",
        "    print (3.14159265359)\n",
        "  elif menu_option==2:\n",
        "    print (6.62607004E-34)\n",
        "  elif menu_option==3:\n",
        "    print (2.71828)\n",
        "  elif menu_option==4:\n",
        "    print (1.414)\n",
        "  else:\n",
        "    print (\"Invalid choice\")\n",
        "\n",
        "process_menu_options()"
      ],
      "metadata": {
        "id": "xdtGFXpz_E4U",
        "colab": {
          "base_uri": "https://localhost:8080/"
        },
        "outputId": "6a78a9a8-2f13-457a-dd51-7489a89d7bd2"
      },
      "execution_count": 5,
      "outputs": [
        {
          "output_type": "stream",
          "name": "stdout",
          "text": [
            " What value would you like to see?\n",
            "1. Pi\n",
            "2. Plank’s constant\n",
            "3. E\n",
            "4. Square root of 2\n",
            "Choose your option: 0\n",
            "Invalid choice\n"
          ]
        }
      ]
    },
    {
      "cell_type": "markdown",
      "source": [
        "---\n",
        "### Exercise 7 - positive or negative\n",
        "\n",
        "Write a function called **report_pos_or_neg()** which will:  \n",
        "\n",
        "*  ask a user to input a **number**  \n",
        "*  if the `number` is greater than 0, print `number` \"is a positive number\"\n",
        "*  otherwise if it is less than 0 print `number` \"is a negative number  \n",
        "*  otherwise print `number` \"is neither positive or negative\"\n",
        "\n",
        "Test Inputs:  \n",
        "0  \n",
        "50  \n",
        "-50\n",
        "\n",
        "Expected outputs:\n",
        "0 is neither positive or negative  \n",
        "50 is a positive number  \n",
        "-50 is a negative number  "
      ],
      "metadata": {
        "id": "Id5iO-zx_Fwz"
      }
    },
    {
      "cell_type": "code",
      "source": [
        "def report_pos_or_neg():\n",
        "  number = int(input(\"Please anert your number: \"))\n",
        "  if number > 0:\n",
        "    print (number, \" is a positive number\")\n",
        "  elif number < 0:\n",
        "    print (number, \" is a negative number\")\n",
        "  else:\n",
        "    print (number, \"number is neither negative or positive\")\n",
        "\n",
        "report_pos_or_neg()"
      ],
      "metadata": {
        "id": "rXwhB7qU_GfW",
        "colab": {
          "base_uri": "https://localhost:8080/"
        },
        "outputId": "96b91aff-374c-4812-d5f9-60d1be158b9b"
      },
      "execution_count": 10,
      "outputs": [
        {
          "output_type": "stream",
          "name": "stdout",
          "text": [
            "Please anert your number: 0\n",
            "0 number is neither negative or positive\n"
          ]
        }
      ]
    },
    {
      "cell_type": "markdown",
      "source": [
        "---\n",
        "### Exercise 8 - traffic light actions  \n",
        "\n",
        "Write a function called **act_on_light()** which will:\n",
        "\n",
        "*  ask the user to enter a traffic light **colour**  \n",
        "*  if the `colour` is \"red\" print the message \"Stop the car\"  \n",
        "*  otherwise if the `colour` is \"amber\" print the message \"Be ready to stop\"  \n",
        "*  otherwise if the `colour` is \"green\" print the message \"Continue forward\"  \n",
        "*  otherwise if the `colour` is \"red and amber\" print the message \"Get ready to go\"  \n",
        "*  otherwise print \"That is not a traffic light colour\"  \n",
        "\n",
        "Test inputs:  \n",
        "red  \n",
        "amber  \n",
        "red and amber  \n",
        "blue    \n",
        "\n",
        "Expected output:  \n",
        "Stop the car  \n",
        "Be ready to stop  \n",
        "Get ready to go  \n",
        "That is not a traffic light colour  "
      ],
      "metadata": {
        "id": "09hW8Uyl_Hb4"
      }
    },
    {
      "cell_type": "code",
      "source": [
        "def act_on_light():\n",
        "  colour = input (\"Please enter traffic colour: \")\n",
        "  if colour == \"red\":\n",
        "    print (\"Stop the car\")\n",
        "  elif colour == \"amber\":\n",
        "    print (\"Be ready to stop\")\n",
        "  elif colour == \"green\":\n",
        "    print (\"Continue forward\")\n",
        "  elif colour == \"red and amber\":\n",
        "    print (\"Be readu to go\")\n",
        "  else:\n",
        "    print (\"That is not a traffic light colour\")\n",
        "\n",
        "act_on_light()"
      ],
      "metadata": {
        "id": "oLTVk8_u_IF2",
        "colab": {
          "base_uri": "https://localhost:8080/"
        },
        "outputId": "78e0039b-ba24-4355-9ede-51f3f50577f8"
      },
      "execution_count": 14,
      "outputs": [
        {
          "output_type": "stream",
          "name": "stdout",
          "text": [
            "Please enter traffic colour: blue\n",
            "That is not a traffic light colour\n"
          ]
        }
      ]
    },
    {
      "cell_type": "markdown",
      "source": [
        "---\n",
        "### Exercise 9 - dealing with capitals\n",
        "\n",
        "Write a function called **check_capital()** which will:\n",
        "\n",
        "*  ask the user what is the **capital** city of Scotland  \n",
        "*  If they answer correctly (Edinburgh), tell them that they are correct, Edinburgh is the capital city. If they enter anything else, tell them \"No, Edinburgh is the capital city\"\n",
        "\n",
        "Test Inputs:  \n",
        "London  \n",
        "Edinburgh  \n",
        "edinburgh\n",
        "\n",
        "Expected output:\n",
        "No, Edinburgh is the capital city  \n",
        "You are correct, Edinburgh is the capital city  \n",
        "No, Edinburgh is the capital city  \n",
        "\n",
        "*(think about why it is likely that the output here is incorrect, and change the code to make it work)*"
      ],
      "metadata": {
        "id": "2OAuZiRL_If3"
      }
    },
    {
      "cell_type": "code",
      "source": [
        "def check_capital():\n",
        "  capital = input (\"What is the capital of Scotland? \")\n",
        "  if capital == \"Edinburgh\":\n",
        "    print (\"Yes, you are right \", capital, \"is the capital\")\n",
        "  else:\n",
        "    print (\"No, Edinburgh is the capital city \")\n",
        "\n",
        "check_capital()"
      ],
      "metadata": {
        "id": "DSWaaPy2_J0F",
        "colab": {
          "base_uri": "https://localhost:8080/"
        },
        "outputId": "cf05149c-1c6f-4a95-efc8-40ce90db33df"
      },
      "execution_count": 18,
      "outputs": [
        {
          "output_type": "stream",
          "name": "stdout",
          "text": [
            "What is the capital of Scotland? edinburgh\n",
            "No, Edinburgh is the capital city \n"
          ]
        }
      ]
    },
    {
      "cell_type": "markdown",
      "source": [
        "---\n",
        "### Exercise 10 - calculator\n",
        "\n",
        "Write a function called **calculate()** which will:\n",
        "\n",
        "*  asks the user for 2 numbers (**num1** and **num2**) and an **operator** (+, -, /, *)\n",
        "\n",
        "Use *if* statements to allow the user to perform calculations on these 2 numbers and provide the answer in a print statement.\n",
        "\n",
        "Test Inputs:  \n",
        "num1 = 2, num2 = 3, operator = +  \n",
        "num1 = 2, num2 = 3, operator = -  \n",
        "num1 = 2, num2 = 3, operator = *  \n",
        "num1 = 2, num2 = 3, operator = /  \n",
        "\n",
        "Expected output:  \n",
        "Your answer is 5  \n",
        "Your answer is -1  \n",
        "Your answer is 6  \n",
        "Your answer is 0.6666666666  "
      ],
      "metadata": {
        "id": "6rM3WXMW_LJL"
      }
    },
    {
      "cell_type": "code",
      "source": [
        "def calculate():\n",
        "  num1 = int(input (\"Provide numner 1: \"))\n",
        "  num2 = int(input (\"Provide number 2: \"))\n",
        "  operator = input (\"Provide an operator: \")\n",
        "  if operator == \"+\":\n",
        "    print (\"Your answer is: \", num1+num2)\n",
        "  elif operator == \"-\":\n",
        "    print (\"Your answer is: \", num1-num2)\n",
        "  elif operator == \"*\":\n",
        "    print (\"Your answer is: \", num1*num2)\n",
        "  elif operator == \"/\":\n",
        "    print (\"Your answer is: \", num1/num2)\n",
        "\n",
        "  else:\n",
        "    print (\"Invalid operator\")\n",
        "\n",
        "calculate()"
      ],
      "metadata": {
        "id": "8ElbRAlw_LoU",
        "colab": {
          "base_uri": "https://localhost:8080/"
        },
        "outputId": "5b8766aa-cc78-4717-b26f-ccf80dc54f02"
      },
      "execution_count": 24,
      "outputs": [
        {
          "output_type": "stream",
          "name": "stdout",
          "text": [
            "Provide numner 1: 2\n",
            "Provide number 2: 3\n",
            "Provide an operator: //\n",
            "Invalid operator\n"
          ]
        }
      ]
    },
    {
      "cell_type": "code",
      "source": [],
      "metadata": {
        "id": "1lP2inls5GKz"
      },
      "execution_count": null,
      "outputs": []
    }
  ]
}