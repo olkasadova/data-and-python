{
  "nbformat": 4,
  "nbformat_minor": 0,
  "metadata": {
    "colab": {
      "provenance": [],
      "include_colab_link": true
    },
    "kernelspec": {
      "name": "python3",
      "display_name": "Python 3"
    },
    "language_info": {
      "name": "python"
    }
  },
  "cells": [
    {
      "cell_type": "markdown",
      "metadata": {
        "id": "view-in-github",
        "colab_type": "text"
      },
      "source": [
        "<a href=\"https://colab.research.google.com/github/olkasadova/data-and-python/blob/main/Copy_of_DataTypes_Practice2.ipynb\" target=\"_parent\"><img src=\"https://colab.research.google.com/assets/colab-badge.svg\" alt=\"Open In Colab\"/></a>"
      ]
    },
    {
      "cell_type": "markdown",
      "source": [
        "<a href=\"https://colab.research.google.com/github/StefanMeyer7/Python-Fundamentals/blob/main/DataTypes_Practice1.ipynb\" target=\"_parent\"><img src=\"https://colab.research.google.com/assets/colab-badge.svg\" alt=\"Open In Colab\"/></a>"
      ],
      "metadata": {
        "id": "hypbENCo_DGn"
      }
    },
    {
      "cell_type": "markdown",
      "source": [
        "# Data Types and Operators\n",
        "\n",
        "---"
      ],
      "metadata": {
        "id": "CDpxVUXkxXQX"
      }
    },
    {
      "cell_type": "markdown",
      "source": [
        "# Changing Data Input Type\n",
        "**Recap**: to get input from the user and store it in a variable, use the instruction  \n",
        "\n",
        "*variableName = input(\"message asking user for required information\")  *\n",
        "\n",
        "**Remember**: Unless you state otherwise, all input is String data  \n",
        "\n",
        "Integers are whole numbers and can be both positive or negative.  \n",
        "Floats are decimal numbers which have a 'floating' decimal point.  \n",
        "To change the input data type, we can specify the type of data we would like from the user  \n",
        "\n",
        "*variableNameInteger = int(input(\"Please input a whole number \"))*  \n",
        "\n",
        "*variableNameFloat = float(input(\"Please input a decimal number \")) *\n",
        "\n",
        "By using either *int()* or *float()* it tells Python what kind of data will be stored in the variable  \n"
      ],
      "metadata": {
        "id": "92y24d-ZxY4s"
      }
    },
    {
      "cell_type": "code",
      "source": [],
      "metadata": {
        "id": "nhX-ra6QxjuM"
      },
      "execution_count": null,
      "outputs": []
    },
    {
      "cell_type": "markdown",
      "source": [
        "---\n",
        "### Exercise 1 - changing data type\n",
        "Write a function called **print_details()** which will:  \n",
        "\n",
        "*  ask the user their name, age and height in metres  \n",
        "*  print the message Hello `name` you are `age` years old and `height` metres tall  \n",
        "\n",
        "*Remember to specify the correct data type for each input*   \n",
        "\n",
        "Test Input:  \n",
        "Jean  \n",
        "52  \n",
        "2.3  \n",
        "\n",
        "Expected Output:  \n",
        "Hello Jean you are 52 years old and 2.3 metres tall\n"
      ],
      "metadata": {
        "id": "RSZmCs9cxlZg"
      }
    },
    {
      "cell_type": "code",
      "source": [
        "def print_details():\n",
        "  name = input (\"Please give your name:\" )\n",
        "  age = int (input (\"Please provide your age: \" ))\n",
        "  height = float (input(\"Please provide your height: \" ))\n",
        "  print (\"Hello\", name, \"you are\", age, \"old\", \"and\", height, \"meters tall\" )\n",
        "\n",
        "print_details()"
      ],
      "metadata": {
        "id": "7HrgCotAxnZk",
        "colab": {
          "base_uri": "https://localhost:8080/"
        },
        "outputId": "3655ffd5-f836-49e6-d37c-ccf61e1f27e5"
      },
      "execution_count": 4,
      "outputs": [
        {
          "output_type": "stream",
          "name": "stdout",
          "text": [
            "Please give your name:Olha\n",
            "Please provide your age: 45\n",
            "Please provide your height: 1.63\n",
            "Hello Olha you are 45 old and 1.63 meters tall\n"
          ]
        }
      ]
    },
    {
      "cell_type": "markdown",
      "source": [
        "---\n",
        "### Exercise 2 - boolean variables\n",
        "\n",
        "A **boolean variable** can hold just two values, True or False.  This type of variable is hugely valuable in holding onto the state of things.  For example, a boolean variable called loggedIn might hold True if the user is loggedIn and False otherwise.  This means that at any point while a program is running, it is possible to ask the question \"Is the user logged in?\".  The answer will depend on the value of the variable loggedIn.  \n",
        "\n",
        "Although we will use the values True and False as words, Python stores them as 1 for true and 0 for false.   \n",
        "\n",
        "To demonstrate this, write a function called **show_trueFalse()** which will:  \n",
        "\n",
        "*  create a variable called **logged_in** and assign it the value True (use the assignment operator **=** the same as usual)  \n",
        "*  create a variable called **logged_in_as_num** and assign it the value int(True)  \n",
        "*  print `logged_in` and `logged_in_as_num`\n",
        "\n",
        "Expected output:  \n",
        "True 1\n",
        "\n",
        "When you have run this, change True to False in both places.\n",
        "\n",
        "Expected output:  \n",
        "False 0\n"
      ],
      "metadata": {
        "id": "RoBOV7gWxn2A"
      }
    },
    {
      "cell_type": "code",
      "source": [
        "def show_trueFalse():\n",
        "  logged_in = False #assign boolean value\n",
        "  logged_in_as_num = int (False)\n",
        "  print (logged_in, \" \", logged_in_as_num)\n",
        "\n",
        "show_trueFalse()"
      ],
      "metadata": {
        "id": "fwm0o7eexqA8",
        "colab": {
          "base_uri": "https://localhost:8080/"
        },
        "outputId": "f060b32e-e094-4326-da1b-cc887707503c"
      },
      "execution_count": 6,
      "outputs": [
        {
          "output_type": "stream",
          "name": "stdout",
          "text": [
            "False   0\n"
          ]
        }
      ]
    },
    {
      "cell_type": "markdown",
      "source": [
        "---\n",
        "### Exercise 3 - converting float to int\n",
        "\n",
        "Write a function called **count_poundCoins()** which will:  \n",
        "\n",
        "*  ask the user to enter an amount in pounds and pence and assign this value to a float variable called **pounds_pence**  \n",
        "*  convert the float variable to int and assign this value to a variable called **pound_coins**  \n",
        "*  print the message Number of pound coins `pound_coins`  \n",
        "\n",
        "Test input:  \n",
        "3.48  \n",
        "\n",
        "Expected output:  \n",
        "Number of pound coins 3\n",
        "\n"
      ],
      "metadata": {
        "id": "GwAxLjtyxqNK"
      }
    },
    {
      "cell_type": "code",
      "source": [
        "def count_poundCoins():\n",
        "  pounds_pence = float (input (\"Please enter an amount in pounds: \"))\n",
        "  pounds_coins = int (pounds_pence)\n",
        "  print (\"Number of coins: \", pounds_coins)\n",
        "\n",
        "count_poundCoins()"
      ],
      "metadata": {
        "id": "ir8z6ga8xsBF",
        "colab": {
          "base_uri": "https://localhost:8080/"
        },
        "outputId": "5b372afc-0f16-48c5-8940-406a15417b45"
      },
      "execution_count": 7,
      "outputs": [
        {
          "output_type": "stream",
          "name": "stdout",
          "text": [
            "Please enter an amount in pounds: 3.48\n",
            "Number of coins:  3\n"
          ]
        }
      ]
    },
    {
      "cell_type": "markdown",
      "source": [
        "---\n",
        "### Exercise 4 - converting int to string\n",
        "\n",
        "Write a function called **format_currency()** which will:\n",
        "\n",
        "*  ask the user to enter a number of pounds and assign this to an integer variable called **num_pounds**  \n",
        "*  convert numPounds to a string and assign it to a variable called **pounds**  \n",
        "*  create a String variable called **currency** which has a \"£\", pounds, \".00\" joined together\n",
        "*  print the resulting currency, including the £ sign  \n",
        "\n",
        "Test input:  \n",
        "4\n",
        "\n",
        "Expected output:  \n",
        "£4.00\n"
      ],
      "metadata": {
        "id": "8-q4QIO4xs4x"
      }
    },
    {
      "cell_type": "code",
      "source": [
        "def format_currency():\n",
        "  num_pounds = int(input (\"Please enter a number of pounds\"))\n",
        "  pounds = str (num_pounds)\n",
        "  currency = \"£\"+pounds+\".00\"\n",
        "  print (currency)\n",
        "\n",
        "format_currency()"
      ],
      "metadata": {
        "id": "2K_4Wl60xvam",
        "colab": {
          "base_uri": "https://localhost:8080/"
        },
        "outputId": "813d26f0-6135-4339-f9db-686e965ffde2"
      },
      "execution_count": 10,
      "outputs": [
        {
          "output_type": "stream",
          "name": "stdout",
          "text": [
            "Please enter a number of pounds-8\n",
            "£-8.00\n"
          ]
        }
      ]
    },
    {
      "cell_type": "markdown",
      "source": [
        "---\n",
        "### Exercise 5 - area of a circle\n",
        "\n",
        "Write a function called **calculate_area()** which will:\n",
        "\n",
        "*  ask the user to enter the **radius** of a circle (which could be a float or an int)  \n",
        "*  create a variable called **pi** and assign it the value 3.14159\n",
        "*  calculate the **area** of the circle (`area = pi * radius * radius`)  \n",
        "*  print the area of the circle to 2 decimal places (`print(round(area, 2))` ).  \n",
        "\n",
        "Test input:  \n",
        "5\n",
        "\n",
        "Expected output:  \n",
        "78.54"
      ],
      "metadata": {
        "id": "-QxgOCm0xv4E"
      }
    },
    {
      "cell_type": "code",
      "source": [
        "def calculate_area():\n",
        "  radius = float (input(\"Please enter the radius: \"))\n",
        "  pi = 3.14159\n",
        "  area = pi * radius * radius\n",
        "  print (round(area, 2))\n",
        "\n",
        "calculate_area()"
      ],
      "metadata": {
        "id": "2Az3BEzWxx5e",
        "colab": {
          "base_uri": "https://localhost:8080/"
        },
        "outputId": "9268da42-e490-4506-9785-b7775869ecc4"
      },
      "execution_count": 11,
      "outputs": [
        {
          "output_type": "stream",
          "name": "stdout",
          "text": [
            "Please enter the radius: 5\n",
            "78.54\n"
          ]
        }
      ]
    }
  ]
}