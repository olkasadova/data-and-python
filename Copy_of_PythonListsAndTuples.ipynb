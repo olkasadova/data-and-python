{
  "cells": [
    {
      "cell_type": "markdown",
      "metadata": {
        "id": "view-in-github",
        "colab_type": "text"
      },
      "source": [
        "<a href=\"https://colab.research.google.com/github/olkasadova/data-and-python/blob/main/Copy_of_PythonListsAndTuples.ipynb\" target=\"_parent\"><img src=\"https://colab.research.google.com/assets/colab-badge.svg\" alt=\"Open In Colab\"/></a>"
      ]
    },
    {
      "cell_type": "markdown",
      "metadata": {
        "id": "Vvcpt-18AqVE"
      },
      "source": [
        "<a href=\"https://colab.research.google.com/github/StefanMeyer7/Python-Fundamentals/blob/main/PythonListsAndTuples.ipynb\" target=\"_parent\"><img src=\"https://colab.research.google.com/assets/colab-badge.svg\" alt=\"Open In Colab\"/></a>"
      ]
    },
    {
      "cell_type": "markdown",
      "metadata": {
        "id": "RXngLqUPdKdP"
      },
      "source": [
        "# Lists and tuples\n",
        "\n",
        "Often we need to store a number of single items of data together so that they can be processed together. This might be because all the data refers to one person (e.g. name, age, gender, etc) OR it might be because we have a set of data (e.g. all the items that should be displayed in a drop down list, such as all the years from this year back to 100 years ago so that someone can select their year of birth)\n",
        "\n",
        "Python has a range of data structures available including:\n",
        "*   lists  \n",
        "*   tuples  \n",
        "*   dictionaries  \n",
        "*   sets\n",
        "\n",
        "This worksheet looks at lists and tuples.\n",
        "\n",
        "## List\n",
        "A list is a set of related, individual data objects, that are indexed and can be processed as a whole, as subsets or as individual items.  Lists are stored, essentially, as contiguous items in memory so that access can be as quick as possible.  However, they are mutable (they can be changed after they are created and stored) and so those mechanisms need to include extra functionality to deal with changing list sizes.\n",
        "\n",
        "## Tuple\n",
        "Essentially the same as a list but it is immutable.  Once it has been created it can't be changed.  It is stored in memory as contiguous items, with the size required being fixed right from the start.  This makes it faster to access.\n",
        "\n",
        "The code below will create two lists and a tuple.\n",
        "*   the first list contains 1000 random numbers between 1 and 100\n",
        "*   the second list is of random length (up to 5000) and each item is one of the 9 characteristics that are protected under the Equality Act in the UK.\n",
        "*   the tuple contains the 9 protected characteristics\n",
        "\n",
        "Before you start the exercises, run the code below.  It will generate the lists and tuple so that you can use them in the exercises.  If you need to recreate the lists again (because you have changed them and need to work on the originals, just run this cell again).\n",
        "\n",
        "***Note:***  *a list variable contains a reference to the start of the list in memory, rather than storing the list itself.  This means that if you assign the list to another variable (to make a copy), it will only copy across the reference.  If you change the copy, you change the original list.*\n",
        "\n",
        "*If you need to make a copy of the list you will need to use a loop to create a new list and copy all items across.*"
      ]
    },
    {
      "cell_type": "code",
      "execution_count": 5,
      "metadata": {
        "id": "wa-gYCbUdMjn"
      },
      "outputs": [],
      "source": [
        "from random import randint, choice\n",
        "\n",
        "def get_num_list():\n",
        "  num_list = [randint(1,100) for n in range(1000)]\n",
        "  return num_list\n",
        "\n",
        "def get_protected_characteristics():\n",
        "  characteristics_tuple = ('age','disability','gender reassignment','marriage and civil partnership','pregnancy and maternity','race','religion or belief','sex','sexual orientation')\n",
        "  return characteristics_tuple\n",
        "\n",
        "def get_protected_characteristic_list(protected_characteristics):\n",
        "  char_list = [choice(protected_characteristics) for ch in range(randint(1,5000))]\n",
        "  return char_list\n",
        "\n",
        "nums = get_num_list()\n",
        "protected_characteristics = get_protected_characteristics()\n",
        "characteristics = get_protected_characteristic_list(protected_characteristics)"
      ]
    },
    {
      "cell_type": "markdown",
      "metadata": {
        "id": "HS8pOqUydNtl"
      },
      "source": [
        "## The exercises below will use the lists:  \n",
        "*   **nums** (a list of between 1 and 1000 random numbers, each number is between 0 and 1000)\n",
        "*   **characteristics** (a list of 5000 random protected_characteristics)\n",
        "\n",
        "and the tuple:\n",
        "*  **protected_characteristics** (a set of the 9 protected characteristics identified in the Equality Act)\n",
        "\n",
        "## You can run the cell above any number of times to generate new lists."
      ]
    },
    {
      "cell_type": "markdown",
      "metadata": {
        "id": "nkyY_SHBdPGi"
      },
      "source": [
        "---\n",
        "### Exercise 1 - list head, tail and shape\n",
        "\n",
        "Write a function, **describe_list()** which will:\n",
        "*  print the length of the list `nums`\n",
        "*  print the first 10 items in `nums`  \n",
        "*  print the last 5 items in `nums`"
      ]
    },
    {
      "cell_type": "code",
      "execution_count": null,
      "metadata": {
        "id": "VIq1He-qdPwo",
        "outputId": "5b6bd710-b1fb-41d2-84cd-50df6485c1f1",
        "colab": {
          "base_uri": "https://localhost:8080/"
        }
      },
      "outputs": [
        {
          "output_type": "stream",
          "name": "stdout",
          "text": [
            "1000\n",
            "[78, 8, 31, 6, 80, 49, 34, 62, 75, 86, 4]\n",
            "[95, 7, 100, 49, 4, 77]\n"
          ]
        }
      ],
      "source": [
        "def describe_list(nums):\n",
        "  print (len(nums))\n",
        "  print (nums [:11])\n",
        "  print (nums [-6:])\n",
        "\n",
        "describe_list(nums)\n"
      ]
    },
    {
      "cell_type": "markdown",
      "metadata": {
        "id": "eDMYL9W_dQ4S"
      },
      "source": [
        "---\n",
        "### Exercise 2 - show tuple items\n",
        "\n",
        "Write a function which will:\n",
        "*   use a loop to print the list of protected characteristics from the `protected_characteristics` tuple.\n"
      ]
    },
    {
      "cell_type": "code",
      "execution_count": null,
      "metadata": {
        "id": "owrfFpuqdRc8",
        "outputId": "51422516-599b-4051-aca1-9261cc432d44",
        "colab": {
          "base_uri": "https://localhost:8080/"
        }
      },
      "outputs": [
        {
          "output_type": "stream",
          "name": "stdout",
          "text": [
            "age\n",
            "disability\n",
            "gender reassignment\n",
            "marriage and civil partnership\n",
            "pregnancy and maternity\n",
            "race\n",
            "religion or belief\n",
            "sex\n",
            "sexual orientation\n"
          ]
        }
      ],
      "source": [
        "def loop_list (protected_characteristics):\n",
        "  for i in range (len (protected_characteristics)):\n",
        "    print (protected_characteristics[i])\n",
        "\n",
        "loop_list (protected_characteristics)"
      ]
    },
    {
      "cell_type": "markdown",
      "metadata": {
        "id": "zPFZlkdSdSRf"
      },
      "source": [
        "---\n",
        "### Exercise 3 - list a random subset\n",
        "\n",
        "Write a function which will:\n",
        "*  calculate the position of the middle item in the `characteristics` list   \n",
        "(*Hint: use len() to help with this*)\n",
        "*  calculate the position of the item that is 5 places before the middle item\n",
        "*  calculate the position of the item that is 5 places after the middle item\n",
        "*  print the part of the list that includes the items from 5 places before to 5 places after.  \n",
        "\n",
        "Expected output:  \n",
        "Your list will include 11 items."
      ]
    },
    {
      "cell_type": "code",
      "execution_count": null,
      "metadata": {
        "id": "FN_0wbpPdSsU",
        "outputId": "fc4f247c-e781-4701-cfce-695818274523",
        "colab": {
          "base_uri": "https://localhost:8080/"
        }
      },
      "outputs": [
        {
          "output_type": "stream",
          "name": "stdout",
          "text": [
            "['pregnancy and maternity', 'disability', 'disability', 'religion or belief', 'pregnancy and maternity', 'race', 'religion or belief', 'marriage and civil partnership', 'sex', 'race', 'age']\n",
            "562 556 567\n"
          ]
        }
      ],
      "source": [
        "def list_random_subset(characteristics):\n",
        "  middle = int((len (characteristics)/2))\n",
        "  print (characteristics [middle-6:middle+5])\n",
        "  print (middle, middle-6, middle+5)\n",
        "\n",
        "list_random_subset(characteristics)"
      ]
    },
    {
      "cell_type": "markdown",
      "metadata": {
        "id": "3O63UD_LdT4X"
      },
      "source": [
        "---\n",
        "### Exercise 4 - create a copy\n",
        "\n",
        "Write a function which will: use a for loop to create a copy of the `nums` list:\n",
        "\n",
        "*   create a new, empty, list called **new_nums**  (*Hint: an empty list is [ ]*)\n",
        "*   use a for loop which uses the following syntax:  `for num in nums:`\n",
        "*   each time round the loop append `num` to `new_nums`  ( *`new_nums.append(num)`*)\n",
        "*   print the first 10 items of `new_nums`\n",
        "*   print the first 10 items of `nums`\n",
        "*   print the length of both lists"
      ]
    },
    {
      "cell_type": "code",
      "execution_count": null,
      "metadata": {
        "id": "WldCmXYbdUX4",
        "outputId": "961e048d-73ec-449d-a55d-adc5f9b61f05",
        "colab": {
          "base_uri": "https://localhost:8080/"
        }
      },
      "outputs": [
        {
          "output_type": "stream",
          "name": "stdout",
          "text": [
            "[78, 8, 31, 6, 80, 49, 34, 62, 75]\n",
            "[78, 8, 31, 6, 80, 49, 34, 62, 75]\n",
            "1000 1000\n"
          ]
        }
      ],
      "source": [
        "def create_copy(nums):\n",
        "  new_nums = list()\n",
        "  #new_nums = [num for num in nums]\n",
        "  for num in nums:\n",
        "    new_nums.append(num)\n",
        "  print (new_nums [:9])\n",
        "  print (nums [:9])\n",
        "  print (len(new_nums), len(nums))\n",
        "\n",
        "create_copy(nums)\n"
      ]
    },
    {
      "cell_type": "markdown",
      "metadata": {
        "id": "CREQbs7-dXRq"
      },
      "source": [
        "\n",
        "\n",
        "```\n",
        "# This is formatted as code\n",
        "```\n",
        "\n",
        "---\n",
        "### Exercise 5 - count the occurrence of age in characteristics\n",
        "\n",
        "Write a function which will use the list method:\n",
        "\n",
        "`num_items = list_name.count(item)`\n",
        "\n",
        "to count the number of occurrences of 'age' in the `characteristics` list.  Print the result."
      ]
    },
    {
      "cell_type": "code",
      "execution_count": null,
      "metadata": {
        "id": "8ADjU2-ddX0S",
        "outputId": "d7235a70-96e4-457b-c840-7f4b550d824a",
        "colab": {
          "base_uri": "https://localhost:8080/"
        }
      },
      "outputs": [
        {
          "output_type": "stream",
          "name": "stdout",
          "text": [
            "137\n",
            "['race', 'race', 'race', 'race', 'race', 'race', 'race', 'race', 'race', 'race', 'race', 'race', 'race', 'race', 'race', 'race', 'race', 'race', 'race', 'race', 'race', 'race', 'race', 'race', 'race', 'race', 'race', 'race', 'race', 'race', 'race', 'race', 'race', 'race', 'race', 'race', 'race', 'race', 'race', 'race', 'race', 'race', 'race', 'race', 'race', 'race', 'race', 'race', 'race', 'race', 'race', 'race', 'race', 'race', 'race', 'race', 'race', 'race', 'race', 'race', 'race', 'race', 'race', 'race', 'race', 'race', 'race', 'race', 'race', 'race', 'race', 'race', 'race', 'race', 'race', 'race', 'race', 'race', 'race', 'race', 'race', 'race', 'race', 'race', 'race', 'race', 'race', 'race', 'race', 'race', 'race', 'race', 'race', 'race', 'race', 'race', 'race', 'race', 'race', 'race', 'race', 'race', 'race', 'race', 'race', 'race', 'race', 'race', 'race', 'race', 'race', 'race', 'race', 'race', 'race', 'race', 'race', 'race', 'race', 'race', 'race']\n",
            "121\n"
          ]
        }
      ],
      "source": [
        "def count_occurance(characteristics):\n",
        "  for item in characteristics:\n",
        "    if item in \"age\":\n",
        "      #list_name.append(item)\n",
        "      num_items = characteristics.count(item) #count age items in existing list\n",
        "\n",
        "    list_name_race = [item1 for item1 in characteristics if item1 in \"race\"] #cretae a new list with race items only\n",
        "    num_items1 = len (list_name_race)\n",
        "\n",
        "  print (num_items)\n",
        "  print (list_name_race)\n",
        "  print (num_items1)\n",
        "\n",
        "count_occurance(characteristics)"
      ]
    },
    {
      "cell_type": "markdown",
      "metadata": {
        "id": "_eZfQ9pSdZFa"
      },
      "source": [
        "---\n",
        "### Exercise 6 - sort the nums list\n",
        "\n",
        "Write a function which will:\n",
        "*   call the function `get_num_list()` and store the result in a new list called **sort_nums**\n",
        "*   print the first, and last, 20 items in the `sort_nums` list\n",
        "*   use the `list_name.sort()` method to sort the `sort_nums` list into ascending order\n",
        "*   print the first, and last, 20 items again  \n",
        "*   use the `list_name.sort()` method again to sort the `sort_nums` list into descending order\n",
        "*   print the first, and last, 20 items again"
      ]
    },
    {
      "cell_type": "code",
      "execution_count": 3,
      "metadata": {
        "id": "7JyMh6MpdZjm",
        "outputId": "c807bd92-c334-4c2a-cc8c-3d5db72591e7",
        "colab": {
          "base_uri": "https://localhost:8080/"
        }
      },
      "outputs": [
        {
          "output_type": "stream",
          "name": "stdout",
          "text": [
            "fisrt, last 20 [44, 13, 1, 3, 31, 6, 31, 81, 8, 45, 99, 9, 1, 91, 79, 60, 57, 18, 44, 61] last [64, 80, 43, 57, 59, 7, 69, 9, 44, 91, 76, 59, 17, 21, 50, 95, 83, 60, 41, 58]\n",
            "fisrt, last 20 sorted [1, 1, 1, 1, 1, 1, 1, 1, 1, 1, 2, 2, 2, 2, 2, 2, 2, 2, 2, 3] last [98, 98, 98, 98, 98, 99, 99, 99, 100, 100, 100, 100, 100, 100, 100, 100, 100, 100, 100, 100]\n",
            "fisrt, last 20 reversed sorted [100, 100, 100, 100, 100, 100, 100, 100, 100, 100, 100, 100, 99, 99, 99, 98, 98, 98, 98, 98] last [3, 2, 2, 2, 2, 2, 2, 2, 2, 2, 1, 1, 1, 1, 1, 1, 1, 1, 1, 1]\n"
          ]
        }
      ],
      "source": [
        "def sort_nums_list():\n",
        "  sort_nums = get_num_list()\n",
        "  print (\"fisrt, last 20\", sort_nums[:20], \"last\", sort_nums[-20:] )\n",
        "  sort_nums.sort()\n",
        "  print (\"fisrt, last 20 sorted\", sort_nums[:20], \"last\", sort_nums[-20:] )\n",
        "  sort_nums.sort(reverse=True)\n",
        "  print (\"fisrt, last 20 reversed sorted\", sort_nums[:20], \"last\", sort_nums[-20:] )\n",
        "\n",
        "sort_nums_list()"
      ]
    },
    {
      "cell_type": "markdown",
      "metadata": {
        "id": "NmAMPVqada0W"
      },
      "source": [
        "---\n",
        "### Exercise 7 - get statistics (max(), min(), sum() )\n",
        "\n",
        "Write a function which will:\n",
        "*   print the maximum and minimum numbers in the `nums` list  \n",
        "*   print the sum of the `nums` list\n",
        "*   calculate and print the average of the `nums` list (using `len()` to help)"
      ]
    },
    {
      "cell_type": "code",
      "execution_count": null,
      "metadata": {
        "id": "h7lH7x-3dbcC",
        "outputId": "f98d54fc-0c14-412f-ea02-fa5d0a345770",
        "colab": {
          "base_uri": "https://localhost:8080/"
        }
      },
      "outputs": [
        {
          "output_type": "stream",
          "name": "stdout",
          "text": [
            "Max number  100\n",
            "Min number  1\n",
            "Sum  50331\n"
          ]
        }
      ],
      "source": [
        "def get_statistics():\n",
        "  nums_list = get_num_list()\n",
        "  print (\"Max number \", max(nums_list)) #print the max number\n",
        "  print (\"Min number \", min(nums_list)) #print the min number\n",
        "  print (\"Sum \", sum(nums_list)) #print the sum\n",
        "\n",
        "get_statistics()"
      ]
    },
    {
      "cell_type": "markdown",
      "metadata": {
        "id": "SBxi9jgqdckp"
      },
      "source": [
        "---\n",
        "### Exercise 8 - percentage difference\n",
        "\n",
        "Write a function which will:\n",
        "*   generate a new list called **ex8_nums** using `get_num_list()`\n",
        "*   calculate and print the percentage difference between the first number in each list (as a percentage of the number in the nums list) (Hint:  find the difference between the two numbers, divide the difference by the number in `nums` and multiply by 100)\n",
        "*   calculate and print the percentage difference between the last numbers in each list in the same way\n",
        "*   calculate and print the percentage difference between the middle numbers in each list in the same way.\n",
        "*   calculate and print the percentage difference between the sums of each list in the same way"
      ]
    },
    {
      "cell_type": "code",
      "execution_count": null,
      "metadata": {
        "id": "gJ0YWNn6ddYZ",
        "outputId": "fede4cff-b78e-498b-a2b5-0aa289c5e643",
        "colab": {
          "base_uri": "https://localhost:8080/"
        }
      },
      "outputs": [
        {
          "output_type": "stream",
          "name": "stdout",
          "text": [
            "First indexes  78 85 -9.0\n",
            "Last indexes:  77 23 70.1\n",
            "500\n",
            "Middle indexes:  37 91 70.1\n",
            "Sums:  50726 50208 1.0\n"
          ]
        }
      ],
      "source": [
        "def find_middle(nums):\n",
        "  middle = int(len(nums))/2\n",
        "  return int(middle)\n",
        "\n",
        "\n",
        "def percentage_difference(nums):\n",
        "  ex8_nums = get_num_list()\n",
        "  #percentage differnece between first values\n",
        "  percentage_first = round((nums[0]-ex8_nums[0])/nums[0]*100, 1)\n",
        "  print (\"First indexes \", nums[0], ex8_nums[0], percentage_first)\n",
        "\n",
        "   #percentage differnece between last values\n",
        "  percentage_last = round((nums[-1]-ex8_nums[-1])/nums[-1]*100, 1)\n",
        "  print (\"Last indexes: \",nums[-1], ex8_nums[-1], percentage_last)\n",
        "\n",
        "   #percentage differnece between middle values\n",
        "  middle_index = find_middle(nums) #calculate middle index. Use the same index for ex8_nums as lists are the same\n",
        "  print (middle_index)\n",
        "  percentage_middle = round((nums[middle_index]-ex8_nums[middle_index])/nums[middle_index]*100, 1)\n",
        "\n",
        "  #percentage_middle = round((nums[len(nums)/2]-ex8_nums[len(ex8_nums)/2])/nums[len(nums)/2]*100, 1) - the same without function\n",
        "  print (\"Middle indexes: \",nums[middle_index], ex8_nums[middle_index], percentage_last)\n",
        "\n",
        "   #percentage differnece between sums\n",
        "  percentage_sum = round((sum(nums) - sum(ex8_nums))/ sum(nums)*100, 1)\n",
        "  print (\"Sums: \", sum(nums), sum(ex8_nums), percentage_sum)\n",
        "\n",
        "percentage_difference(nums)\n"
      ]
    },
    {
      "cell_type": "markdown",
      "metadata": {
        "id": "ccV3tNxcdeU5"
      },
      "source": [
        "---\n",
        "### Exercise 9 - characteristic counts\n",
        "\n",
        "Write a function which will:\n",
        "*  iterate through the `protected_characteristics` tuple and for each **characteristic**:\n",
        "*   *   count the number of occurrences of that `characteristic` in the `characteristics` list\n",
        "*   *   print the `protected_characteristic` and the **count**  \n",
        "\n",
        "Example expected output:\n",
        "\n",
        "age 100  \n",
        "disability 120  \n",
        "gender reassignment 120  \n",
        "marriage and civil partnership 111  \n",
        "pregnancy and maternity 103  \n",
        "race 106  \n",
        "religion or belief 95  \n",
        "sex 110  \n",
        "sexual orientation 113  \n",
        "\n",
        "Extra learning:  you can read [here](https://thispointer.com/python-how-to-pad-strings-with-zero-space-or-some-other-character/) how to justify the printed characteristic so that the output is organised into two columns as shown below:  \n",
        "![tabulated output](https://drive.google.com/uc?id=1CCXfX6K5ZeDefnq7vUsqxCDmqvcfY8Mz)\n",
        "\n",
        "\n",
        "\n"
      ]
    },
    {
      "cell_type": "code",
      "execution_count": 18,
      "metadata": {
        "id": "T8r6wDzmde0c",
        "colab": {
          "base_uri": "https://localhost:8080/"
        },
        "outputId": "54d68754-4fdf-4652-d5a4-5d058fa04c00"
      },
      "outputs": [
        {
          "output_type": "stream",
          "name": "stdout",
          "text": [
            "+--------------------------------+-------+\n",
            "|    Protected Characteristic    | Count |\n",
            "+--------------------------------+-------+\n",
            "|              age               |  299  |\n",
            "|           disability           |  259  |\n",
            "|      gender reassignment       |  268  |\n",
            "| marriage and civil partnership |  275  |\n",
            "|    pregnancy and maternity     |  301  |\n",
            "|              race              |  274  |\n",
            "|       religion or belief       |  275  |\n",
            "|              sex               |  261  |\n",
            "|       sexual orientation       |  272  |\n",
            "+--------------------------------+-------+\n"
          ]
        }
      ],
      "source": [
        "from prettytable import PrettyTable\n",
        "\n",
        "def characteristic_counts(characteristics):\n",
        "  table = PrettyTable()\n",
        "  table.field_names = ['Protected Characteristic', 'Count']\n",
        "\n",
        "  for charact_item in range (len (protected_characteristics)):\n",
        "    charact_item= protected_characteristics [charact_item]\n",
        "    count_item = characteristics.count (charact_item)\n",
        "    table.add_row([charact_item, count_item])\n",
        "\n",
        "   # print (charact_item, count_item) - ordinary print\n",
        "  print (table)\n",
        "\n",
        "\n",
        "characteristic_counts(characteristics)"
      ]
    },
    {
      "cell_type": "markdown",
      "metadata": {
        "id": "jb0xfOMRdpnC"
      },
      "source": [
        "---\n",
        "### Exercise 10 - characteristics statistics\n",
        "\n",
        "Assuming that the `characteristics` list may have been taken from a study of cases that have been taken to court in relation to the Equality Act.  \n",
        "\n",
        "Write a function which will:\n",
        "\n",
        "*   find the most common characteristic resulting in court action, from this population\n",
        "*   print this in a message, e.g. The characteristic with the highest number of court cases is:  *characteristic*\n",
        "*   print the list of `protected_characteristics`, on one line if possible - see [here](https://www.geeksforgeeks.org/g-fact-25-print-single-multiple-variable-python/)\n",
        "*   ask the user to enter a characteristic that they would like to see statistics on and use a while loop to continue until the user has entered a valid characteristic\n",
        "*   print the characteristic, its frequency and the percentage that this frequency is of the whole population."
      ]
    },
    {
      "cell_type": "code",
      "execution_count": 51,
      "metadata": {
        "id": "HQ0nWZhLdqI2",
        "colab": {
          "base_uri": "https://localhost:8080/"
        },
        "outputId": "44e3ae34-e4ad-4b95-a7ee-246811252706"
      },
      "outputs": [
        {
          "output_type": "stream",
          "name": "stdout",
          "text": [
            "The characteristic with the HIGHEST number of court cases is: pregnancy and maternity Number of occurances is -  301\n",
            "List of protected characteristis ('age', 'disability', 'gender reassignment', 'marriage and civil partnership', 'pregnancy and maternity', 'race', 'religion or belief', 'sex', 'sexual orientation')\n",
            "Please, enter the characteristics you are interested in from the list: 8786\n",
            "Invalid characteristc, try again\n",
            "Please, enter the characteristics you are interested in from the list: 21312\n",
            "Invalid characteristc, try again\n",
            "Please, enter the characteristics you are interested in from the list: asdasf\n",
            "Invalid characteristc, try again\n",
            "Please, enter the characteristics you are interested in from the list: age\n",
            "Your statistics:  age , cases 299 percentage 12.0 %\n"
          ]
        }
      ],
      "source": [
        "def characteristics_statistics (characteristics):\n",
        "  count_cases_list = list()\n",
        "  for characteristic_index in range (len (protected_characteristics)):\n",
        "    charact_value = protected_characteristics [characteristic_index]\n",
        "    counted_cases = characteristics.count(charact_value)\n",
        "    count_cases_list.append (counted_cases) #put counted number of occurances to the list\n",
        "    #print (charact_value, counted_cases )\n",
        "\n",
        "   #find max value in the list with counts\n",
        "  highest_cases_number = max(count_cases_list)\n",
        "\n",
        "  #find index of the highest value in the list\n",
        "  highest_index = count_cases_list.index (highest_cases_number)\n",
        "  #print (highest_index)\n",
        "  print (\"The characteristic with the HIGHEST number of court cases is:\", protected_characteristics[highest_index], \"Number of occurances is - \", highest_cases_number )\n",
        "  print (\"List of protected characteristis\", protected_characteristics) #print the list of characteristics\n",
        "\n",
        "  #user's characteristic:\n",
        "  charateristics_to_lookup = input (\"Please, enter the characteristics you are interested in from the list: \")\n",
        "  while charateristics_to_lookup not in protected_characteristics:\n",
        "    print (\"Invalid characteristc, try again\")\n",
        "    charateristics_to_lookup = input (\"Please, enter the characteristics you are interested in from the list: \")\n",
        "\n",
        "  else:\n",
        "\n",
        "    lookup_index = protected_characteristics.index ( charateristics_to_lookup) #find index of the users value\n",
        "    lookup_count = count_cases_list[lookup_index] # find count using the same undex\n",
        "\n",
        "    # find percentage of user's characteristic relative to the whole cases\n",
        "    percentage = round(lookup_count/sum (count_cases_list)*100,1)\n",
        "    print (\"Your statistics: \" , charateristics_to_lookup, \", cases\", lookup_count, \"percentage\", percentage, \"%\")\n",
        "\n",
        "\n",
        "\n",
        "  #print (count_cases_list)\n",
        "\n",
        "characteristics_statistics (characteristics)\n"
      ]
    }
  ],
  "metadata": {
    "colab": {
      "provenance": [],
      "include_colab_link": true
    },
    "kernelspec": {
      "display_name": "Python 3",
      "name": "python3"
    },
    "language_info": {
      "name": "python"
    }
  },
  "nbformat": 4,
  "nbformat_minor": 0
}