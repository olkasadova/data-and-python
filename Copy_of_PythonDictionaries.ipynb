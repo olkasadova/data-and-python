{
  "cells": [
    {
      "cell_type": "markdown",
      "metadata": {
        "id": "view-in-github",
        "colab_type": "text"
      },
      "source": [
        "<a href=\"https://colab.research.google.com/github/olkasadova/data-and-python/blob/main/Copy_of_PythonDictionaries.ipynb\" target=\"_parent\"><img src=\"https://colab.research.google.com/assets/colab-badge.svg\" alt=\"Open In Colab\"/></a>"
      ]
    },
    {
      "cell_type": "markdown",
      "metadata": {
        "id": "Vvcpt-18AqVE"
      },
      "source": [
        "<a href=\"https://colab.research.google.com/github/StefanMeyer7/Python-Fundamentals/blob/main/PythonDictionaries.ipynb\" target=\"_parent\"><img src=\"https://colab.research.google.com/assets/colab-badge.svg\" alt=\"Open In Colab\"/></a>"
      ]
    },
    {
      "cell_type": "markdown",
      "metadata": {
        "id": "ajVrvblzd9wB"
      },
      "source": [
        "# Dictionaries\n",
        "\n",
        "---\n",
        "\n",
        "A **dictionary** is a collection of dissimilar data stored together in one *record*. Each item of data has a  (or key) that describes its paired value.  \n",
        "\n",
        "Create a dictionary object by declaring the set of keys and values, e.g.:\n",
        "\n",
        "```\n",
        "   transport = {\n",
        "       \"type\":\"bus\",\n",
        "       \"numPassengers\":72,\n",
        "       \"colour\":\"blue\",\n",
        "       \"fuel\":\"diesel\"\n",
        "   }\n",
        "```\n",
        "\n",
        "To access a value in a dictionary, use its key:  \n",
        "\n",
        "```\n",
        "transport[\"type\"] = \"coach\"\n",
        "transport_type = transport[\"type\"]\n",
        "transport_colour = transport[\"colour\"]\n",
        "transport[\"fuel\"] = petrol\n",
        "```\n",
        "\n",
        "To add a new key/value pair to a dictionary, simply assign a value to a new key:  \n",
        "```\n",
        "transport[\"seats\"] = 54\n",
        "```\n",
        "\n",
        "The transport dictionary will now look like this:  \n",
        "```\n",
        "   transport = {\n",
        "       \"type\":\"bus\",\n",
        "       \"numPassengers\":72,\n",
        "       \"colour\":\"blue\",\n",
        "       \"fuel\":\"diesel\",\n",
        "       \"seats\":54\n",
        "   }\n",
        "```\n",
        "\n"
      ]
    },
    {
      "cell_type": "markdown",
      "metadata": {
        "id": "0twREgj8d-8E"
      },
      "source": [
        "---\n",
        "### Exercise 1 - print dictionary\n",
        "\n",
        "Write a function which will:  \n",
        "\n",
        "*  create an empty dictionary for a person (name, age and postcode, with values \"\", 0 and \"\")\n",
        "*  ask the user for name, age and postcode and assign the values to the correct keys in the dictionary  \n",
        "*  print the dictionary\n",
        "\n",
        "Test input:  \n",
        "Jack Jones  \n",
        "16  \n",
        "AB5 3DF  \n",
        "\n",
        "Expected output:  \n",
        "```{'name':'Jack Jones', 'age':16, 'postcode':'AB5 3DF'}```"
      ]
    },
    {
      "cell_type": "code",
      "execution_count": null,
      "metadata": {
        "id": "xxdFsAVFeAaa",
        "colab": {
          "base_uri": "https://localhost:8080/"
        },
        "outputId": "ab230e53-9f8f-41e7-b3dd-f34733775b35"
      },
      "outputs": [
        {
          "output_type": "stream",
          "name": "stdout",
          "text": [
            "Please provide your name: Jack Jones\n",
            "Please provide your age: 20\n",
            "Please provide your postcode: AB5 3DF\n",
            "{'name': 'Jack Jones', 'age': '20', 'postcode': 'AB5 3DF'}\n"
          ]
        }
      ],
      "source": [
        "def print_dictionary ():\n",
        "  person = {\n",
        "      \"name\" : \"\",\n",
        "      \"age\" : \"0\",\n",
        "      \"postcode\" : \"\"\n",
        "  }\n",
        "  person_name = input (\"Please provide your name: \")\n",
        "  person [\"name\"]= person_name\n",
        "  person_age = input (\"Please provide your age: \")\n",
        "  person [\"age\"]= person_age\n",
        "  person_postcode = input (\"Please provide your postcode: \")\n",
        "  person [\"postcode\"]= person_postcode\n",
        "\n",
        "  print (person)\n",
        "\n",
        "print_dictionary ()"
      ]
    },
    {
      "cell_type": "markdown",
      "metadata": {
        "id": "s2ovh9vReApo"
      },
      "source": [
        "---\n",
        "### Exercise 2 - create a dictionary\n",
        "\n",
        "Write a function that will create two dictionaries,without values:  \n",
        "\n",
        "1.  person (with keys firstname, surname, birthdate, postcode)  \n",
        "2.  car (with key/value pairs as follows:  make - Vauxhall, model - Corsa, engineSize - 1199, fuelType - unleaded, num_doors - 4)  \n",
        "\n",
        "*   ask the user to enter the values for the person dictionary  \n",
        "*   print, on one line, the person's name from the person dictionary and the make of the car from the car dictionary.\n",
        "\n",
        "Test input:  \n",
        "Jack  \n",
        "Jones  \n",
        "2005/02/02    \n",
        "AB5 3DF  \n",
        "\n",
        "Expected output:  \n",
        "Jack Jones Vauxhall"
      ]
    },
    {
      "cell_type": "code",
      "execution_count": 6,
      "metadata": {
        "id": "zwVtULVkeB5F",
        "colab": {
          "base_uri": "https://localhost:8080/"
        },
        "outputId": "66cb9acb-02df-400a-d6cf-fd67e1fb5177"
      },
      "outputs": [
        {
          "output_type": "stream",
          "name": "stdout",
          "text": [
            "Please provide your first name: Jack\n",
            "Please provide your last name: Jones\n",
            "Please provide your birth date: 2005/02/02\n",
            "Please provide your postcode: AB5 3DF\n",
            "Jack Jones Vauxhall\n"
          ]
        }
      ],
      "source": [
        "def car_ownership_Person ():\n",
        "  person = {\n",
        "      \"firstname\" : \"\",\n",
        "      \"lastname\" : \"\",\n",
        "      \"birthdate\" : \"\",\n",
        "      \"postcode\" : \"\"\n",
        "  }\n",
        "  car = {\n",
        "      \"make\" : \"Vauxhall\",\n",
        "      \"model\" : \"Corsa\",\n",
        "      \"engineSize\" : \"1199\",\n",
        "      \"fuelType\" : \"unleaded\",\n",
        "      \"num_doors\" : \"4\"\n",
        "  }\n",
        "\n",
        "  person_firstname = input (\"Please provide your first name: \")\n",
        "  person [\"firstname\"]= person_firstname\n",
        "  person_lastname = input (\"Please provide your last name: \")\n",
        "  person [\"lastname\"]= person_lastname\n",
        "  person_birthdate = input (\"Please provide your birth date: \")\n",
        "  person [\"birthdate\"]= person_birthdate\n",
        "  person_postcode = input (\"Please provide your postcode: \")\n",
        "  person [\"postcode\"]= person_postcode\n",
        "\n",
        "  print (person[\"firstname\"], person[\"lastname\"], car[\"make\"])\n",
        "\n",
        "car_ownership_Person ()"
      ]
    },
    {
      "cell_type": "markdown",
      "metadata": {
        "id": "Juu-ivg0eDS5"
      },
      "source": [
        "---\n",
        "### Exercise 3 - check dictionary values\n",
        "\n",
        "Write a new function which will:\n",
        "\n",
        "*  set up the same two dictionaries as in Exercise 2  \n",
        "*  ask the user to enter the details to complete the person record  \n",
        "*  calculate the person's age  \n",
        "*  if the person is under 17 then print a message to say that they can't buy a car as they are too young to drive\n",
        "*  else if the person is under 25 then print a message to say that an engine size under 1200 is recommended  \n",
        "*  ask the user to enter the make of car that the person is looking for  \n",
        "*  if the user enters the same make as that stored in the car record, then print a message to say that you have one car of that make in stock and print all the details of the car that you have the record for\n",
        "*  else (if the user enters any other car make) then print a message to say sorry that you don't have any cars of that make in stock\n",
        "*  print a message to say that the user can get more details for stockist in the <user's postcode> area if they call 01234567890\n",
        "*  print a message to say \"Thank you <user's name> for using our site\"  \n",
        "\n",
        "Test input:  \n",
        "Jack  \n",
        "Jones  \n",
        "2005/02/02  \n",
        "AB5 3DF  \n",
        "Vauxhall  \n",
        "\n",
        "Expected output:  \n",
        "You are too young to drive\n",
        "\n",
        "Test input:  \n",
        "John  \n",
        "Jones  \n",
        "2003/02/02  \n",
        "AB5 3DF  \n",
        "Vauxhall\n",
        "\n",
        "Expected output:  \n",
        "An engine size under 1200 is recommended  \n",
        "We have one Vauxhall in stock, details:  \n",
        "Make - Vauxhall    \n",
        "Model - Corsa    \n",
        "Engine size - 1199  \n",
        "Fuel type - unleaded   \n",
        "Number of doors - 4  \n",
        "You can get more details of stockists near AB5 3DF on 01234567890  \n",
        "Thank you John Jones for using our site.     \n",
        "\n",
        "Test input:  \n",
        "John  \n",
        "Jones  \n",
        "2003/02/02  \n",
        "AB5 3DF  \n",
        "Ford  \n",
        "\n",
        "Expected output:  \n",
        "An engine size under 1200 is recommended  \n",
        "Sorry, we don't have any of that make in stock  \n"
      ]
    },
    {
      "cell_type": "code",
      "execution_count": 32,
      "metadata": {
        "id": "IiAIQVvWeDsk",
        "colab": {
          "base_uri": "https://localhost:8080/"
        },
        "outputId": "86c2391d-2b4e-417e-9232-2f36ae32e99d"
      },
      "outputs": [
        {
          "output_type": "stream",
          "name": "stdout",
          "text": [
            "Please provide your first name: Dan\n",
            "Please provide your last name: Sad\n",
            "Please provide your birth date: (format YYYY/MM/DD) 2006/12/16\n",
            "Please provide your postcode: EH61DF\n",
            "Your age is  16\n",
            " You can't buy a car as you are too young to drive\n",
            "Please enter the car you are looking for: Vauxhall\n",
            "we have only one Vauxhall in stock,  details:\n",
            "Make Vauxhall\n",
            "Model Corsa\n",
            "engine Size 1199\n",
            "fuel Type unleaded\n",
            "number of doors 4\n",
            "You can get more details for stockist in the EH61DF area if you call 01234567890\n",
            "Thank you Dan Sad for using our site\n"
          ]
        }
      ],
      "source": [
        "from datetime import datetime\n",
        "# made a separate function for calculating age\n",
        "def calculate_age(today, birthday):\n",
        "  age_years = int((today - birthday).days/365) #calculate age in years\n",
        "  print (\"Your age is \", age_years)\n",
        "  return (age_years)\n",
        "\n",
        "from datetime import datetime\n",
        "def check_values ():\n",
        "  person = {\n",
        "      \"firstname\" : \"\",\n",
        "      \"lastname\" : \"\",\n",
        "      \"birthdate\" : \"\",\n",
        "      \"postcode\" : \"\"\n",
        "  }\n",
        "  car = {\n",
        "      \"make\" : \"Vauxhall\",\n",
        "      \"model\" : \"Corsa\",\n",
        "      \"engineSize\" : \"1199\",\n",
        "      \"fuelType\" : \"unleaded\",\n",
        "      \"num_doors\" : \"4\"\n",
        "  }\n",
        "\n",
        "  #add person's data\n",
        "  person_firstname = input (\"Please provide your first name: \")\n",
        "  person [\"firstname\"]= person_firstname\n",
        "  person_lastname = input (\"Please provide your last name: \")\n",
        "  person [\"lastname\"]= person_lastname\n",
        "  person_birthdate = input (\"Please provide your birth date: (format YYYY/MM/DD) \")\n",
        "  person [\"birthdate\"]= person_birthdate\n",
        "  person_postcode = input (\"Please provide your postcode: \")\n",
        "  person [\"postcode\"]= person_postcode\n",
        "\n",
        "  #calculate person's age\n",
        "  today = datetime.today()\n",
        "  person_b_date = datetime.strptime(person [\"birthdate\"], '%Y/%m/%d')\n",
        "  age = calculate_age(today, person_b_date)\n",
        "  if age <17:\n",
        "    print (\" You can't buy a car as you are too young to drive\")\n",
        "  else:\n",
        "    if age <25:\n",
        "      print (\"An engine size under 1200 is recommended\")\n",
        "\n",
        "  #enter the make of car that the person is looking for\n",
        "  person_car = input (\"Please enter the car you are looking for: \")\n",
        "  if person_car == car [\"make\"]:\n",
        "    print (\"we have only one\", car[\"make\"], \"in stock,  details:\" )\n",
        "    print (\"Make\", car[\"make\"])\n",
        "    print (\"Model\", car[\"model\"])\n",
        "    print (\"engine Size\", car[\"engineSize\"])\n",
        "    print (\"fuel Type\", car[\"fuelType\"])\n",
        "    print (\"number of doors\", car[\"num_doors\"])\n",
        "  else:\n",
        "    print (\"sorry that we don't have any cars of that make in stock\")\n",
        "\n",
        "  print (\"You can get more details for stockist in the\", person [\"postcode\"], \"area if you call 01234567890\")\n",
        "  print (\"Thank you\", person [\"firstname\"], person [\"lastname\"], \"for using our site\")\n",
        "\n",
        "\n",
        "check_values ()"
      ]
    },
    {
      "cell_type": "markdown",
      "metadata": {
        "id": "ctA2qPE3eFRB"
      },
      "source": [
        "---\n",
        "### Exercise 4 - print keys and values\n",
        "\n",
        "Two dictionaries have been created below.  You can print a list of the dictionary's keys using `dictionary_name.keys()` and the values using `dictionary_name.values()`\n",
        "\n",
        "Write a function which will accept a dictionary as a parameter and will:  \n",
        "*  print the dictionary keys as a list   \n",
        "*  print the dictionary values as a list  \n",
        "\n",
        "*Hint*:  you will need to cast the keys as a list (`list(dictionary_name.keys()`)  and do the same for the values.\n",
        "\n",
        "**Expected Output**\n",
        "\n",
        "Input: English  \n",
        "Output:\n",
        "['Andy', 'Angela']  \n",
        "[95, 53]  \n",
        "\n",
        "Input: Maths  \n",
        "Output:  \n",
        "['Andy', 'Angela']  \n",
        "[58, 72]\n",
        "\n",
        "\n",
        "\n"
      ]
    },
    {
      "cell_type": "code",
      "execution_count": 39,
      "metadata": {
        "id": "MJtMND82eGwt",
        "colab": {
          "base_uri": "https://localhost:8080/"
        },
        "outputId": "ab6ca70f-9752-48bb-e87b-3aeb3f43f615"
      },
      "outputs": [
        {
          "output_type": "stream",
          "name": "stdout",
          "text": [
            "['Andy', 'Angela']\n",
            "[95, 53]\n",
            "['Andy', 'Angela']\n",
            "[58, 72]\n"
          ]
        }
      ],
      "source": [
        "def display_dictionary(scores):\n",
        "  #  add your code below this line\n",
        "  for dict_key in scores.keys():\n",
        "    key_list = list (scores.keys()) #save key to the list\n",
        "    value_list = list (scores.values()) #save values to the list\n",
        "\n",
        "  print (key_list)\n",
        "  print (value_list)\n",
        "   # print (dict_key)\n",
        "\n",
        "\n",
        "\n",
        "english_scores = {'Andy': 95, 'Angela': 53}\n",
        "maths_scores = {'Andy': 58, 'Angela': 72}\n",
        "display_dictionary(english_scores)\n",
        "display_dictionary(maths_scores)"
      ]
    },
    {
      "cell_type": "markdown",
      "metadata": {
        "id": "l21xWlAYeIbD"
      },
      "source": [
        "---\n",
        "### Exercise 5 - add field\n",
        "\n",
        "Write a function which will:\n",
        "\n",
        "*  create a new dictionary called **science_scores** with values of 0 for both Andy and Angela\n",
        "*  update Andy's score for science to 73 and Angela's score to 73   \n",
        "*  create a new key/value pair by adding another learner to the `science_scores`  dictionary (George has a score of 55)    \n",
        "*  print the `science_scores` dictionary to check results  \n",
        "\n",
        "Expected Output\n",
        "\n",
        "{'Andy': 73, 'Angela': 73, 'George': 55}"
      ]
    },
    {
      "cell_type": "code",
      "execution_count": 41,
      "metadata": {
        "id": "yUIyc-AleI1j",
        "colab": {
          "base_uri": "https://localhost:8080/"
        },
        "outputId": "0729cbab-4dec-43cb-b534-d192ecc99068"
      },
      "outputs": [
        {
          "output_type": "stream",
          "name": "stdout",
          "text": [
            "{'Andy': 73, 'Angela': 73, 'George': 55}\n"
          ]
        }
      ],
      "source": [
        "def add_dictionary_field():\n",
        "  science_scores  = {\n",
        "      \"Andy\" : \"0\",\n",
        "      \"Angela\" : \"0\"\n",
        "  }\n",
        "  #update scored to 73\n",
        "  science_scores[\"Andy\"] = 73\n",
        "  science_scores[\"Angela\"] = 73\n",
        "\n",
        "  #create a new key/value\n",
        "  science_scores[\"George\"] = 55\n",
        "\n",
        "  print (science_scores)\n",
        "\n",
        "add_dictionary_field()\n"
      ]
    },
    {
      "cell_type": "markdown",
      "metadata": {
        "id": "WhkZtLjDeJ5D"
      },
      "source": [
        "---\n",
        "### Exercise 6 - loop through keys/value pairs\n",
        "\n",
        "Write a function which will use a *for* loop to print the each key/value pair in the science dictionary (recreate this dictionary in this function)\n",
        "\n",
        "*(Hint: you can iterate through the key/value pairs in the dictionary in the same way as you iterate through a loop (e.g. for record in dictionary) and print the record (which is the key) and its value)*\n",
        "\n",
        "Expected output:  \n",
        "\n",
        "Angela 72  \n",
        "Andy 72  \n",
        "George 55  "
      ]
    },
    {
      "cell_type": "code",
      "execution_count": 56,
      "metadata": {
        "id": "AhW3GnQheKNW",
        "colab": {
          "base_uri": "https://localhost:8080/"
        },
        "outputId": "b1294dd3-b0d4-4c6f-e3ea-c29369e8d23c"
      },
      "outputs": [
        {
          "output_type": "stream",
          "name": "stdout",
          "text": [
            "Andy 72\n",
            "Angela 72\n",
            "Goerge 55\n"
          ]
        }
      ],
      "source": [
        "def loop_through_keys():\n",
        "   science_scores  = {\n",
        "      \"Andy\" : \"72\",\n",
        "      \"Angela\" : \"72\",\n",
        "      \"Goerge\" : \"55\"\n",
        "  }\n",
        "\n",
        "   for dict_key in science_scores.keys():\n",
        "    print (dict_key, science_scores[dict_key])\n",
        "\n",
        "loop_through_keys()\n"
      ]
    },
    {
      "cell_type": "markdown",
      "metadata": {
        "id": "RfJnjBoTeLeU"
      },
      "source": [
        "---\n",
        "### Exercise 7 - generate new dictionary  \n",
        "\n",
        "Write a functions which will:\n",
        "*  create a new dictionary where the keys are numbers between 1 and 15 (both included) and the values are square of keys\n",
        "*  print the dictionary\n",
        "\n",
        "Expected output:  \n",
        "{1: 1, 2: 4, 3: 9, 4: 16, 5: 25, 6: 36, 7: 49, 8: 64, 9: 81, 10: 100, 11: 121, 12: 144, 13: 169, 14: 196, 15: 225}"
      ]
    },
    {
      "cell_type": "code",
      "execution_count": 59,
      "metadata": {
        "id": "Zn-pa0rXeLvk",
        "colab": {
          "base_uri": "https://localhost:8080/"
        },
        "outputId": "255d4deb-554d-4775-ee6d-eb8c5e11e75b"
      },
      "outputs": [
        {
          "output_type": "stream",
          "name": "stdout",
          "text": [
            "{1: 1, 2: 4, 3: 9, 4: 16, 5: 25, 6: 36, 7: 49, 8: 64, 9: 81, 10: 100, 11: 121, 12: 144, 13: 169, 14: 196, 15: 225}\n"
          ]
        }
      ],
      "source": [
        "def new_dictionary():\n",
        "  num_dictionary = {}\n",
        "  for dict_key in range (1,16):\n",
        "    num_dictionary[dict_key] = dict_key*dict_key\n",
        "\n",
        "  print (num_dictionary)\n",
        "\n",
        "new_dictionary()\n"
      ]
    },
    {
      "cell_type": "markdown",
      "metadata": {
        "id": "oehTCZ07eMm_"
      },
      "source": [
        "---\n",
        "### Exercise 8 - colour dictionary  \n",
        "\n",
        "Write a function which will:  \n",
        "*  create a new dictionary record called colour_codes with the values 'red' - '#FF0000', 'green' - '#008000', 'black' - '#000000', 'white' - '#FFFFFF'\n",
        "*  add a new colour code:  'blue' - '#0000FF'    \n",
        "*  remove the colours black and white from the dictionary  \n",
        "\n",
        "*Hint:  there is a list of methods [here](https://www.w3schools.com/python/python_ref_dictionary.asp)*  "
      ]
    },
    {
      "cell_type": "code",
      "execution_count": 60,
      "metadata": {
        "id": "DCJC5Jk2eM5Q",
        "colab": {
          "base_uri": "https://localhost:8080/"
        },
        "outputId": "4d7ddea8-a026-4b44-e746-b60835944166"
      },
      "outputs": [
        {
          "output_type": "stream",
          "name": "stdout",
          "text": [
            "{'red': '#FF0000', 'green': '#008000', 'blue': '#0000FF'}\n"
          ]
        }
      ],
      "source": [
        "def create_colour_dictionary():\n",
        "  colour_codes = {\n",
        "      \"red\" : \"#FF0000\",\n",
        "      \"green\" : \"#008000\",\n",
        "      'black' : \"#000000\",\n",
        "      'white' : \"#FFFFFF\"\n",
        "  }\n",
        "\n",
        "  colour_codes [\"blue\"] = \"#0000FF\"\n",
        "\n",
        "  colour_codes.pop (\"black\")\n",
        "  colour_codes.pop (\"white\")\n",
        "  print (colour_codes)\n",
        "\n",
        "create_colour_dictionary()\n"
      ]
    },
    {
      "cell_type": "markdown",
      "metadata": {
        "id": "W1z8ixCzeN8x"
      },
      "source": [
        "---\n",
        "### Exercise 9 - item tuples  \n",
        "\n",
        "Write a function which will:  \n",
        "*  create a new dictionary containing the colour codes for red, green, blue, black and white\n",
        "*  print the key/value pairs of a dictionary as a list of tuples  \n",
        "\n",
        "*Hint:  iterate through colours.items()*"
      ]
    },
    {
      "cell_type": "code",
      "execution_count": 63,
      "metadata": {
        "id": "9fMy4RU_eOdE",
        "colab": {
          "base_uri": "https://localhost:8080/"
        },
        "outputId": "ca1dac48-8d2c-4d5f-9198-072c5ccc21db"
      },
      "outputs": [
        {
          "output_type": "stream",
          "name": "stdout",
          "text": [
            "('red', '#FF0000')\n",
            "('green', '#008000')\n",
            "('black', '#000000')\n",
            "('white', '#FFFFFF')\n"
          ]
        }
      ],
      "source": [
        "def create_colour_tuples():\n",
        "  colour_codes = {\n",
        "      \"red\" : \"#FF0000\",\n",
        "      \"green\" : \"#008000\",\n",
        "      'black' : \"#000000\",\n",
        "      'white' : \"#FFFFFF\"\n",
        "  }\n",
        "\n",
        "  for c_key, c_value in colour_codes.items():\n",
        "    colour_tuple = (c_key, c_value)\n",
        "    print (colour_tuple)\n",
        "\n",
        "create_colour_tuples()"
      ]
    },
    {
      "cell_type": "markdown",
      "metadata": {
        "id": "gkrOvN9IePku"
      },
      "source": [
        "---\n",
        "### Exercise 10 - check if empty\n",
        "Taken from w3resouce.com  \n",
        "\n",
        "Write a function which will check if a dictionary is empty or not\n",
        "\n",
        "*Hint:  you can use bool(dictionary_name), if the dictionary is empty then bool(dictionary_name will be false)*\n",
        "\n",
        "Test 1 sample data:\n",
        "{}\n",
        "\n",
        "Expected output:\n",
        "Dictionary is empty  \n",
        "\n",
        "Test 2 sample data:  \n",
        "{\"name\":\"Groucho\", \"occupation\":\"comedian\"}\n",
        "\n",
        "Expected output:  \n",
        "Dictionary is not empty"
      ]
    },
    {
      "cell_type": "code",
      "execution_count": 64,
      "metadata": {
        "id": "BulXCFK0eQJ-",
        "colab": {
          "base_uri": "https://localhost:8080/"
        },
        "outputId": "962c920b-3507-4b0e-c723-da8fb18b3678"
      },
      "outputs": [
        {
          "output_type": "stream",
          "name": "stdout",
          "text": [
            "Dictionary is empty\n",
            "Dictionary is NOT empty\n"
          ]
        }
      ],
      "source": [
        "def check_empty_dictionary(dictionary_name):\n",
        "  empty = bool (dictionary_name)\n",
        "  if empty == True:\n",
        "    print (\"Dictionary is NOT empty\")\n",
        "  else:\n",
        "    print (\"Dictionary is empty\")\n",
        "\n",
        "empty_dict = {}\n",
        "non_empty = {\n",
        "    \"name\": \"Groucho\",\n",
        "    \"occupation\": \"comedian\"\n",
        "}\n",
        "check_empty_dictionary(empty_dict)\n",
        "\n",
        "check_empty_dictionary(non_empty)\n"
      ]
    }
  ],
  "metadata": {
    "colab": {
      "provenance": [],
      "include_colab_link": true
    },
    "kernelspec": {
      "display_name": "Python 3",
      "name": "python3"
    },
    "language_info": {
      "name": "python"
    }
  },
  "nbformat": 4,
  "nbformat_minor": 0
}