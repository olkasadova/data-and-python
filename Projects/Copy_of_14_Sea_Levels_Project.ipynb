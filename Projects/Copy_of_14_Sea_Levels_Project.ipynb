{
  "nbformat": 4,
  "nbformat_minor": 0,
  "metadata": {
    "colab": {
      "provenance": [],
      "include_colab_link": true
    },
    "kernelspec": {
      "name": "python3",
      "display_name": "Python 3"
    },
    "language_info": {
      "name": "python"
    }
  },
  "cells": [
    {
      "cell_type": "markdown",
      "metadata": {
        "id": "view-in-github",
        "colab_type": "text"
      },
      "source": [
        "<a href=\"https://colab.research.google.com/github/olkasadova/data-and-python/blob/main/Projects/Copy_of_14_Sea_Levels_Project.ipynb\" target=\"_parent\"><img src=\"https://colab.research.google.com/assets/colab-badge.svg\" alt=\"Open In Colab\"/></a>"
      ]
    },
    {
      "cell_type": "markdown",
      "metadata": {
        "id": "TtGpyRE2itGv"
      },
      "source": [
        "# Sea-Level predictor project\n",
        "\n",
        "---\n"
      ]
    },
    {
      "cell_type": "markdown",
      "source": [
        "By doing this project I would like to incorporate knowledge that I gained during previous tasks: investigate and describe data, find out what data is missing and make data clean, create new data sets, sort data, do vizualization and find interesting correlations and data.\n",
        "What I've learned is that before doing any manipulations with data you need to investigate them carefully - what types of columns do you have, what column have missing data, are there duplicates.\n",
        "The next step is cleaning data and creating data sets which can be used in further analysis.\n",
        "\n",
        "In the project I think what is interesting to find out is:\n",
        "- what are the years with the highest sea-level raise\n",
        "- what are years with negative raise\n",
        "- is the average sea level raise the same for 20 and 21 conetury or it has increased"
      ],
      "metadata": {
        "id": "IhfZcz2UDNNW"
      }
    },
    {
      "cell_type": "markdown",
      "metadata": {
        "id": "5izBi6vRiyIV"
      },
      "source": [
        "This is a freeCodeCamp project\n",
        "\n",
        "### Data Source\n",
        "Global Average Absolute Sea Level Change, 1880-2014 from the US Environmental Protection Agency using data from CSIRO, 2015; NOAA, 2015.\n",
        "https://datahub.io/core/sea-level-rise\n",
        "\n",
        "The data describes annual sea levels from 1880 to 2013.  Measures are adjusted using two standards: Commonwealth Scientific and Industrial Research Organisation(CSIRO) and National Oceanic and Atmospheric Administration (NOAA)  \n",
        "\n",
        "Raw Data file:  https://raw.githubusercontent.com/freeCodeCamp/boilerplate-sea-level-predictor/master/epa-sea-level.csv\n",
        "\n",
        "---\n",
        "### Exercise 1 - Load in the data\n",
        "---\n",
        "\n",
        "Load in the sea-levels data and have a look, dont forget to check the numerical and technical summaries and get a feel for the dataset"
      ]
    },
    {
      "cell_type": "code",
      "metadata": {
        "id": "y7YD5Td_isLB",
        "outputId": "c749816c-2561-462c-edbf-133ddc0d4a0c",
        "colab": {
          "base_uri": "https://localhost:8080/"
        }
      },
      "source": [
        "import pandas as pd\n",
        "url = \"https://raw.githubusercontent.com/freeCodeCamp/boilerplate-sea-level-predictor/master/epa-sea-level.csv\"\n",
        "df = pd.read_csv (url)\n",
        "print (df)\n",
        "df. info()"
      ],
      "execution_count": 3,
      "outputs": [
        {
          "output_type": "stream",
          "name": "stdout",
          "text": [
            "     Year  CSIRO Adjusted Sea Level  Lower Error Bound  Upper Error Bound  \\\n",
            "0    1880                  0.000000          -0.952756           0.952756   \n",
            "1    1881                  0.220472          -0.732283           1.173228   \n",
            "2    1882                 -0.440945          -1.346457           0.464567   \n",
            "3    1883                 -0.232283          -1.129921           0.665354   \n",
            "4    1884                  0.590551          -0.283465           1.464567   \n",
            "..    ...                       ...                ...                ...   \n",
            "129  2009                  8.586614           8.311024           8.862205   \n",
            "130  2010                  8.901575           8.618110           9.185039   \n",
            "131  2011                  8.964567           8.661417           9.267717   \n",
            "132  2012                  9.326772           8.992126           9.661417   \n",
            "133  2013                  8.980315           8.622047           9.338583   \n",
            "\n",
            "     NOAA Adjusted Sea Level  \n",
            "0                        NaN  \n",
            "1                        NaN  \n",
            "2                        NaN  \n",
            "3                        NaN  \n",
            "4                        NaN  \n",
            "..                       ...  \n",
            "129                 8.046354  \n",
            "130                 8.122973  \n",
            "131                 8.053065  \n",
            "132                 8.457058  \n",
            "133                 8.546648  \n",
            "\n",
            "[134 rows x 5 columns]\n",
            "<class 'pandas.core.frame.DataFrame'>\n",
            "RangeIndex: 134 entries, 0 to 133\n",
            "Data columns (total 5 columns):\n",
            " #   Column                    Non-Null Count  Dtype  \n",
            "---  ------                    --------------  -----  \n",
            " 0   Year                      134 non-null    int64  \n",
            " 1   CSIRO Adjusted Sea Level  134 non-null    float64\n",
            " 2   Lower Error Bound         134 non-null    float64\n",
            " 3   Upper Error Bound         134 non-null    float64\n",
            " 4   NOAA Adjusted Sea Level   21 non-null     float64\n",
            "dtypes: float64(4), int64(1)\n",
            "memory usage: 5.4 KB\n"
          ]
        }
      ]
    },
    {
      "cell_type": "markdown",
      "metadata": {
        "id": "MevbGpJNm8_W"
      },
      "source": [
        "---\n",
        "### Exercise 2 - scatter plot\n",
        "Create a  scatter plot using the \"Year\" column as the x-axis and the \"CSIRO Adjusted Sea Level\" column as the y-axis.\n",
        "\n",
        "*hint: try using inline*"
      ]
    },
    {
      "cell_type": "code",
      "metadata": {
        "id": "96V3LU4rnK-N",
        "colab": {
          "base_uri": "https://localhost:8080/",
          "height": 448
        },
        "outputId": "356b0229-26fe-4cdd-c994-e5f0af08e63d"
      },
      "source": [
        "import pandas as pd\n",
        "import matplotlib.pyplot as plt\n",
        "\n",
        "url = \"https://raw.githubusercontent.com/freeCodeCamp/boilerplate-sea-level-predictor/master/epa-sea-level.csv\"\n",
        "df = pd.read_csv (url)\n",
        "\n",
        "x = df [\"Year\"]\n",
        "y = df [\"CSIRO Adjusted Sea Level\"]\n",
        "\n",
        "plt.scatter (x,y)\n"
      ],
      "execution_count": 4,
      "outputs": [
        {
          "output_type": "execute_result",
          "data": {
            "text/plain": [
              "<matplotlib.collections.PathCollection at 0x7e2e31a8e680>"
            ]
          },
          "metadata": {},
          "execution_count": 4
        },
        {
          "output_type": "display_data",
          "data": {
            "text/plain": [
              "<Figure size 640x480 with 1 Axes>"
            ],
            "image/png": "[encoded data removed]"
          },
          "metadata": {}
        }
      ]
    },
    {
      "cell_type": "markdown",
      "metadata": {
        "id": "leXjCPKqoJfk"
      },
      "source": [
        "---\n",
        "### Exercise 3 - Clean the data\n",
        "\n",
        "The column NOAA has null values in a number of rows.  Clean the data, producing a new dataframe.\n"
      ]
    },
    {
      "cell_type": "code",
      "metadata": {
        "id": "HuRM0qaUoenc",
        "colab": {
          "base_uri": "https://localhost:8080/",
          "height": 708
        },
        "outputId": "d1b08d7f-2703-4531-819c-243af4158052"
      },
      "source": [
        "import pandas as pd\n",
        "\n",
        "url = \"https://raw.githubusercontent.com/freeCodeCamp/boilerplate-sea-level-predictor/master/epa-sea-level.csv\"\n",
        "df = pd.read_csv (url)\n",
        "\n",
        "# to clean the data remove rows for NOAA with NA values\n",
        "df_clean = df. dropna (subset = \"NOAA Adjusted Sea Level\")\n",
        "df_clean"
      ],
      "execution_count": 11,
      "outputs": [
        {
          "output_type": "execute_result",
          "data": {
            "text/plain": [
              "     Year  CSIRO Adjusted Sea Level  Lower Error Bound  Upper Error Bound  \\\n",
              "113  1993                  6.291339           6.027559           6.555118   \n",
              "114  1994                  6.500000           6.236220           6.763780   \n",
              "115  1995                  6.618110           6.354331           6.881890   \n",
              "116  1996                  6.787402           6.523622           7.051181   \n",
              "117  1997                  7.066929           6.803150           7.330709   \n",
              "118  1998                  6.665354           6.393701           6.937008   \n",
              "119  1999                  7.011811           6.736220           7.287402   \n",
              "120  2000                  7.062992           6.791339           7.334646   \n",
              "121  2001                  7.287402           7.019685           7.555118   \n",
              "122  2002                  7.381890           7.110236           7.653543   \n",
              "123  2003                  7.759843           7.484252           8.035433   \n",
              "124  2004                  7.740157           7.464567           8.015748   \n",
              "125  2005                  7.744094           7.472441           8.015748   \n",
              "126  2006                  7.917323           7.645669           8.188976   \n",
              "127  2007                  7.996063           7.712598           8.279528   \n",
              "128  2008                  8.350394           8.078740           8.622047   \n",
              "129  2009                  8.586614           8.311024           8.862205   \n",
              "130  2010                  8.901575           8.618110           9.185039   \n",
              "131  2011                  8.964567           8.661417           9.267717   \n",
              "132  2012                  9.326772           8.992126           9.661417   \n",
              "133  2013                  8.980315           8.622047           9.338583   \n",
              "\n",
              "     NOAA Adjusted Sea Level  \n",
              "113                 6.297493  \n",
              "114                 6.310934  \n",
              "115                 6.452569  \n",
              "116                 6.627631  \n",
              "117                 6.733920  \n",
              "118                 6.865806  \n",
              "119                 6.848690  \n",
              "120                 6.920582  \n",
              "121                 7.087460  \n",
              "122                 7.319698  \n",
              "123                 7.488353  \n",
              "124                 7.507933  \n",
              "125                 7.644563  \n",
              "126                 7.697420  \n",
              "127                 7.702147  \n",
              "128                 7.907365  \n",
              "129                 8.046354  \n",
              "130                 8.122973  \n",
              "131                 8.053065  \n",
              "132                 8.457058  \n",
              "133                 8.546648  "
            ],
            "text/html": [
              "\n",
              "  <div id=\"df-58452687-6977-4371-9219-d4977a8fc478\" class=\"colab-df-container\">\n",
              "    <div>\n",
              "<style scoped>\n",
              "    .dataframe tbody tr th:only-of-type {\n",
              "        vertical-align: middle;\n",
              "    }\n",
              "\n",
              "    .dataframe tbody tr th {\n",
              "        vertical-align: top;\n",
              "    }\n",
              "\n",
              "    .dataframe thead th {\n",
              "        text-align: right;\n",
              "    }\n",
              "</style>\n",
              "<table border=\"1\" class=\"dataframe\">\n",
              "  <thead>\n",
              "    <tr style=\"text-align: right;\">\n",
              "      <th></th>\n",
              "      <th>Year</th>\n",
              "      <th>CSIRO Adjusted Sea Level</th>\n",
              "      <th>Lower Error Bound</th>\n",
              "      <th>Upper Error Bound</th>\n",
              "      <th>NOAA Adjusted Sea Level</th>\n",
              "    </tr>\n",
              "  </thead>\n",
              "  <tbody>\n",
              "    <tr>\n",
              "      <th>113</th>\n",
              "      <td>1993</td>\n",
              "      <td>6.291339</td>\n",
              "      <td>6.027559</td>\n",
              "      <td>6.555118</td>\n",
              "      <td>6.297493</td>\n",
              "    </tr>\n",
              "    <tr>\n",
              "      <th>114</th>\n",
              "      <td>1994</td>\n",
              "      <td>6.500000</td>\n",
              "      <td>6.236220</td>\n",
              "      <td>6.763780</td>\n",
              "      <td>6.310934</td>\n",
              "    </tr>\n",
              "    <tr>\n",
              "      <th>115</th>\n",
              "      <td>1995</td>\n",
              "      <td>6.618110</td>\n",
              "      <td>6.354331</td>\n",
              "      <td>6.881890</td>\n",
              "      <td>6.452569</td>\n",
              "    </tr>\n",
              "    <tr>\n",
              "      <th>116</th>\n",
              "      <td>1996</td>\n",
              "      <td>6.787402</td>\n",
              "      <td>6.523622</td>\n",
              "      <td>7.051181</td>\n",
              "      <td>6.627631</td>\n",
              "    </tr>\n",
              "    <tr>\n",
              "      <th>117</th>\n",
              "      <td>1997</td>\n",
              "      <td>7.066929</td>\n",
              "      <td>6.803150</td>\n",
              "      <td>7.330709</td>\n",
              "      <td>6.733920</td>\n",
              "    </tr>\n",
              "    <tr>\n",
              "      <th>118</th>\n",
              "      <td>1998</td>\n",
              "      <td>6.665354</td>\n",
              "      <td>6.393701</td>\n",
              "      <td>6.937008</td>\n",
              "      <td>6.865806</td>\n",
              "    </tr>\n",
              "    <tr>\n",
              "      <th>119</th>\n",
              "      <td>1999</td>\n",
              "      <td>7.011811</td>\n",
              "      <td>6.736220</td>\n",
              "      <td>7.287402</td>\n",
              "      <td>6.848690</td>\n",
              "    </tr>\n",
              "    <tr>\n",
              "      <th>120</th>\n",
              "      <td>2000</td>\n",
              "      <td>7.062992</td>\n",
              "      <td>6.791339</td>\n",
              "      <td>7.334646</td>\n",
              "      <td>6.920582</td>\n",
              "    </tr>\n",
              "    <tr>\n",
              "      <th>121</th>\n",
              "      <td>2001</td>\n",
              "      <td>7.287402</td>\n",
              "      <td>7.019685</td>\n",
              "      <td>7.555118</td>\n",
              "      <td>7.087460</td>\n",
              "    </tr>\n",
              "    <tr>\n",
              "      <th>122</th>\n",
              "      <td>2002</td>\n",
              "      <td>7.381890</td>\n",
              "      <td>7.110236</td>\n",
              "      <td>7.653543</td>\n",
              "      <td>7.319698</td>\n",
              "    </tr>\n",
              "    <tr>\n",
              "      <th>123</th>\n",
              "      <td>2003</td>\n",
              "      <td>7.759843</td>\n",
              "      <td>7.484252</td>\n",
              "      <td>8.035433</td>\n",
              "      <td>7.488353</td>\n",
              "    </tr>\n",
              "    <tr>\n",
              "      <th>124</th>\n",
              "      <td>2004</td>\n",
              "      <td>7.740157</td>\n",
              "      <td>7.464567</td>\n",
              "      <td>8.015748</td>\n",
              "      <td>7.507933</td>\n",
              "    </tr>\n",
              "    <tr>\n",
              "      <th>125</th>\n",
              "      <td>2005</td>\n",
              "      <td>7.744094</td>\n",
              "      <td>7.472441</td>\n",
              "      <td>8.015748</td>\n",
              "      <td>7.644563</td>\n",
              "    </tr>\n",
              "    <tr>\n",
              "      <th>126</th>\n",
              "      <td>2006</td>\n",
              "      <td>7.917323</td>\n",
              "      <td>7.645669</td>\n",
              "      <td>8.188976</td>\n",
              "      <td>7.697420</td>\n",
              "    </tr>\n",
              "    <tr>\n",
              "      <th>127</th>\n",
              "      <td>2007</td>\n",
              "      <td>7.996063</td>\n",
              "      <td>7.712598</td>\n",
              "      <td>8.279528</td>\n",
              "      <td>7.702147</td>\n",
              "    </tr>\n",
              "    <tr>\n",
              "      <th>128</th>\n",
              "      <td>2008</td>\n",
              "      <td>8.350394</td>\n",
              "      <td>8.078740</td>\n",
              "      <td>8.622047</td>\n",
              "      <td>7.907365</td>\n",
              "    </tr>\n",
              "    <tr>\n",
              "      <th>129</th>\n",
              "      <td>2009</td>\n",
              "      <td>8.586614</td>\n",
              "      <td>8.311024</td>\n",
              "      <td>8.862205</td>\n",
              "      <td>8.046354</td>\n",
              "    </tr>\n",
              "    <tr>\n",
              "      <th>130</th>\n",
              "      <td>2010</td>\n",
              "      <td>8.901575</td>\n",
              "      <td>8.618110</td>\n",
              "      <td>9.185039</td>\n",
              "      <td>8.122973</td>\n",
              "    </tr>\n",
              "    <tr>\n",
              "      <th>131</th>\n",
              "      <td>2011</td>\n",
              "      <td>8.964567</td>\n",
              "      <td>8.661417</td>\n",
              "      <td>9.267717</td>\n",
              "      <td>8.053065</td>\n",
              "    </tr>\n",
              "    <tr>\n",
              "      <th>132</th>\n",
              "      <td>2012</td>\n",
              "      <td>9.326772</td>\n",
              "      <td>8.992126</td>\n",
              "      <td>9.661417</td>\n",
              "      <td>8.457058</td>\n",
              "    </tr>\n",
              "    <tr>\n",
              "      <th>133</th>\n",
              "      <td>2013</td>\n",
              "      <td>8.980315</td>\n",
              "      <td>8.622047</td>\n",
              "      <td>9.338583</td>\n",
              "      <td>8.546648</td>\n",
              "    </tr>\n",
              "  </tbody>\n",
              "</table>\n",
              "</div>\n",
              "    <div class=\"colab-df-buttons\">\n",
              "\n",
              "  <div class=\"colab-df-container\">\n",
              "    <button class=\"colab-df-convert\" onclick=\"convertToInteractive('df-58452687-6977-4371-9219-d4977a8fc478')\"\n",
              "            title=\"Convert this dataframe to an interactive table.\"\n",
              "            style=\"display:none;\">\n",
              "\n",
              "  <svg xmlns=\"http://www.w3.org/2000/svg\" height=\"24px\" viewBox=\"0 -960 960 960\">\n",
              "    <path d=\"M120-120v-720h720v720H120Zm60-500h600v-160H180v160Zm220 220h160v-160H400v160Zm0 220h160v-160H400v160ZM180-400h160v-160H180v160Zm440 0h160v-160H620v160ZM180-180h160v-160H180v160Zm440 0h160v-160H620v160Z\"/>\n",
              "  </svg>\n",
              "    </button>\n",
              "\n",
              "  <style>\n",
              "    .colab-df-container {\n",
              "      display:flex;\n",
              "      gap: 12px;\n",
              "    }\n",
              "\n",
              "    .colab-df-convert {\n",
              "      background-color: #E8F0FE;\n",
              "      border: none;\n",
              "      border-radius: 50%;\n",
              "      cursor: pointer;\n",
              "      display: none;\n",
              "      fill: #1967D2;\n",
              "      height: 32px;\n",
              "      padding: 0 0 0 0;\n",
              "      width: 32px;\n",
              "    }\n",
              "\n",
              "    .colab-df-convert:hover {\n",
              "      background-color: #E2EBFA;\n",
              "      box-shadow: 0px 1px 2px rgba(60, 64, 67, 0.3), 0px 1px 3px 1px rgba(60, 64, 67, 0.15);\n",
              "      fill: #174EA6;\n",
              "    }\n",
              "\n",
              "    .colab-df-buttons div {\n",
              "      margin-bottom: 4px;\n",
              "    }\n",
              "\n",
              "    [theme=dark] .colab-df-convert {\n",
              "      background-color: #3B4455;\n",
              "      fill: #D2E3FC;\n",
              "    }\n",
              "\n",
              "    [theme=dark] .colab-df-convert:hover {\n",
              "      background-color: #434B5C;\n",
              "      box-shadow: 0px 1px 3px 1px rgba(0, 0, 0, 0.15);\n",
              "      filter: drop-shadow(0px 1px 2px rgba(0, 0, 0, 0.3));\n",
              "      fill: #FFFFFF;\n",
              "    }\n",
              "  </style>\n",
              "\n",
              "    <script>\n",
              "      const buttonEl =\n",
              "        document.querySelector('#df-58452687-6977-4371-9219-d4977a8fc478 button.colab-df-convert');\n",
              "      buttonEl.style.display =\n",
              "        google.colab.kernel.accessAllowed ? 'block' : 'none';\n",
              "\n",
              "      async function convertToInteractive(key) {\n",
              "        const element = document.querySelector('#df-58452687-6977-4371-9219-d4977a8fc478');\n",
              "        const dataTable =\n",
              "          await google.colab.kernel.invokeFunction('convertToInteractive',\n",
              "                                                    [key], {});\n",
              "        if (!dataTable) return;\n",
              "\n",
              "        const docLinkHtml = 'Like what you see? Visit the ' +\n",
              "          '<a target=\"_blank\" href=https://colab.research.google.com/notebooks/data_table.ipynb>data table notebook</a>'\n",
              "          + ' to learn more about interactive tables.';\n",
              "        element.innerHTML = '';\n",
              "        dataTable['output_type'] = 'display_data';\n",
              "        await google.colab.output.renderOutput(dataTable, element);\n",
              "        const docLink = document.createElement('div');\n",
              "        docLink.innerHTML = docLinkHtml;\n",
              "        element.appendChild(docLink);\n",
              "      }\n",
              "    </script>\n",
              "  </div>\n",
              "\n",
              "\n",
              "<div id=\"df-ec8a0fbe-cff8-44b7-8aff-b5d838f649c6\">\n",
              "  <button class=\"colab-df-quickchart\" onclick=\"quickchart('df-ec8a0fbe-cff8-44b7-8aff-b5d838f649c6')\"\n",
              "            title=\"Suggest charts\"\n",
              "            style=\"display:none;\">\n",
              "\n",
              "<svg xmlns=\"http://www.w3.org/2000/svg\" height=\"24px\"viewBox=\"0 0 24 24\"\n",
              "     width=\"24px\">\n",
              "    <g>\n",
              "        <path d=\"M19 3H5c-1.1 0-2 .9-2 2v14c0 1.1.9 2 2 2h14c1.1 0 2-.9 2-2V5c0-1.1-.9-2-2-2zM9 17H7v-7h2v7zm4 0h-2V7h2v10zm4 0h-2v-4h2v4z\"/>\n",
              "    </g>\n",
              "</svg>\n",
              "  </button>\n",
              "\n",
              "<style>\n",
              "  .colab-df-quickchart {\n",
              "      --bg-color: #E8F0FE;\n",
              "      --fill-color: #1967D2;\n",
              "      --hover-bg-color: #E2EBFA;\n",
              "      --hover-fill-color: #174EA6;\n",
              "      --disabled-fill-color: #AAA;\n",
              "      --disabled-bg-color: #DDD;\n",
              "  }\n",
              "\n",
              "  [theme=dark] .colab-df-quickchart {\n",
              "      --bg-color: #3B4455;\n",
              "      --fill-color: #D2E3FC;\n",
              "      --hover-bg-color: #434B5C;\n",
              "      --hover-fill-color: #FFFFFF;\n",
              "      --disabled-bg-color: #3B4455;\n",
              "      --disabled-fill-color: #666;\n",
              "  }\n",
              "\n",
              "  .colab-df-quickchart {\n",
              "    background-color: var(--bg-color);\n",
              "    border: none;\n",
              "    border-radius: 50%;\n",
              "    cursor: pointer;\n",
              "    display: none;\n",
              "    fill: var(--fill-color);\n",
              "    height: 32px;\n",
              "    padding: 0;\n",
              "    width: 32px;\n",
              "  }\n",
              "\n",
              "  .colab-df-quickchart:hover {\n",
              "    background-color: var(--hover-bg-color);\n",
              "    box-shadow: 0 1px 2px rgba(60, 64, 67, 0.3), 0 1px 3px 1px rgba(60, 64, 67, 0.15);\n",
              "    fill: var(--button-hover-fill-color);\n",
              "  }\n",
              "\n",
              "  .colab-df-quickchart-complete:disabled,\n",
              "  .colab-df-quickchart-complete:disabled:hover {\n",
              "    background-color: var(--disabled-bg-color);\n",
              "    fill: var(--disabled-fill-color);\n",
              "    box-shadow: none;\n",
              "  }\n",
              "\n",
              "  .colab-df-spinner {\n",
              "    border: 2px solid var(--fill-color);\n",
              "    border-color: transparent;\n",
              "    border-bottom-color: var(--fill-color);\n",
              "    animation:\n",
              "      spin 1s steps(1) infinite;\n",
              "  }\n",
              "\n",
              "  @keyframes spin {\n",
              "    0% {\n",
              "      border-color: transparent;\n",
              "      border-bottom-color: var(--fill-color);\n",
              "      border-left-color: var(--fill-color);\n",
              "    }\n",
              "    20% {\n",
              "      border-color: transparent;\n",
              "      border-left-color: var(--fill-color);\n",
              "      border-top-color: var(--fill-color);\n",
              "    }\n",
              "    30% {\n",
              "      border-color: transparent;\n",
              "      border-left-color: var(--fill-color);\n",
              "      border-top-color: var(--fill-color);\n",
              "      border-right-color: var(--fill-color);\n",
              "    }\n",
              "    40% {\n",
              "      border-color: transparent;\n",
              "      border-right-color: var(--fill-color);\n",
              "      border-top-color: var(--fill-color);\n",
              "    }\n",
              "    60% {\n",
              "      border-color: transparent;\n",
              "      border-right-color: var(--fill-color);\n",
              "    }\n",
              "    80% {\n",
              "      border-color: transparent;\n",
              "      border-right-color: var(--fill-color);\n",
              "      border-bottom-color: var(--fill-color);\n",
              "    }\n",
              "    90% {\n",
              "      border-color: transparent;\n",
              "      border-bottom-color: var(--fill-color);\n",
              "    }\n",
              "  }\n",
              "</style>\n",
              "\n",
              "  <script>\n",
              "    async function quickchart(key) {\n",
              "      const quickchartButtonEl =\n",
              "        document.querySelector('#' + key + ' button');\n",
              "      quickchartButtonEl.disabled = true;  // To prevent multiple clicks.\n",
              "      quickchartButtonEl.classList.add('colab-df-spinner');\n",
              "      try {\n",
              "        const charts = await google.colab.kernel.invokeFunction(\n",
              "            'suggestCharts', [key], {});\n",
              "      } catch (error) {\n",
              "        console.error('Error during call to suggestCharts:', error);\n",
              "      }\n",
              "      quickchartButtonEl.classList.remove('colab-df-spinner');\n",
              "      quickchartButtonEl.classList.add('colab-df-quickchart-complete');\n",
              "    }\n",
              "    (() => {\n",
              "      let quickchartButtonEl =\n",
              "        document.querySelector('#df-ec8a0fbe-cff8-44b7-8aff-b5d838f649c6 button');\n",
              "      quickchartButtonEl.style.display =\n",
              "        google.colab.kernel.accessAllowed ? 'block' : 'none';\n",
              "    })();\n",
              "  </script>\n",
              "</div>\n",
              "    </div>\n",
              "  </div>\n"
            ]
          },
          "metadata": {},
          "execution_count": 11
        }
      ]
    },
    {
      "cell_type": "markdown",
      "metadata": {
        "id": "R-V0fcMBo_-N"
      },
      "source": [
        "\n",
        "### Exercise 3 - plot scatter graph for NOAA adjusted levels\n",
        "---\n"
      ]
    },
    {
      "cell_type": "code",
      "metadata": {
        "id": "HvnS0mhppLLc",
        "colab": {
          "base_uri": "https://localhost:8080/",
          "height": 448
        },
        "outputId": "f006a396-350c-4529-93d1-ab8f766fe6e3"
      },
      "source": [
        "import pandas as pd\n",
        "import matplotlib.pyplot as plt\n",
        "\n",
        "url = \"https://raw.githubusercontent.com/freeCodeCamp/boilerplate-sea-level-predictor/master/epa-sea-level.csv\"\n",
        "df = pd.read_csv (url)\n",
        "\n",
        "# to clean the data remove rows for NOAA with NA values\n",
        "df_clean = df. dropna (subset = \"NOAA Adjusted Sea Level\")\n",
        "x = df_clean [\"Year\"]\n",
        "y = df_clean [\"NOAA Adjusted Sea Level\"]\n",
        "plt.scatter (x,y)\n",
        "\n"
      ],
      "execution_count": 14,
      "outputs": [
        {
          "output_type": "execute_result",
          "data": {
            "text/plain": [
              "<matplotlib.collections.PathCollection at 0x7e2e2f260370>"
            ]
          },
          "metadata": {},
          "execution_count": 14
        },
        {
          "output_type": "display_data",
          "data": {
            "text/plain": [
              "<Figure size 640x480 with 1 Axes>"
            ],
            "image/png": "[encoded data removed]"
          },
          "metadata": {}
        }
      ]
    },
    {
      "cell_type": "markdown",
      "metadata": {
        "id": "mtwuv0qgnjJ8"
      },
      "source": [
        "---\n",
        "### Exercise 4 - plot line of best fit for CSIRO\n",
        "\n",
        "*   Use the `linregress` function from `scipi.stats` to get the slope and y-intercept of the line of best fit.\n",
        "*   Plot the line of best fit over the top of the scatter plot.\n",
        "*   Make the line go through the year 2050 to predict the sea level rise in 2050.    \n",
        "\n",
        "*(Hint:  use numpy to create an array from the first year to 2050 with an increment of 1)*"
      ]
    },
    {
      "cell_type": "code",
      "metadata": {
        "id": "mMssVmCan7HI",
        "colab": {
          "base_uri": "https://localhost:8080/",
          "height": 486
        },
        "outputId": "a846a486-6a18-48ed-da08-8c5d5770223a"
      },
      "source": [
        "import pandas as pd\n",
        "import matplotlib.pyplot as plt\n",
        "from scipy.stats import linregress\n",
        "import numpy as np\n",
        "\n",
        "url = \"https://raw.githubusercontent.com/freeCodeCamp/boilerplate-sea-level-predictor/master/epa-sea-level.csv\"\n",
        "df = pd.read_csv (url)\n",
        "\n",
        "x = df [\"Year\"]\n",
        "y = df [\"CSIRO Adjusted Sea Level\"]\n",
        "regression = ( linregress(x,y) )\n",
        "print (regression)\n",
        "\n",
        "# get scope and y-intercept\n",
        "slope = regression.slope\n",
        "intercept = regression.intercept\n",
        "print (slope, intercept)\n",
        "\n",
        "#Plot the line of best fit over the top of the scatter plot\n",
        "plt.plot(x, slope*x + intercept)\n",
        "\n",
        "# create an extended range for x to predict sea level in 2050\n",
        "years_extended = np.arange(2014, 2050, 1)\n",
        "line = [slope*x + intercept for x in years_extended]\n",
        "\n",
        "# draw the scatter plot with line of best fit\n",
        "plt.scatter(x,y)\n",
        "plt.plot(years_extended, line, color = 'orange')# line with predicted values\n",
        "plt.show()\n"
      ],
      "execution_count": 8,
      "outputs": [
        {
          "output_type": "stream",
          "name": "stdout",
          "text": [
            "LinregressResult(slope=0.0630445840121348, intercept=-119.06594196773978, rvalue=0.984757131182585, pvalue=3.7886969791131554e-102, stderr=0.000969211871328715, intercept_stderr=1.8869433812425225)\n",
            "0.0630445840121348 -119.06594196773978\n"
          ]
        },
        {
          "output_type": "display_data",
          "data": {
            "text/plain": [
              "<Figure size 640x480 with 1 Axes>"
            ],
            "image/png": "[encoded data removed]"
          },
          "metadata": {}
        }
      ]
    },
    {
      "cell_type": "markdown",
      "metadata": {
        "id": "irprGhKO2yQs"
      },
      "source": [
        "### Exercise 5 - plot line of best fit for NOAA\n",
        "---\n",
        "\n",
        "*   Use the `linregress` function from `scipi.stats` to get the slope and y-intercept of the line of best fit.\n",
        "*   Plot the line of best fit over the top of the scatter plot.\n",
        "*   Make the line go through the year 2030 to predict the sea level rise in 2030\n",
        "\n",
        "*(Hint:  use numpy to create an array from the first year to 2030 with an increment of 1 AND remember to use noaa, which has NaN rows removed)*"
      ]
    },
    {
      "cell_type": "code",
      "metadata": {
        "id": "WZqP7hoO3Iw_",
        "colab": {
          "base_uri": "https://localhost:8080/",
          "height": 486
        },
        "outputId": "f02fc49c-5dc4-4aef-8e85-9b8c4e051b8c"
      },
      "source": [
        "import pandas as pd\n",
        "import matplotlib.pyplot as plt\n",
        "from scipy.stats import linregress\n",
        "import numpy as np\n",
        "\n",
        "url = \"https://raw.githubusercontent.com/freeCodeCamp/boilerplate-sea-level-predictor/master/epa-sea-level.csv\"\n",
        "df = pd.read_csv (url)\n",
        "\n",
        "df_clean = df. dropna (subset = \"NOAA Adjusted Sea Level\")\n",
        "\n",
        "x = df_clean [\"Year\"]\n",
        "y = df_clean [\"NOAA Adjusted Sea Level\"]\n",
        "regression = ( linregress(x,y) )\n",
        "print (regression)\n",
        "\n",
        "# get scope and y-intercept\n",
        "slope = regression.slope\n",
        "intercept = regression.intercept\n",
        "print (slope, intercept)\n",
        "\n",
        "# draw the scatter plot with line of best fit\n",
        "plt.scatter (x,y)\n",
        "plt.plot(x, slope*x + intercept)\n",
        "\n",
        "# create an extended range for x to predict sea level in 2030\n",
        "years_extended = np.arange(2014, 2030, 1)\n",
        "line = [slope*x + intercept for x in years_extended]\n",
        "plt.plot (years_extended, line, color='red')\n",
        "plt.show()\n"
      ],
      "execution_count": 13,
      "outputs": [
        {
          "output_type": "stream",
          "name": "stdout",
          "text": [
            "LinregressResult(slope=0.1106587170922078, intercept=-214.2856645683589, rvalue=0.9936055686082959, pvalue=1.8241557397822628e-19, stderr=0.0028847979364250032, intercept_stderr=5.778276670973475)\n",
            "0.1106587170922078 -214.2856645683589\n"
          ]
        },
        {
          "output_type": "display_data",
          "data": {
            "text/plain": [
              "<Figure size 640x480 with 1 Axes>"
            ],
            "image/png": "[encoded data removed]"
          },
          "metadata": {}
        }
      ]
    },
    {
      "cell_type": "markdown",
      "metadata": {
        "id": "52PpgSXk38eD"
      },
      "source": [
        "\n",
        "### Exercise 6 - shorter range (starting 2000)\n",
        "---\n",
        "\n",
        "Plot a new line of best fit just using the data from year 2000 through the most recent year in the dataset and using the CSIRO adjusted levels. Make the line also go through the year 2050 to predict the sea level rise in 2050 if the rate of rise continues as it has since the year 2000."
      ]
    },
    {
      "cell_type": "code",
      "metadata": {
        "id": "3yG0tWfS4GRN",
        "colab": {
          "base_uri": "https://localhost:8080/",
          "height": 486
        },
        "outputId": "0d8a0d78-9cdc-4c24-d1d8-4468843bf570"
      },
      "source": [
        "import pandas as pd\n",
        "import matplotlib.pyplot as plt\n",
        "from scipy.stats import linregress\n",
        "import numpy as np\n",
        "\n",
        "url = \"https://raw.githubusercontent.com/freeCodeCamp/boilerplate-sea-level-predictor/master/epa-sea-level.csv\"\n",
        "df = pd.read_csv (url)\n",
        "\n",
        "df_2000 = df.iloc [-14:] #subset of data starting from year 2000\n",
        "df_2000\n",
        "\n",
        "x= df_2000[\"Year\"]\n",
        "y= df_2000[\"CSIRO Adjusted Sea Level\"]\n",
        "regression = ( linregress(x,y) )\n",
        "print (regression)\n",
        "\n",
        "# get scope and y-intercept\n",
        "slope = regression.slope\n",
        "intercept = regression.intercept\n",
        "print (slope, intercept)\n",
        "\n",
        "# draw the scatter plot with line of best fit for data starting from 2000\n",
        "plt.scatter (x,y)\n",
        "plt.plot(x, slope*x + intercept)\n",
        "\n",
        "# create an extended range for x to predict sea level in 2050\n",
        "years_extended = np.arange(2014, 2050, 1)\n",
        "line = [slope*x+ intercept for x in years_extended]\n",
        "plt.plot (years_extended, line, color='orange')\n",
        "plt.show()"
      ],
      "execution_count": 7,
      "outputs": [
        {
          "output_type": "stream",
          "name": "stdout",
          "text": [
            "LinregressResult(slope=0.1664272733318682, intercept=-325.7934668059649, rvalue=0.9762875716140618, pvalue=2.4388064141618245e-09, stderr=0.010652933111541163, intercept_stderr=21.375153425608215)\n",
            "0.1664272733318682 -325.7934668059649\n"
          ]
        },
        {
          "output_type": "display_data",
          "data": {
            "text/plain": [
              "<Figure size 640x480 with 1 Axes>"
            ],
            "image/png": "[encoded data removed]"
          },
          "metadata": {}
        }
      ]
    },
    {
      "cell_type": "markdown",
      "metadata": {
        "id": "AO-0vV1m40Ia"
      },
      "source": [
        "### Exercise 6 - add labels to the axes  \n",
        "---\n",
        "\n",
        "The x label should be \"Year\", the y label should be \"Sea Level (inches)\", and the title should be \"Rise in Sea Level\""
      ]
    },
    {
      "cell_type": "code",
      "metadata": {
        "id": "GSY4WpDy47VC",
        "colab": {
          "base_uri": "https://localhost:8080/",
          "height": 505
        },
        "outputId": "ee7a1ee1-391f-4c58-eba7-093b0567d9b2"
      },
      "source": [
        "import pandas as pd\n",
        "import matplotlib.pyplot as plt\n",
        "from scipy.stats import linregress\n",
        "import numpy as np\n",
        "\n",
        "url = \"https://raw.githubusercontent.com/freeCodeCamp/boilerplate-sea-level-predictor/master/epa-sea-level.csv\"\n",
        "df = pd.read_csv (url)\n",
        "\n",
        "df_2000 = df.iloc [-14:] #subset of data starting from year 2000\n",
        "df_2000\n",
        "\n",
        "x= df_2000[\"Year\"]\n",
        "y= df_2000[\"CSIRO Adjusted Sea Level\"]\n",
        "regression = ( linregress(x,y) )\n",
        "print (regression)\n",
        "\n",
        "# get scope and y-intercept\n",
        "slope = regression.slope\n",
        "intercept = regression.intercept\n",
        "print (slope, intercept)\n",
        "\n",
        "# draw the scatter plot with line of best fit for data starting from 2000\n",
        "plt.scatter (x,y)\n",
        "plt.plot(x, slope*x + intercept)\n",
        "\n",
        "# create an extended range for x to predict sea level in 2050\n",
        "years_extended = np.arange(2014, 2050, 1)\n",
        "line = [slope*x+ intercept for x in years_extended]\n",
        "plt.plot (years_extended, line, color='orange')\n",
        "\n",
        "# add labels to axis\n",
        "plt.xlabel (\"Year\")\n",
        "plt.ylabel (\"Rise in Sea Level (mm)\")\n",
        "plt.show()\n"
      ],
      "execution_count": 9,
      "outputs": [
        {
          "output_type": "stream",
          "name": "stdout",
          "text": [
            "LinregressResult(slope=0.1664272733318682, intercept=-325.7934668059649, rvalue=0.9762875716140618, pvalue=2.4388064141618245e-09, stderr=0.010652933111541163, intercept_stderr=21.375153425608215)\n",
            "0.1664272733318682 -325.7934668059649\n"
          ]
        },
        {
          "output_type": "display_data",
          "data": {
            "text/plain": [
              "<Figure size 640x480 with 1 Axes>"
            ],
            "image/png": "[encoded data removed]"
          },
          "metadata": {}
        }
      ]
    },
    {
      "cell_type": "markdown",
      "source": [
        "Some additional inetersting data to be investigated:\n",
        "what are the years with the highest sea-level raise\n",
        "\n",
        "*   what are the years with highest sea level raise (top 5)\n",
        "*   what are years with negative raise (top 5)\n",
        "*   is the average sea level raise the same for 20 and 21 conetury or it has increased\n",
        "\n",
        "\n"
      ],
      "metadata": {
        "id": "MV0yGKbJGyx2"
      }
    },
    {
      "cell_type": "code",
      "source": [
        "import pandas as pd\n",
        "import matplotlib.pyplot as plt\n",
        "\n",
        "url = \"https://raw.githubusercontent.com/freeCodeCamp/boilerplate-sea-level-predictor/master/epa-sea-level.csv\"\n",
        "df = pd.read_csv (url)\n",
        "\n",
        "df\n",
        "max_raise_year = df [\"CSIRO Adjusted Sea Level\"].max()\n",
        "max_raise_year\n",
        "\n",
        "#top 5 years with highest sea level raise\n",
        "sorted_by_raise = df.sort_values (\"CSIRO Adjusted Sea Level\", ascending=False)\n",
        "sorted_by_raise.head(5)\n",
        "\n",
        "sorted_by_raise.tail (5) #lowest sea level\n",
        "\n",
        "# what is the average sea level raise for each century (19, 20, 21)\n",
        "df [\"Century\"]=\"\"\n",
        "\n",
        "def normalize  (df):\n",
        "  if (df [\"Year\"] >=1880 ) & (df [\"Year\"]< 1900):\n",
        "    return 19\n",
        "  elif (df [\"Year\"] >=1900 ) & (df [\"Year\"]< 2000):\n",
        "    return 20\n",
        "  else:\n",
        "    return 21\n",
        "\n",
        "df [\"Century\"] = df.apply (normalize, axis=1)\n",
        "df\n",
        "\n",
        "# group by century and find average\n",
        "mean = df.groupby (\"Century\") [\"CSIRO Adjusted Sea Level\"].mean()\n",
        "label = [\"19\", \"20\", \"21\"]\n",
        "\n",
        "plt.bar (label, mean )\n",
        "plt.xlabel('Centry')\n",
        "plt.ylabel('Mean sea level raise')\n"
      ],
      "metadata": {
        "colab": {
          "base_uri": "https://localhost:8080/",
          "height": 467
        },
        "id": "HnuOveDQGvkt",
        "outputId": "c6759090-70ba-40c2-f143-9ce7d7a549ec"
      },
      "execution_count": 12,
      "outputs": [
        {
          "output_type": "execute_result",
          "data": {
            "text/plain": [
              "Text(0, 0.5, 'Mean sea level raise')"
            ]
          },
          "metadata": {},
          "execution_count": 12
        },
        {
          "output_type": "display_data",
          "data": {
            "text/plain": [
              "<Figure size 640x480 with 1 Axes>"
            ],
            "image/png": "[encoded data removed]"
          },
          "metadata": {}
        }
      ]
    },
    {
      "cell_type": "markdown",
      "source": [
        "Key findings:\n",
        "\n",
        "\n",
        "*   top five years with the highest sea level raise are the most recent 5 years which means that sea level raise is increasing recently\n",
        "*   top years with lowest level raise are the most remote years where raise was almost 0, very insignificant\n",
        "\n",
        "\n",
        "*   if we goup data by century and visualize it, it is seen that in current 14 years of the 21st century sea level raise doubled already comparing to the whole 20 century level raise -from  4 mm to 8 mm per year. These data show us how the raise speeds up now.\n",
        "*   \n",
        "\n",
        "My learning path.\n",
        "\n",
        "The most valuable learning for me from the course was not to be afraid of something new, using/ searching  Stackoverflow, W3, pandas documnetation you can solve your tasks and problems. The only thing is that I always thought it could have been done more effectively and more efficient, but this is a matter of constant practice.\n",
        "The most diffficult part for me was linear regression problems. This is because I have not clearly remember regression and its attributes from math course, so sometimes had an impression that I use some parameters but do not completely understand their true meaning.\n",
        "\n",
        "During this project I used  almost all skills I learned during Data Analysis course: investgation of data, cleaning, creating new dataframes and columns, data normalization, finding data attributes (max, min, count), sorting, visualization of data and finding correlations.\n",
        "\n"
      ],
      "metadata": {
        "id": "A9TptRlCMBom"
      }
    },
    {
      "cell_type": "code",
      "source": [],
      "metadata": {
        "id": "u-i_8_gcMF30"
      },
      "execution_count": null,
      "outputs": []
    }
  ]
}