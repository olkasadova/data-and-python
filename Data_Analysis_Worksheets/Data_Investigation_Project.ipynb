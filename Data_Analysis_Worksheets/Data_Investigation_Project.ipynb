{
  "nbformat": 4,
  "nbformat_minor": 0,
  "metadata": {
    "colab": {
      "name": "Data Investigation Project.ipynb",
      "provenance": [],
      "include_colab_link": true
    },
    "kernelspec": {
      "name": "python3",
      "display_name": "Python 3"
    },
    "language_info": {
      "name": "python"
    }
  },
  "cells": [
    {
      "cell_type": "markdown",
      "metadata": {
        "id": "view-in-github",
        "colab_type": "text"
      },
      "source": [
        "<a href=\"https://colab.research.google.com/github/olkasadova/data-and-python/blob/main/Data_Analysis_Worksheets/Data_Investigation_Project.ipynb\" target=\"_parent\"><img src=\"https://colab.research.google.com/assets/colab-badge.svg\" alt=\"Open In Colab\"/></a>"
      ]
    },
    {
      "cell_type": "markdown",
      "metadata": {
        "id": "hmwPnuX3KU5t"
      },
      "source": [
        "# Data investigation project\n",
        "---\n",
        "\n",
        "Use what you have learnt so far about reading data files and displaying rows, columns, unique values, etc, to investigate and produce some printed information from this data set: https://raw.githubusercontent.com/futureCodersSE/working-with-data/main/Data%20sets/housing_in_london_yearly_variables.csv"
      ]
    },
    {
      "cell_type": "code",
      "metadata": {
        "id": "Z1q5Ven3KUEL",
        "outputId": "38dc480f-abe3-465f-ce53-c599db287405",
        "colab": {
          "base_uri": "https://localhost:8080/"
        }
      },
      "source": [
        "import pandas as pd\n",
        "url = 'https://raw.githubusercontent.com/futureCodersSE/working-with-data/main/Data%20sets/housing_in_london_yearly_variables.csv'\n",
        "df = pd.read_csv(url)\n",
        "\n",
        "#display first 50 rows\n",
        "#display last 10 rows\n",
        "# display list of unique areas and calculate number of unique areas\n",
        "# display areas with population more than 1 million (area, population size)\n",
        "#calculate how many large areas are in the dataset\n",
        "\n",
        "df.head(50)\n",
        "df.tail(10)\n",
        "print (df [\"area\"].unique ())\n",
        "\n",
        "print (\"Number of unique areas is: \",len(df [\"area\"].unique ()))\n",
        "\n",
        "large_areas = [\"\"]\n",
        "for area in range (0, 100):\n",
        "  if df [\"population_size\"].loc[area] > 1000000:\n",
        "    large_areas.append(df[[\"area\", \"population_size\"]].iloc [area])\n",
        "\n",
        "print (\"Number of areas with more than 1 million population: \", len(large_areas))\n",
        "\n",
        "print (large_areas)\n",
        "\n"
      ],
      "execution_count": 19,
      "outputs": [
        {
          "output_type": "stream",
          "name": "stdout",
          "text": [
            "['city of london' 'barking and dagenham' 'barnet' 'bexley' 'brent'\n",
            " 'bromley' 'camden' 'croydon' 'ealing' 'enfield' 'greenwich' 'hackney'\n",
            " 'hammersmith and fulham' 'haringey' 'harrow' 'havering' 'hillingdon'\n",
            " 'hounslow' 'islington' 'kensington and chelsea' 'kingston upon thames'\n",
            " 'lambeth' 'lewisham' 'merton' 'newham' 'redbridge' 'richmond upon thames'\n",
            " 'southwark' 'sutton' 'tower hamlets' 'waltham forest' 'wandsworth'\n",
            " 'westminster' 'north east' 'north west' 'yorkshire and the humber'\n",
            " 'east midlands' 'west midlands' 'east' 'london' 'south east' 'south west'\n",
            " 'inner london' 'outer london' 'england' 'united kingdom' 'great britain'\n",
            " 'england and wales' 'northern ireland' 'scotland' 'wales']\n",
            "Number of unique areas is:  51\n",
            "Number of areas with more than 1 million population:  35\n",
            "['', area               north east\n",
            "population_size     2550314.0\n",
            "Name: 33, dtype: object, area               north west\n",
            "population_size     6773115.0\n",
            "Name: 34, dtype: object, area               yorkshire and the humber\n",
            "population_size                   4956325.0\n",
            "Name: 35, dtype: object, area               east midlands\n",
            "population_size        4152443.0\n",
            "Name: 36, dtype: object, area               west midlands\n",
            "population_size        5271959.0\n",
            "Name: 37, dtype: object, area                    east\n",
            "population_size    5338722.0\n",
            "Name: 38, dtype: object, area                  london\n",
            "population_size    7153912.0\n",
            "Name: 39, dtype: object, area               south east\n",
            "population_size     7955124.0\n",
            "Name: 40, dtype: object, area               south west\n",
            "population_size     4880958.0\n",
            "Name: 41, dtype: object, area               inner london\n",
            "population_size       2750716.0\n",
            "Name: 42, dtype: object, area               outer london\n",
            "population_size       4403196.0\n",
            "Name: 43, dtype: object, area                  england\n",
            "population_size    49032872.0\n",
            "Name: 44, dtype: object, area               united kingdom\n",
            "population_size        58684427.0\n",
            "Name: 45, dtype: object, area               great britain\n",
            "population_size       57005421.0\n",
            "Name: 46, dtype: object, area               england and wales\n",
            "population_size           51933471.0\n",
            "Name: 47, dtype: object, area               northern ireland\n",
            "population_size           1679006.0\n",
            "Name: 48, dtype: object, area                scotland\n",
            "population_size    5071950.0\n",
            "Name: 49, dtype: object, area                   wales\n",
            "population_size    2900599.0\n",
            "Name: 50, dtype: object, area               north east\n",
            "population_size     2543421.0\n",
            "Name: 84, dtype: object, area               north west\n",
            "population_size     6774223.0\n",
            "Name: 85, dtype: object, area               yorkshire and the humber\n",
            "population_size                   4958609.0\n",
            "Name: 86, dtype: object, area               east midlands\n",
            "population_size        4168076.0\n",
            "Name: 87, dtype: object, area               west midlands\n",
            "population_size        5269626.0\n",
            "Name: 88, dtype: object, area                    east\n",
            "population_size    5374972.0\n",
            "Name: 89, dtype: object, area                  london\n",
            "population_size    7236712.0\n",
            "Name: 90, dtype: object, area               south east\n",
            "population_size     7990598.0\n",
            "Name: 91, dtype: object, area               south west\n",
            "population_size     4917074.0\n",
            "Name: 92, dtype: object, area               inner london\n",
            "population_size       2804949.0\n",
            "Name: 93, dtype: object, area               outer london\n",
            "population_size       4431763.0\n",
            "Name: 94, dtype: object, area                  england\n",
            "population_size    49233311.0\n",
            "Name: 95, dtype: object, area               united kingdom\n",
            "population_size        58886065.0\n",
            "Name: 96, dtype: object, area               great britain\n",
            "population_size       57203121.0\n",
            "Name: 97, dtype: object, area               england and wales\n",
            "population_size           52140181.0\n",
            "Name: 98, dtype: object, area               northern ireland\n",
            "population_size           1682944.0\n",
            "Name: 99, dtype: object]\n"
          ]
        }
      ]
    }
  ]
}