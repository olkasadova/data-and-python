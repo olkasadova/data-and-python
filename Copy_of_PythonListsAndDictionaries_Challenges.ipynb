{
  "cells": [
    {
      "cell_type": "markdown",
      "metadata": {
        "id": "view-in-github",
        "colab_type": "text"
      },
      "source": [
        "<a href=\"https://colab.research.google.com/github/olkasadova/data-and-python/blob/main/Copy_of_PythonListsAndDictionaries_Challenges.ipynb\" target=\"_parent\"><img src=\"https://colab.research.google.com/assets/colab-badge.svg\" alt=\"Open In Colab\"/></a>"
      ]
    },
    {
      "cell_type": "markdown",
      "metadata": {
        "id": "Vvcpt-18AqVE"
      },
      "source": [
        "<a href=\"https://colab.research.google.com/github/StefanMeyer7/Python-Fundamentals/blob/main/PythonListsAndDictionaries_Challenges.ipynb\" target=\"_parent\"><img src=\"https://colab.research.google.com/assets/colab-badge.svg\" alt=\"Open In Colab\"/></a>"
      ]
    },
    {
      "cell_type": "markdown",
      "metadata": {
        "id": "W4CdIbiFfeG3"
      },
      "source": [
        "# Some challenges to help you become more confident with using Lists, Tuples and Dictionaries\n",
        "\n",
        "---\n",
        "\n"
      ]
    },
    {
      "cell_type": "markdown",
      "metadata": {
        "id": "WaIu0Ye9ffOl"
      },
      "source": [
        "### Exercise 1 - extending a list\n",
        "\n",
        "There are three ways to extend a list in Python:  \n",
        "*  use `list_name.append(item)`, `list_name.insert(item)`\n",
        "*  concatenate two lists using the + operator (e.g. new_list = list1 + list2)\n",
        "*  use `list1_name.extend(list2_name)`\n",
        "\n",
        "The last method allows us to add all the `list2` items onto `list1` and for the new, extended list to now be `list1`.  `list2` will always be added to the end of `list1`.  \n",
        "\n",
        "If the objective is to add list2 before list1 then use `list2.extend(list1)`\n",
        "\n",
        "Write a function which will:  \n",
        "*  create a list of **years** containing the years 1960, 1970, 1980, 1990, 2000  \n",
        "*  print the list of years  \n",
        "*  calculate how long ago each year was and print the year and how long ago it was (e.g. 1990 was 30 years ago)  *(Hint:  use the datetime library to get the current year)*   \n",
        "*  create a second list, **years2** containing the years 2010 and 2020, extend `years` to include these later years\n",
        "*  create a third list, **years3** containing the years 1930, 1940 and 1950 and extend the list to include all the years between 1930 and 2020\n",
        "*  print the final list\n",
        "\n",
        "Expected output:  \n",
        "[1960, 1970, 1980, 1990]  \n",
        "1960 was 61 years ago  \n",
        "1970 was 51 years ago  \n",
        "1980 was 41 years ago  \n",
        "1990 was 31 years ago  \n",
        "2000 was 21 years ago  \n",
        "[1930, 1940, 1950, 1960, 1970, 1980, 1990, 2000, 2010, 2020]"
      ]
    },
    {
      "cell_type": "code",
      "execution_count": null,
      "metadata": {
        "id": "WttlqF5-ffyw",
        "outputId": "91742cd0-5d73-47eb-ebab-01b9c2f5abac",
        "colab": {
          "base_uri": "https://localhost:8080/"
        }
      },
      "outputs": [
        {
          "output_type": "stream",
          "name": "stdout",
          "text": [
            "[1960, 1970, 1980, 1990, 2000]\n",
            "1960 was 63 years ago\n",
            "1970 was 53 years ago\n",
            "1980 was 43 years ago\n",
            "1990 was 33 years ago\n",
            "2000 was 23 years ago\n",
            "[1930, 1940, 1950, 1960, 1970, 1980, 1990, 2000, 2010, 2020]\n"
          ]
        }
      ],
      "source": [
        "from datetime import datetime\n",
        "def extend_list():\n",
        "  years = [1960, 1970, 1980, 1990, 2000]\n",
        "  print (years)\n",
        "\n",
        "  # calculate how long ago each year was and print the year and how long ago it was\n",
        "  current_year = datetime.now()\n",
        "  for i in range(len(years)):\n",
        "    year_ago = current_year.year  - years[i]\n",
        "    print (years[i], \"was\", year_ago, \"years ago\")\n",
        "\n",
        "  years2 = [2010, 2020]\n",
        "  years3 = [1930, 1940, 1950]\n",
        "\n",
        "  years.extend (years2)\n",
        "  years3.extend (years)\n",
        "  print (years3)\n",
        "\n",
        "extend_list()"
      ]
    },
    {
      "cell_type": "markdown",
      "metadata": {
        "id": "ORhAOgBLfg04"
      },
      "source": [
        "---\n",
        "### Exercise 2 - creating a dictionary from a tuple and three lists\n",
        "\n",
        "Write a function which will create a list of dictionary items using the values in a tuple as the dictionary keys and the values in three corresponding lists as the dictionary values.\n",
        "\n",
        "*  loop through the status items in the tuple called task_status\n",
        "*  for each status, loop through the list with the same name (*Hint:  you can use eval(status) to access the list with the matching name  e.g. for task in eval(status)* )\n",
        "*  each time round this second loop, create a dictionary object with the  key:value pair {status : task}\n",
        "*  add each new dictionary to a list called **project_board** that was created as an empty list before the loops  \n",
        "*  print the project_board list\n",
        "\n",
        "Expected output:  \n",
        "\n",
        "[{'assigned': 'task1'}, {'assigned': 'task2'}, {'assigned': 'task3'}, {'inprogress': 'task4'}, {'inprogress': 'task5'}, {'inprogress': 'task6'}, {'completed': 'task7'}, {'completed': 'task8'}, {'completed': 'task9'}]\n",
        "\n"
      ]
    },
    {
      "cell_type": "code",
      "execution_count": 55,
      "metadata": {
        "id": "1Cxi97h8fiB6",
        "outputId": "c0fa4bdc-7d3f-4d6b-ab2a-ce0c04a91a4c",
        "colab": {
          "base_uri": "https://localhost:8080/"
        }
      },
      "outputs": [
        {
          "output_type": "stream",
          "name": "stdout",
          "text": [
            "[{'assigned': 'task1'}, {'assigned': 'task2'}, {'assigned': 'task3'}, {'assigned': 'task3', 'inprogress': 'task4'}, {'assigned': 'task3', 'inprogress': 'task5'}, {'assigned': 'task3', 'inprogress': 'task6'}, {'assigned': 'task3', 'inprogress': 'task6', 'completed': 'task7'}, {'assigned': 'task3', 'inprogress': 'task6', 'completed': 'task8'}, {'assigned': 'task3', 'inprogress': 'task6', 'completed': 'task9'}]\n",
            "{'assigned': 'task3', 'inprogress': 'task6', 'completed': 'task9'}\n"
          ]
        }
      ],
      "source": [
        "def create_project_board():\n",
        "  task_status = (\"assigned\", \"inprogress\", \"completed\")\n",
        "  assigned = ['task1','task2','task3']\n",
        "  inprogress = ['task4','task5','task6']\n",
        "  completed = ['task7','task8','task9']\n",
        "  #  add your code below here\n",
        "\n",
        "  task_dictionary = {}\n",
        "  project_board = []\n",
        "\n",
        "  for s_key in range(len(task_status)):\n",
        "    task_key = task_status [s_key]\n",
        "\n",
        "    task_key_list = eval (task_key)  #get the corresponsing list for each value in tuple\n",
        "    for i in range (len(task_key_list)):\n",
        "      #add a dictionary with key and value\n",
        "      task_dictionary.update({\n",
        "       task_key: task_key_list[i]})\n",
        "\n",
        "#add dictionary to the list\n",
        "      project_board.append (dict(task_dictionary))\n",
        "\n",
        "  print (project_board)\n",
        "\n",
        "\n",
        "\n",
        "\n",
        "create_project_board()\n"
      ]
    },
    {
      "cell_type": "markdown",
      "metadata": {
        "id": "G66tj6DFfj2r"
      },
      "source": [
        "---\n",
        "### Exercise 3 - names and heights\n",
        "\n",
        "Write a function which will allow a user to enter the names and heights of a set of people and add each set of information as a record (dictionary) to a list. The function will stop collecting names and heights when the user enters \"STOP\" as the name.\n",
        "\n",
        "Then, the function will:  \n",
        "\n",
        "*   produce a list of names in order of the shortest person to the tallest\n",
        "*   calculate the name of the tallest person\n",
        "*   calculate the name of the shortest person\n",
        "*   calculate the average height\n",
        "*   calculate the name of the person who is closest to the average height\n",
        "\n",
        "\n",
        "\n",
        "\n"
      ]
    },
    {
      "cell_type": "code",
      "execution_count": 10,
      "metadata": {
        "id": "5Mrul19ufkd2",
        "outputId": "c930a048-3f51-4ee9-bf41-d99c56f4fcf9",
        "colab": {
          "base_uri": "https://localhost:8080/"
        }
      },
      "outputs": [
        {
          "output_type": "stream",
          "name": "stdout",
          "text": [
            "Input a name: Olha\n",
            "Input your height: 163\n",
            "Inout your name: Mike\n",
            "Input your height: 190\n",
            "Inout your name: Kate\n",
            "Input your height: 160\n",
            "Inout your name: Dan\n",
            "Input your height: 185\n",
            "Inout your name: STOP\n",
            "The average height is:  174\n",
            "Closest height to avegare: {'name': 'Olha', 'height': '163'}\n",
            "Person data sorted by height:  [{'name': 'Kate', 'height': '160'}, {'name': 'Olha', 'height': '163'}, {'name': 'Dan', 'height': '185'}, {'name': 'Mike', 'height': '190'}]\n",
            "The tallest is  Mike\n",
            "The shortest is  Kate\n"
          ]
        }
      ],
      "source": [
        "import operator\n",
        "def names_heights():\n",
        "  person_data = []\n",
        "  person_height = {\n",
        "\n",
        "  }\n",
        "  #create a list of dictionary:\n",
        "  name = input (\"Input a name: \")\n",
        "\n",
        "  while name !=\"STOP\":\n",
        "    height = input (\"Input your height: \")\n",
        "    person_height = {\n",
        "        \"name\": name,\n",
        "        \"height\" : height\n",
        "    }\n",
        "    name = input (\"Inout your name: \")\n",
        "\n",
        "    person_data.append (person_height) #adding dictiinary to the list\n",
        "\n",
        "  #produce a list of names in order of the shortest person to the tallest\n",
        "  sorted_heights = sorted(person_data, key=operator.itemgetter('height'))\n",
        "\n",
        "  #tallest person - last in the sorted list\n",
        "  tallest = sorted_heights [-1]['name']\n",
        "\n",
        "  #shortest person - first in the sorted list\n",
        "  shortest = sorted_heights [0]['name']\n",
        "\n",
        "  #calculate the average height\n",
        "  sum=0\n",
        "  for i in range(len (sorted_heights)):\n",
        "    height_i = int(sorted_heights[i]['height'])\n",
        "    sum += height_i\n",
        "  average = int(sum/ (len (sorted_heights)))\n",
        "  print (\"The average height is: \", average)\n",
        "\n",
        "  #calculate the name of the person who is closest to the average height\n",
        "  closest_height = sorted(sorted_heights, key=lambda x: abs(average - int(x['height'])))\n",
        "  #sorted_list = sorted(my_list, key=lambda x: x['age'])\n",
        "  print (\"Closest height to avegare:\", closest_height[0])\n",
        "\n",
        "\n",
        "  print (\"Person data sorted by height: \", sorted_heights)\n",
        "  print (\"The tallest is \", tallest)\n",
        "  print (\"The shortest is \", shortest)\n",
        "\n",
        "names_heights()"
      ]
    }
  ],
  "metadata": {
    "colab": {
      "provenance": [],
      "include_colab_link": true
    },
    "kernelspec": {
      "display_name": "Python 3",
      "name": "python3"
    },
    "language_info": {
      "name": "python"
    }
  },
  "nbformat": 4,
  "nbformat_minor": 0
}