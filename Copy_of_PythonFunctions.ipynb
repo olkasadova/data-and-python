{
  "cells": [
    {
      "cell_type": "markdown",
      "metadata": {
        "id": "view-in-github",
        "colab_type": "text"
      },
      "source": [
        "<a href=\"https://colab.research.google.com/github/olkasadova/data-and-python/blob/main/Copy_of_PythonFunctions.ipynb\" target=\"_parent\"><img src=\"https://colab.research.google.com/assets/colab-badge.svg\" alt=\"Open In Colab\"/></a>"
      ]
    },
    {
      "cell_type": "markdown",
      "metadata": {
        "id": "Vvcpt-18AqVE"
      },
      "source": [
        "<a href=\"https://colab.research.google.com/github/StefanMeyer7/Python-Fundamentals/blob/main/PythonFunctions.ipynb\" target=\"_parent\"><img src=\"https://colab.research.google.com/assets/colab-badge.svg\" alt=\"Open In Colab\"/></a>"
      ]
    },
    {
      "cell_type": "markdown",
      "metadata": {
        "id": "sFf_RJVdUAd7"
      },
      "source": [
        "# Python functions\n",
        "\n",
        "---"
      ]
    },
    {
      "cell_type": "markdown",
      "metadata": {
        "id": "xBFk8HVPUCB2"
      },
      "source": [
        "You have already been using functions that are provided with Python  \n",
        "*  print()\n",
        "*  input()\n",
        "*  randint() *(from random)*\n",
        "\n",
        "You can tell that they are functions because they have brackets after the name. Often there is some data in the brackets (ie something that you want the function to use on this occasion)\n",
        "\n",
        "*  print(\"Hello\")\n",
        "*  input(\"What is your name? \")\n",
        "*  randint(1,6) *(from the random function library)*\n",
        "\n",
        "The data is called a *parameter* or an *argument*.  There can be any number of parameters passed to a function.  Order is important but can sometimes be overridden.\n",
        "\n",
        "Some functions just do something (e.g. print(\"Hello\") will just print the word Hello)..  \n",
        "\n",
        "Other functions produce some new data which you will assign to a variable:  \n",
        "```\n",
        "name = input(\"What is your name? \")  \n",
        "dice_roll = randint(1,6)\n",
        "```\n",
        "\n",
        "Each time you use a function's name in your program, or in another function, you are calling it and it will run.\n",
        "\n"
      ]
    },
    {
      "cell_type": "markdown",
      "metadata": {
        "id": "AIYd6YwxUDZD"
      },
      "source": [
        "---\n",
        "### Exercise 1 - len() of a string\n",
        "\n",
        "Write a function called **get_password()** which will get a password of 8 characters:  \n",
        "\n",
        "*  assign the value \"\" to a variable called **password**  \n",
        "*  start a while loop that will continue to loop while the length of `password` is not 8 characters    \n",
        "*  in the loop:  ask the user to enter a `password`\n",
        "*  after the loop, return the password to the calling program, which will print the valid password.  \n",
        "\n",
        "Test input:  \n",
        "abddgejkfjkl   \n",
        "999999999  \n",
        "ABCDEFH   \n",
        "\n",
        "Expected output:  \n",
        "ABCDEFGH  "
      ]
    },
    {
      "cell_type": "code",
      "execution_count": 9,
      "metadata": {
        "id": "uZ7LBtQDUFxq",
        "outputId": "afffd7c5-c579-44df-8ba3-bf70b9d1f9d9",
        "colab": {
          "base_uri": "https://localhost:8080/",
          "height": 144
        }
      },
      "outputs": [
        {
          "output_type": "stream",
          "name": "stdout",
          "text": [
            "Please enter you password: abddgejkfjkl\n",
            "12\n",
            "Please enter you password: 999999999\n",
            "9\n",
            "Please enter you password: ABCDEFGH\n",
            "8\n"
          ]
        },
        {
          "output_type": "execute_result",
          "data": {
            "text/plain": [
              "'ABCDEFGH'"
            ],
            "application/vnd.google.colaboratory.intrinsic+json": {
              "type": "string"
            }
          },
          "metadata": {},
          "execution_count": 9
        }
      ],
      "source": [
        "def get_password():\n",
        "  # add your code below here\n",
        "  password = \"\"\n",
        "  i=0\n",
        "  while i != 8:\n",
        "    password= input (\"Please enter you password: \")\n",
        "    i= len (password)\n",
        "    print (i)\n",
        "  return password\n",
        "\n",
        "get_password()\n"
      ]
    },
    {
      "cell_type": "markdown",
      "metadata": {
        "id": "p_CkC4wNURFH"
      },
      "source": [
        "---\n",
        "### Exercise 2 - capitalise username\n",
        "\n",
        "Write a function called **get_username()** which will:  \n",
        "\n",
        "*  ask the user for a **username**  \n",
        "*  convert the `username` to upper case and assign the new value to a variable called **username_upper**   \n",
        "* if `username_upper` is \"ADMINUSER1\" then return \"Valid user\", otherwise return \"Invalid username\".  The calling program will print the message.  \n",
        "\n",
        "Test input:  \n",
        "admin\n",
        "\n",
        "Expected output:  \n",
        "Invalid username\n",
        "\n",
        "Test input:  \n",
        "AdminUser1\n",
        "\n",
        "Expected output:  \n",
        "Valid user  \n"
      ]
    },
    {
      "cell_type": "code",
      "execution_count": null,
      "metadata": {
        "id": "GwQ62wpDUS01",
        "outputId": "1e84f714-1c8b-4387-a8a0-fe063cd25472",
        "colab": {
          "base_uri": "https://localhost:8080/"
        }
      },
      "outputs": [
        {
          "output_type": "stream",
          "name": "stdout",
          "text": [
            "Please provide your username: adminuser1\n",
            "Valid user\n"
          ]
        }
      ],
      "source": [
        "def get_username():\n",
        "  # add your code below here\n",
        "  username = input(\"Please provide your username: \")\n",
        "  username_upper = username.upper()\n",
        "  if username_upper == \"ADMINUSER1\":\n",
        "    return (\"Valid user\")\n",
        "  else:\n",
        "    return (\"Invalid username\")\n",
        "\n",
        "\n",
        "print(get_username())"
      ]
    },
    {
      "cell_type": "markdown",
      "metadata": {
        "id": "dz5MgKXdUUMo"
      },
      "source": [
        "---\n",
        "### Exercise 3 - select correct message\n",
        "\n",
        "Write a function called **get_credentials()** which will:  \n",
        "\n",
        "*  ask the user for a **username**  \n",
        "*  ask the user for a **password**  \n",
        "*  return one of the following messages:\n",
        "*  *  \"Credentials accepted\"  \n",
        "*  *  \"Invalid user\"  \n",
        "*  *  \"Password too short\"  \n",
        "\n",
        "Note:  `username` must be \"AdminUser1\" and the password must be at least 8 characters.  The calling program will print the message.  \n",
        "\n",
        "Test input:  \n",
        "AdminUser1\n",
        "abc999def\n",
        "\n",
        "Expected output:  \n",
        "Credentials accepted\n",
        "\n",
        "Test input:  \n",
        "AdminUser1\n",
        "abc\n",
        "\n",
        "Expected output:  \n",
        "Password too short  \n",
        "\n",
        "Test input:  \n",
        "User1\n",
        "abc999def\n",
        "\n",
        "Expected output:  \n",
        "Invalid user  "
      ]
    },
    {
      "cell_type": "code",
      "execution_count": null,
      "metadata": {
        "id": "Ts6208g_UU9a",
        "outputId": "2a9ecb00-60d8-4a70-af2e-739fa3b16e10",
        "colab": {
          "base_uri": "https://localhost:8080/",
          "height": 72
        }
      },
      "outputs": [
        {
          "name": "stdout",
          "output_type": "stream",
          "text": [
            "Please provide your username: AdminUser1\n",
            "Please provide your passowrd: 12345678\n"
          ]
        },
        {
          "output_type": "execute_result",
          "data": {
            "text/plain": [
              "'Credentials accepted'"
            ],
            "application/vnd.google.colaboratory.intrinsic+json": {
              "type": "string"
            }
          },
          "metadata": {},
          "execution_count": 12
        }
      ],
      "source": [
        "def get_credentials():\n",
        "  username = input (\"Please provide your username: \")\n",
        "  password = input (\"Please provide your passowrd: \")\n",
        "  if username == \"AdminUser1\" and len(password) == 8:\n",
        "    return \"Credentials accepted\"\n",
        "  elif username == \"AdminUser1\" and len(password) < 8:\n",
        "    return \"Password too short\"\n",
        "  elif username != \"AdminUser1\" or len(password >8):\n",
        "    return \"Invalid user\"\n",
        "\n",
        "get_credentials()\n",
        "\n"
      ]
    },
    {
      "cell_type": "markdown",
      "metadata": {
        "id": "X_--igvaUVwM"
      },
      "source": [
        "---\n",
        "### Exercise 4 - round to given dp\n",
        "\n",
        "Write a function called **get_rounded_float()** which will:  \n",
        "\n",
        "*  ask the user for a decimal **number**  \n",
        "*  ask the user for a number of **places** to round to  \n",
        "*  return the number rounded to the requested number of decimal places\n",
        "\n",
        "Note:  The calling program will print the number.  \n",
        "\n",
        "Test input:  \n",
        "3.14159  \n",
        "2\n",
        "\n",
        "Expected output:  \n",
        "3.14  \n",
        "\n",
        "Test input:  \n",
        "98.6666666666666  \n",
        "4  \n",
        "\n",
        "Expected output:  \n",
        "98.6667  "
      ]
    },
    {
      "cell_type": "code",
      "execution_count": 1,
      "metadata": {
        "id": "YxWVW-tCUWi0",
        "outputId": "1b62a7dc-e822-44b5-f6cb-51e03d33100e",
        "colab": {
          "base_uri": "https://localhost:8080/"
        }
      },
      "outputs": [
        {
          "name": "stdout",
          "output_type": "stream",
          "text": [
            "Please provide a decimal number: 98.66666666\n",
            "Please provide number of places: 4\n"
          ]
        },
        {
          "output_type": "execute_result",
          "data": {
            "text/plain": [
              "98.6667"
            ]
          },
          "metadata": {},
          "execution_count": 1
        }
      ],
      "source": [
        "def get_rounded_float():\n",
        "  number = float(input(\"Please provide a decimal number: \"))\n",
        "  places = int(input(\"Please provide number of places: \"))\n",
        "  return round (number, places)\n",
        "\n",
        "get_rounded_float()"
      ]
    },
    {
      "cell_type": "markdown",
      "metadata": {
        "id": "_3cAVG4dUdNy"
      },
      "source": [
        "---\n",
        "### Exercise 5 - round or not\n",
        "\n",
        "Write a function called **get_rounded_float()** which will:  \n",
        "\n",
        "*  ask the user for a decimal **number**  \n",
        "*  ask the user if they would like to round the number (Y or N) assign this value to **round_number**\n",
        "*  if `round_number` is \"Y\", then ask the user for a number of **places** to round to and return the number rounded to the required number of decimal places  \n",
        "*  otherwise, return the number as it was typed in\n",
        "\n",
        "Note:  The calling program will print the number.  \n",
        "\n",
        "Test input:  \n",
        "3.14159  \n",
        "Y  \n",
        "3\n",
        "\n",
        "Expected output:  \n",
        "3.142\n",
        "\n",
        "Test input:  \n",
        "98.6666666666666  \n",
        "N\n",
        "\n",
        "Expected output:  \n",
        "98.6666666666666  "
      ]
    },
    {
      "cell_type": "code",
      "execution_count": null,
      "metadata": {
        "id": "37yoNHUMUfU1",
        "outputId": "0578e9e6-0966-4800-fbec-ac3e0f8c4c82",
        "colab": {
          "base_uri": "https://localhost:8080/"
        }
      },
      "outputs": [
        {
          "output_type": "stream",
          "name": "stdout",
          "text": [
            "Please provide a decimal number: 3.908080\n",
            "Do you want to round the number? Y/N y\n",
            "y\n"
          ]
        },
        {
          "output_type": "execute_result",
          "data": {
            "text/plain": [
              "3.90808"
            ]
          },
          "metadata": {},
          "execution_count": 21
        }
      ],
      "source": [
        "def get_rounded_float():\n",
        "  number = float(input(\"Please provide a decimal number: \"))\n",
        "  round_number = input (\"Do you want to round the number? Y/N \")\n",
        "  # capitalize user input\n",
        "  #round_number = round_number.upper\n",
        "  print (round_number)\n",
        "  if str(round_number) == \"Y\":\n",
        "    places = int(input (\"please provide places: \"))\n",
        "    return round(number, places)\n",
        "  else:\n",
        "    return (number)\n",
        "\n",
        "get_rounded_float()\n"
      ]
    },
    {
      "cell_type": "markdown",
      "metadata": {
        "id": "3QKlC5GSUgpR"
      },
      "source": [
        "---\n",
        "### Exercise 6 - random number and places\n",
        "\n",
        "Write a function called **generate_rounded_float()** which will:  \n",
        "\n",
        "*  import the functions uniform and randint from random (from random import uniform, randint)    \n",
        "Note *: the uniform function will generate a random float between two given boundary numbers ( e.g. number = uniform(10,20)).  It is better practice to name the functions you will be using from a library rather than importing the whole library, which could be large*  \n",
        "\n",
        "*  generate a random decimal **number** between 1 and 100   \n",
        "*  print the `number`   \n",
        "*  generate a random integer **places** between 1 and 4\n",
        "*  print `places`\n",
        "*  return the `number` rounded to the given number of `places`\n",
        "\n",
        "Note **bold text**:  The calling program will print the number.  \n",
        "\n",
        "**Example 1:**  \n",
        "Random number is 3.14159  \n",
        "Number of places is 3  \n",
        "\n",
        "Expected result: 3.142\n",
        "\n",
        "**Example 2**:  \n",
        "Random number is 98.6666666666666  \n",
        "Number of places is 4  \n",
        "\n",
        "Expected result: 98.6667"
      ]
    },
    {
      "cell_type": "code",
      "execution_count": 4,
      "metadata": {
        "id": "QM4vQcY9Uh2D",
        "colab": {
          "base_uri": "https://localhost:8080/"
        },
        "outputId": "ad33e918-cb5d-4032-ce18-9287d9a4c4b7"
      },
      "outputs": [
        {
          "output_type": "stream",
          "name": "stdout",
          "text": [
            "34.51324216464197\n",
            "2\n"
          ]
        },
        {
          "output_type": "execute_result",
          "data": {
            "text/plain": [
              "34.51"
            ]
          },
          "metadata": {},
          "execution_count": 4
        }
      ],
      "source": [
        "from random import uniform, randint\n",
        "def generate_rounded_float():\n",
        "    number = uniform (1, 100)\n",
        "    print (number)\n",
        "    places = randint (1, 4)\n",
        "    print (places)\n",
        "    return round(number, places)\n",
        "\n",
        "generate_rounded_float()\n",
        "\n",
        "\n"
      ]
    }
  ],
  "metadata": {
    "colab": {
      "provenance": [],
      "include_colab_link": true
    },
    "kernelspec": {
      "display_name": "Python 3",
      "name": "python3"
    },
    "language_info": {
      "name": "python"
    }
  },
  "nbformat": 4,
  "nbformat_minor": 0
}