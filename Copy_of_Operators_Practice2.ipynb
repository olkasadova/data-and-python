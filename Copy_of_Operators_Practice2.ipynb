{
  "nbformat": 4,
  "nbformat_minor": 0,
  "metadata": {
    "colab": {
      "provenance": [],
      "include_colab_link": true
    },
    "kernelspec": {
      "name": "python3",
      "display_name": "Python 3"
    },
    "language_info": {
      "name": "python"
    }
  },
  "cells": [
    {
      "cell_type": "markdown",
      "metadata": {
        "id": "view-in-github",
        "colab_type": "text"
      },
      "source": [
        "<a href=\"https://colab.research.google.com/github/olkasadova/data-and-python/blob/main/Copy_of_Operators_Practice2.ipynb\" target=\"_parent\"><img src=\"https://colab.research.google.com/assets/colab-badge.svg\" alt=\"Open In Colab\"/></a>"
      ]
    },
    {
      "cell_type": "markdown",
      "source": [
        "<a href=\"https://colab.research.google.com/github/StefanMeyer7/Python-Fundamentals/blob/main/Operators_Practice2.ipynb\" target=\"_parent\"><img src=\"https://colab.research.google.com/assets/colab-badge.svg\" alt=\"Open In Colab\"/></a>"
      ],
      "metadata": {
        "id": "hypbENCo_DGn"
      }
    },
    {
      "cell_type": "markdown",
      "source": [
        "# Operators - comparison and reusing variables\n",
        "\n",
        "---"
      ],
      "metadata": {
        "id": "Yo3yOqWm1alj"
      }
    },
    {
      "cell_type": "markdown",
      "source": [
        "You have used the assignment operator (=) extensively so far.  Each time we create a variable and use the assignment operator we store data in that variable.   In general, so far, we have created new variables each time we create new data, even if it uses data from a variable we have used before and won’t need to use again after this assignment.\n",
        "\n",
        "There is a set of operators available for reusing variables to update the values in them but using the value that is already stored as part of the calculation to get the new value.\n",
        "\n",
        "An example of this is when we are adding new values onto a running total.\n",
        "\n",
        "Suppose the total we have got to is 14 and this is stored in a variable called total.\n",
        "\n",
        "*total = 14*\n",
        "\n",
        "When we have a new number to add to the total we don’t need to create a new total variable (assuming that we don’t need to remember interim totals).  We do this as follows:\n",
        "\n",
        "*next_number = 9*\n",
        "*total += next_number*\n",
        "\n",
        "Python will add **next_number** to total and store the result back in **total**.\n",
        "\n",
        "We can do this with addition, subtraction, multiplication and division, floor division, exponentiation and even modulus\n",
        "In Python, we can use the following arithmetic operators:\n",
        "\n",
        "![Assignment operators](https://drive.google.com/uc?id=1Qq-UeMc2xbxKhNP87zY1loLSARaLsVse)\n"
      ],
      "metadata": {
        "id": "SQjqZfRT1bTL"
      }
    },
    {
      "cell_type": "markdown",
      "source": [
        "Have a go at these exercises to help with using assignment operators"
      ],
      "metadata": {
        "id": "Fb3ZU-UV1ew7"
      }
    },
    {
      "cell_type": "markdown",
      "source": [
        "---\n",
        "### Exercise 1 = running total  \n",
        "\n",
        "Write a function called **calculate_running_total()** which will:  \n",
        "\n",
        "*   assign the value 0 to a variable called **total**  \n",
        "*   ask the user to enter a **number**  \n",
        "*   add the number to the `total`, storing the result in `total`  \n",
        "*   ask the user to enter a second **number**  \n",
        "*   add this number to the `total`  \n",
        "*   ask the user to enter a third `number`  \n",
        "*   add this `number` to the `total`   \n",
        "*   print the `total`  \n",
        "\n",
        "*Hint:  you should only use TWO variables, **number** and **total** for this exercise*\n",
        "\n",
        "Test input:  \n",
        "3  \n",
        "5  \n",
        "8  \n",
        "\n",
        "Expected output:  \n",
        "16"
      ],
      "metadata": {
        "id": "qs7HiT4W1fvb"
      }
    },
    {
      "cell_type": "code",
      "source": [
        "def calculate_running_total():\n",
        "  total=0\n",
        "  number1 = int(input (\"Please put the number1: \"))\n",
        "  total += number1\n",
        "  number2 = int(input (\"Please put the number2: \"))\n",
        "  total += number2\n",
        "  number3 = int(input (\"Please put the number3: \"))\n",
        "  total += number3\n",
        "  print (total)\n",
        "\n",
        "calculate_running_total()"
      ],
      "metadata": {
        "id": "V-KSBUVW1hTV",
        "outputId": "84d34d2e-15e9-4427-b665-60d95a8365c8",
        "colab": {
          "base_uri": "https://localhost:8080/"
        }
      },
      "execution_count": null,
      "outputs": [
        {
          "output_type": "stream",
          "name": "stdout",
          "text": [
            "Please put the number1: 3\n",
            "Please put the number2: 5\n",
            "Please put the number3: 8\n",
            "16\n"
          ]
        }
      ]
    },
    {
      "cell_type": "markdown",
      "source": [
        "---\n",
        "### Exercise 2 - continuous decrease\n",
        "\n",
        "Write a function called **decrease_time_left()** which will:  \n",
        "\n",
        "*   assign the value 60 to a variable called **seconds_left**  \n",
        "*   ask the user to enter a **time** in seconds  \n",
        "*   subtract the `time` from the `seconds_left`, storing the result in `seconds_left`  \n",
        "*   ask the user to enter a second `time` in seconds  \n",
        "*   subtract this time from the `seconds_left`    \n",
        "*   print `seconds_left`, \"seconds left\"  \n",
        "\n",
        "*Hint:  you should only use TWO variables, **time** and **seconds_left** for this exercise*\n",
        "\n",
        "Test input:  \n",
        "40  \n",
        "20    \n",
        "\n",
        "Expected output:  \n",
        "0 seconds left"
      ],
      "metadata": {
        "id": "JJroWtDt1iT4"
      }
    },
    {
      "cell_type": "code",
      "source": [
        "def decrease_time_left():\n",
        "  seconds_left = 60\n",
        "  time = int(input (\"Please provide first time in seconds: \"))\n",
        "  #subtract time from seconds left\n",
        "  seconds_left-=time\n",
        "  time = int(input (\"Please provide second time in seconds: \"))\n",
        "  seconds_left-=time\n",
        "  print (seconds_left)\n",
        "\n",
        "decrease_time_left()"
      ],
      "metadata": {
        "id": "ZWki1TcW1jM8",
        "outputId": "dcbc7084-f960-4e02-91c6-c8f79a0b058f",
        "colab": {
          "base_uri": "https://localhost:8080/"
        }
      },
      "execution_count": null,
      "outputs": [
        {
          "output_type": "stream",
          "name": "stdout",
          "text": [
            "Please provide first time in seconds: 40\n",
            "Please provide second time in seconds: 20\n",
            "0\n"
          ]
        }
      ]
    },
    {
      "cell_type": "markdown",
      "source": [
        "---\n",
        "### Exercise 3 - decrease by factor\n",
        "\n",
        "Write a function called **decrease_by_factor()** which will:\n",
        "\n",
        "*  ask the user for a **factor** to decrease by (a whole number between 2 and 8)  \n",
        "*  ask the user to enter a whole **number**\n",
        "*  divide the `number` by the `factor`, using floor division, storing the result in `number`  \n",
        "*  print the `number`\n",
        "*  divide the `number` by the `factor` again, storing the result again in `number`\n",
        "*  print the `number`\n",
        "\n",
        "*Hint: On this occasion, you don't need to assign the result of the character input to a variable, because you aren't going to use it, it just lets the user indicate when they are ready to divide again*\n",
        "\n",
        "Test input:  \n",
        "4  \n",
        "80  \n",
        "\n",
        "Expected output:  \n",
        "5"
      ],
      "metadata": {
        "id": "UDnjkguw1kmj"
      }
    },
    {
      "cell_type": "code",
      "source": [
        "def decrease_by_factor():\n",
        "  factor = int(input(\"Please provide factor: number between 2 and 8: \"))\n",
        "  number = int(input(\"Please enter whole number: \"))\n",
        "  number //=factor\n",
        "  print (number)\n",
        "  print (number//factor)\n",
        "\n",
        "decrease_by_factor()"
      ],
      "metadata": {
        "id": "y2V5Y1wZ1lXH",
        "outputId": "136f323d-d0b0-4843-8747-f156b4a04bdd",
        "colab": {
          "base_uri": "https://localhost:8080/"
        }
      },
      "execution_count": null,
      "outputs": [
        {
          "output_type": "stream",
          "name": "stdout",
          "text": [
            "Please provide factor: number between 2 and 8: 4\n",
            "Please enter whole number: 80\n",
            "20\n",
            "5\n"
          ]
        }
      ]
    },
    {
      "cell_type": "markdown",
      "source": [
        "---\n",
        "### Exercise 4 - powers of 4\n",
        "\n",
        "Write a function called **generate_powers()** which will:\n",
        "\n",
        "*  assign the value 1 to a variable called **number**   \n",
        "*  assign the value 4 to a variable called **multiplier**  \n",
        "*  multiply `number` by `multiplier` and store the result in `number`\n",
        "*  print `number`  \n",
        "*  multiply `number` by `multiplier` and store the result in `number`  \n",
        "*  print `number`\n",
        "*  add instructions to multiply `number` by `multiplier`, store the result in `number` and print `number` 8 more times (*use copy and paste*)\n",
        "\n",
        "*Hint: later on you will learn how to use loops to reduce the amount of code*\n",
        "\n",
        "Expected output:  \n",
        "4  \n",
        "16  \n",
        "64  \n",
        "256  \n",
        "1024  \n",
        "4096  \n",
        "16384  \n",
        "65536  \n",
        "262144  \n",
        "1048576  \n",
        "\n"
      ],
      "metadata": {
        "id": "KzECzRH-1l1x"
      }
    },
    {
      "cell_type": "code",
      "source": [
        "def generate_powers():\n",
        "  number = 1\n",
        "  multiplier = 4\n",
        "  number *= multiplier\n",
        "  print (number)\n",
        "  number *= multiplier\n",
        "  print (number)\n",
        "  number *= multiplier\n",
        "  print (number)\n",
        "  number *= multiplier\n",
        "  print (number)\n",
        "  number *= multiplier\n",
        "  print (number)\n",
        "  number *= multiplier\n",
        "  print (number)\n",
        "  number *= multiplier\n",
        "  print (number)\n",
        "  number *= multiplier\n",
        "  print (number)\n",
        "  number *= multiplier\n",
        "  print (number)\n",
        "  number *= multiplier\n",
        "  print (number)\n",
        "\n",
        "generate_powers()\n"
      ],
      "metadata": {
        "id": "tr48X0YJ1nmD",
        "outputId": "326fa111-9959-4cfd-a382-6dad8d911a2e",
        "colab": {
          "base_uri": "https://localhost:8080/"
        }
      },
      "execution_count": null,
      "outputs": [
        {
          "output_type": "stream",
          "name": "stdout",
          "text": [
            "4\n",
            "16\n",
            "64\n",
            "256\n",
            "1024\n",
            "4096\n",
            "16384\n",
            "65536\n",
            "262144\n",
            "1048576\n"
          ]
        }
      ]
    },
    {
      "cell_type": "markdown",
      "source": [
        "# Comparison operators\n",
        "\n",
        "These are extensively used for decision making and repetition and allow us to compare variables with each other and gain a *True* or *False* result.\n",
        "\n",
        "The following Python comparison operators are available:\n",
        "![ComparisonOperators](https://drive.google.com/uc?id=1-g11Ad0t1h4hYq6Eh29A6BM751Yyuq8R)\n",
        "\n",
        "Have a go at these exercises for practice.\n",
        "\n"
      ],
      "metadata": {
        "id": "-EepfNWm1pRw"
      }
    },
    {
      "cell_type": "markdown",
      "source": [
        "---\n",
        "### Exercise 5 - is it afternoon?\n",
        "\n",
        "Write a function called **is_afternoon()** which will:  \n",
        "\n",
        "*  ask the user to enter a **time** in 24 hour clock format as a whole number (e.g. 1756)  \n",
        "*  get the **hour** using floor division  \n",
        "*  assign the result of comparing the hour to 12 (is it after 12?) to a boolean variable called **afternoon**  \n",
        "*  print the message \"It is afternoon\", followed by True or False depending on the result stored in `afternoon`  \n",
        "\n",
        "*Hint:  for this exercise 12 is in the afternoon even when the time is 1200*\n",
        "\n",
        "Test input:  \n",
        "1756  \n",
        "\n",
        "Expected output:  \n",
        "It is afternoon True"
      ],
      "metadata": {
        "id": "ufFevLi71sNP"
      }
    },
    {
      "cell_type": "code",
      "source": [
        "def is_afternoon():\n",
        "  time = int(input (\"Please enter your time as a whole number: \"))\n",
        "  hours = time//100\n",
        "  afternoon = hours > 12\n",
        "  print (\"It is afternoon: \", afternoon)\n",
        "\n",
        "is_afternoon()"
      ],
      "metadata": {
        "id": "xBe5Ip6K1tA2",
        "outputId": "b6b1668b-21c1-4cd1-8644-ad2e51409041",
        "colab": {
          "base_uri": "https://localhost:8080/"
        }
      },
      "execution_count": null,
      "outputs": [
        {
          "output_type": "stream",
          "name": "stdout",
          "text": [
            "Please enter your time as a whole number: 0912\n",
            "It is afternoon:  False\n"
          ]
        }
      ]
    },
    {
      "cell_type": "markdown",
      "source": [
        "---\n",
        "### Exercise 6 - guess the number in two attempts\n",
        "\n",
        "The code cell below contains the definition of a function called guess_number(number) which has a variable called number (in the brackets).  The function call (last line) sends a generated random number to the function, which becomes the value of the variable number.\n",
        "\n",
        "Complete the function **guess_number(number)** so that it will:  \n",
        "\n",
        "*  ask the user to enter a **guess** between 1 and 10  \n",
        "*  assign True or False to the boolean variable **correct**, depending on whether `guess` is the same as `number`  \n",
        "*  print the message \"Guess 1 correct? \" followed by the value of the variable `correct`  \n",
        "*  ask the user to guess again, assign the new guess to the `guess` variable\n",
        "*  assign True or False to the boolean variable `correct`, in the same way as before   \n",
        "*  print the message  \"Guess 2 correct? \" followed by the value of the variable `correct`\n",
        "\n",
        "*Later you will learn to choose from different instructions depending on whether the result was True or False*\n",
        "\n",
        "Example random number:   \n",
        "6  \n",
        "\n",
        "Test input:  \n",
        "1  \n",
        "5  \n",
        "\n",
        "Expected output:  \n",
        "Guess 1 correct? False  \n",
        "Guess 2 correct? False\n"
      ],
      "metadata": {
        "id": "qKxZVUhp1uN7"
      }
    },
    {
      "cell_type": "code",
      "source": [
        "from random import randint\n",
        "\n",
        "def guess_number(number):\n",
        "  guess = input (\"Please enter the number between 1 and 10: \")\n",
        "  correct = guess==number\n",
        "  print (\"Guess 1 correct?: \", correct)\n",
        "  guess = input (\"Please enter again the number between 1 and 10: \")\n",
        "  correct = guess==number\n",
        "  print (\"Guess 2 correct?: \", correct)\n",
        "\n",
        "\n",
        "\n",
        "guess_number(randint(0,10))"
      ],
      "metadata": {
        "id": "M7CgGCLe1vBK",
        "outputId": "d5dbc957-fc7e-438d-b12b-73b47b43551e",
        "colab": {
          "base_uri": "https://localhost:8080/"
        }
      },
      "execution_count": null,
      "outputs": [
        {
          "output_type": "stream",
          "name": "stdout",
          "text": [
            "Please enter the number between 1 and 10: 5\n",
            "Guess 1 correct?:  False\n",
            "Please enter again the number between 1 and 10: 9\n",
            "Guess 2 correct?:  False\n"
          ]
        }
      ]
    },
    {
      "cell_type": "markdown",
      "source": [
        "---\n",
        "### Exercise 7 - not the same\n",
        "\n",
        "Write a function called **show_case_sensitivity()** which will:  \n",
        "\n",
        "*  ask the user to enter a **name** in all lower case letters (e.g. karen)  \n",
        "*  ask the user to enter a **capitalised_name** with a leading capital letter    \n",
        "*  assign the result of comparing the two names to see if they are the same to a boolean variable called **same_names**  \n",
        "*  print the message \"These are the same name\", followed by True or False depending on the result  stored in `same_names`\n",
        "\n",
        "Test input:  \n",
        "karen\n",
        "Karen  \n",
        "\n",
        "Expected output:  \n",
        "These are the same name False"
      ],
      "metadata": {
        "id": "0X9h1K4z1ywH"
      }
    },
    {
      "cell_type": "code",
      "source": [
        "def show_case_sensitivity():\n",
        "  name = input (\"Please provide your name in lower case: \")\n",
        "  capitalised_name = input (\"Please provide your name capitalized: \")\n",
        "  same_names= name==capitalised_name\n",
        "  print(\"These are the same name: \", same_names)\n",
        "\n",
        "show_case_sensitivity()"
      ],
      "metadata": {
        "id": "O_mq9mdO1za9",
        "outputId": "14210a93-52a9-400e-c29d-b7f389550186",
        "colab": {
          "base_uri": "https://localhost:8080/"
        }
      },
      "execution_count": null,
      "outputs": [
        {
          "output_type": "stream",
          "name": "stdout",
          "text": [
            "Please provide your name in lower case: karen\n",
            "Please provide your name capitalized: Karen\n",
            "These are the same name:  False\n"
          ]
        }
      ]
    },
    {
      "cell_type": "markdown",
      "source": [
        "---\n",
        "### Exercise 8 - check an answer to a maths problem  \n",
        "\n",
        "Write a function called **calculate_answer()** which will:  \n",
        "\n",
        "*  assign the value 5.6 to a float variable called **x**  \n",
        "*  assign the value 6.2 to a float variable called **y**    \n",
        "*  use arithmetic operators to calculate the **answer** to:  x squared plus y to the power of 3  \n",
        "*  round the answer to 3 decimal places and store the result back in `answer`\n",
        "*  ask the user to input the **user_answer**  \n",
        "*  assign the result of checking that the `user_answer` is **not** the same as the real answer to a variable called **incorrect_answer**      \n",
        "*  print the message \"Not the right answer? \", followed by True if the answer was incorrect or False if it was correct (stored in `incorrect_answer`)\n",
        "\n",
        "Test input:  \n",
        "200\n",
        "\n",
        "Expected output:  \n",
        "Not the right answer? True\n",
        "\n",
        "Test input:  \n",
        "269.688  \n",
        "\n",
        "Expected output:  \n",
        "Not the right answer? False  \n"
      ],
      "metadata": {
        "id": "OeDK5Q4r10VD"
      }
    },
    {
      "cell_type": "code",
      "source": [
        "def calculate_answer():\n",
        "  x=5.6\n",
        "  y=6.2\n",
        "  answer=round(x**2+y**3, 3)\n",
        "  user_answer = float(input (\"Please give your answer: \"))\n",
        "  incorrect_answer= user_answer != answer\n",
        "  print (\"Not the right answer? \", incorrect_answer, \"Correct answer is \", answer)\n",
        "\n",
        "calculate_answer()"
      ],
      "metadata": {
        "id": "mERAFZ6911Nk",
        "outputId": "205cf3aa-c979-4f53-937f-5149b4bc3ad6",
        "colab": {
          "base_uri": "https://localhost:8080/"
        }
      },
      "execution_count": null,
      "outputs": [
        {
          "output_type": "stream",
          "name": "stdout",
          "text": [
            "Please give your answer: 123.321\n",
            "Not the right answer?  True Correct answer is  269.688\n"
          ]
        }
      ]
    },
    {
      "cell_type": "markdown",
      "source": [
        "---\n",
        "## Logical operators\n",
        "\n",
        "It is often necessary to make more than one comparison.  For instance, we might need to know if a number is between two limits or if one of two inputs has been incorrectly made and so the user needs to input again.\n",
        "\n",
        "Python provides a set of *logical operators* that will be used extensively later on but for now we will introduce the ***and*** operator and the ***or*** operator\n",
        "\n",
        "The result of a logical operation, like a comparison, will be either True or False.\n",
        "\n",
        "The instruction below will assign a boolean value (True or False) to the variable **valid** depending on whether a **number** is between 1 and 10.  It needs to include 1, 10 and all the numbers in between.\n",
        "\n",
        "`valid = number >= 1 and number <=10`\n",
        "\n",
        "The instruction below will assign a boolean value (True or False) to the variable **outlier** depending on whether a **number** is outside the range 100 to 200.  This number will be an outlier if it is less than 100 or greater than 200.\n",
        "\n",
        "`outlier = number < 100 or number > 200`\n",
        "\n",
        "*Note:  the and/or is surrounded by two comparisons and can't be part of the comparison.  outlier = number < 100 or > 200 is NOT understood by Python, there is only ONE complex comparison here when there must be TWO*  "
      ],
      "metadata": {
        "id": "B5c-zRCO12H-"
      }
    },
    {
      "cell_type": "markdown",
      "source": [
        "---\n",
        "### Exercies 9 - two comparisons\n",
        "Write a function called **check_in_range()** which will:\n",
        "\n",
        "*  ask the user to input a whole **number** between 1 and 12  \n",
        "*  assign the result of checking that the number is between 1 and 12 to a variable called **in_range**  \n",
        "*  print the message \"Valid number: \" followed by True if the answer was True or False if not  \n",
        "\n",
        "Test input:  \n",
        "6  \n",
        "\n",
        "Expected output:  \n",
        "Valid number? True  \n",
        "\n",
        "Test input:  \n",
        "23  \n",
        "\n",
        "Expected output:  \n",
        "Valid number? False  "
      ],
      "metadata": {
        "id": "2xF-2Emj13aM"
      }
    },
    {
      "cell_type": "code",
      "source": [
        "def check_in_range():\n",
        "  number = int (input(\"Please provide a whole number between 1 and 12: \"))\n",
        "  in_range = number >1 and number <12\n",
        "  print (\"Vald number: \", in_range)\n",
        "\n",
        "check_in_range()"
      ],
      "metadata": {
        "id": "eWPh4SRm14Jf",
        "colab": {
          "base_uri": "https://localhost:8080/"
        },
        "outputId": "6a473056-d7cf-4ad9-ba7b-4082311f4558"
      },
      "execution_count": 8,
      "outputs": [
        {
          "output_type": "stream",
          "name": "stdout",
          "text": [
            "Please provide a whole number between 1 and 12: 77\n",
            "Vald number:  False\n"
          ]
        }
      ]
    },
    {
      "cell_type": "markdown",
      "source": [
        "---\n",
        "### Exercise 10 - finding the outlier\n",
        "\n",
        "Write a function called **identify_outlier()** which will:\n",
        "\n",
        "*  ask the user to input a whole **number**    \n",
        "*  assign the result of checking that the number is outside the range 20 to 50 to a boolean variable called **outlier**  \n",
        "*  print the message \"Outlier? \" followed by True if the answer was True or False if not  \n",
        "\n",
        "Test input:  \n",
        "32  \n",
        "\n",
        "Expected output:  \n",
        "Outlier? False  \n",
        "\n",
        "Test input:  \n",
        "16  \n",
        "\n",
        "Expected output:  \n",
        "Outlier? True  "
      ],
      "metadata": {
        "id": "fcxZGnrs15H_"
      }
    },
    {
      "cell_type": "code",
      "source": [
        "def identify_outlier():\n",
        "  number = int (input(\"Please provide a whole number: \"))\n",
        "  outlier = number <20 or number >50\n",
        "  print (\"Outlier? \", outlier)\n",
        "\n",
        "identify_outlier()\n"
      ],
      "metadata": {
        "id": "BaFufM2216az",
        "colab": {
          "base_uri": "https://localhost:8080/"
        },
        "outputId": "55c743d4-f540-4ad0-f2ed-2f0025f4952a"
      },
      "execution_count": 10,
      "outputs": [
        {
          "output_type": "stream",
          "name": "stdout",
          "text": [
            "Please provide a whole number: 16\n",
            "Outlier?  True\n"
          ]
        }
      ]
    }
  ]
}