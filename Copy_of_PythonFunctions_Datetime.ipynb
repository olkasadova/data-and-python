{
  "cells": [
    {
      "cell_type": "markdown",
      "metadata": {
        "id": "view-in-github",
        "colab_type": "text"
      },
      "source": [
        "<a href=\"https://colab.research.google.com/github/olkasadova/data-and-python/blob/main/Copy_of_PythonFunctions_Datetime.ipynb\" target=\"_parent\"><img src=\"https://colab.research.google.com/assets/colab-badge.svg\" alt=\"Open In Colab\"/></a>"
      ]
    },
    {
      "cell_type": "markdown",
      "metadata": {
        "id": "Vvcpt-18AqVE"
      },
      "source": [
        "<a href=\"https://colab.research.google.com/github/StefanMeyer7/Python-Fundamentals/blob/main/PythonFunctions_Datetime.ipynb\" target=\"_parent\"><img src=\"https://colab.research.google.com/assets/colab-badge.svg\" alt=\"Open In Colab\"/></a>"
      ]
    },
    {
      "cell_type": "markdown",
      "metadata": {
        "id": "nP_edUEZceHu"
      },
      "source": [
        "# User-defined functions using datetime library\n",
        "\n",
        "---\n"
      ]
    },
    {
      "cell_type": "markdown",
      "metadata": {
        "id": "GDXBwTsRceya"
      },
      "source": [
        "When working with dates and times, fairly common in data sets, we need to be able to extract certain bits of information.  \n",
        "\n",
        "In Python, as with other languages, dates and times are stored in a data structure that combines the two together and stores the information as a number of seconds since a start point (often 1st January 1900).  This is obviously a large number but every bit of information about a date can be extracted from it and used to give a wide range of information.  \n",
        "\n",
        "Have a go at the exercises below to use a selection of datetime functions and return a new bit of data from each, to be printed by the caller.\n",
        "\n",
        "Before you can use datetime functions you will need to import them. Import the datetime functions like this:\n",
        "\n",
        "`from datetime import datetime`  \n",
        "\n",
        "\n",
        "For more information about datetime functions visit [w3Schools-Python datetime](https://www.w3schools.com/python/python_datetime.asp) and [Python docs](https://docs.python.org/3/library/datetime.html)"
      ]
    },
    {
      "cell_type": "markdown",
      "metadata": {
        "id": "rzT7PoS9cgpc"
      },
      "source": [
        "---\n",
        "### Exercise 1 - print current date and time\n",
        "\n",
        "Write a function that will return the date and time now.  The caller will print it.  \n",
        "\n",
        "*Hint:  the format has been added for you, the other exercises will follow a similar format.   Always remember to import datetime from datetime as shown below*"
      ]
    },
    {
      "cell_type": "code",
      "execution_count": null,
      "metadata": {
        "id": "pbPPKT1DciHO",
        "outputId": "e20fbf76-006f-4de5-e0fe-36321d13dc9f",
        "colab": {
          "base_uri": "https://localhost:8080/"
        }
      },
      "outputs": [
        {
          "output_type": "stream",
          "name": "stdout",
          "text": [
            "2023-11-25 11:56:01.649193\n"
          ]
        }
      ],
      "source": [
        "from datetime import datetime, timezone\n",
        "# add your function, called get_datetime_now() below here\n",
        "def get_datetime_now():\n",
        "  tday = datetime.now()\n",
        "  return tday\n",
        "\n",
        "\n",
        "\n",
        "now_date_time = get_datetime_now()\n",
        "print(now_date_time)"
      ]
    },
    {
      "cell_type": "markdown",
      "metadata": {
        "id": "-Ep29Zcqcj2J"
      },
      "source": [
        "---\n",
        "Exercise 2 - print the current year\n",
        "\n",
        "Write a function that will return the current year.  The caller will print the year."
      ]
    },
    {
      "cell_type": "code",
      "execution_count": null,
      "metadata": {
        "id": "mvG4Fc4GcklO",
        "outputId": "cadeab8b-4220-4ff9-b36f-d3d8991501f5",
        "colab": {
          "base_uri": "https://localhost:8080/"
        }
      },
      "outputs": [
        {
          "output_type": "stream",
          "name": "stdout",
          "text": [
            "2023\n"
          ]
        }
      ],
      "source": [
        "from datetime import datetime, timezone\n",
        "def current_year():\n",
        "  CY = datetime.now()\n",
        "  return CY\n",
        "\n",
        "this_year = current_year()\n",
        "print (this_year.year)"
      ]
    },
    {
      "cell_type": "markdown",
      "metadata": {
        "id": "AVu3ZVE3cljj"
      },
      "source": [
        "---\n",
        "### Exercise 3 - print the current day of the week\n",
        "\n",
        "Write a function that will return the current day of the week.  The caller will print it."
      ]
    },
    {
      "cell_type": "code",
      "execution_count": null,
      "metadata": {
        "id": "YGdApxsLcmSS",
        "outputId": "ddfa7351-9027-4175-c261-dcb97e455671",
        "colab": {
          "base_uri": "https://localhost:8080/"
        }
      },
      "outputs": [
        {
          "output_type": "stream",
          "name": "stdout",
          "text": [
            "Saturday\n"
          ]
        }
      ],
      "source": [
        "from datetime import datetime, timezone\n",
        "def day_of_week():\n",
        "  weekday = datetime.now()\n",
        "  return weekday\n",
        "\n",
        "this_weekday = day_of_week()\n",
        "print (this_weekday.strftime (\"%A\"))"
      ]
    },
    {
      "cell_type": "markdown",
      "metadata": {
        "id": "PkkISgZscnZ3"
      },
      "source": [
        "---\n",
        "### Exercise 4 - create a new date\n",
        "\n",
        "Write a function that will take 3 parameters, day, month, year (3 numbers that make a valid date) and will create, and return a new date.  The caller will print the date."
      ]
    },
    {
      "cell_type": "code",
      "execution_count": 6,
      "metadata": {
        "id": "7XXYuEhDcnz7",
        "colab": {
          "base_uri": "https://localhost:8080/"
        },
        "outputId": "5111c083-9ba6-4885-eef8-579e99dd87cf"
      },
      "outputs": [
        {
          "output_type": "stream",
          "name": "stdout",
          "text": [
            "2023-10-10 00:00:00\n"
          ]
        }
      ],
      "source": [
        "from datetime import datetime, timezone\n",
        "def create_new_date(d, m, y):\n",
        "  new_date = datetime (y, m, d)\n",
        "  return new_date\n",
        "\n",
        "NewDate = create_new_date(10, 10, 2023)\n",
        "print (NewDate)"
      ]
    },
    {
      "cell_type": "markdown",
      "metadata": {
        "id": "LGb976a3coqq"
      },
      "source": [
        "---\n",
        "### Exercise 5 - create a valid date\n",
        "\n",
        "Write a function that will take 3 parameters, day, month, year (3 numbers) and will:  \n",
        "*   check that the month is between 1 and 12  \n",
        "*   check that the day is valid for the month (e.g. if the month is 2, then the day must be between 1 and 28 (don't worry about leap years for the moment)  \n",
        "*   if the date is not valid, print an error message and return None (which the caller will print)  \n",
        "*   if the date is valid, store it in a new variable, return the variable and the caller will print it."
      ]
    },
    {
      "cell_type": "code",
      "execution_count": 19,
      "metadata": {
        "id": "63Z80bSocpFc",
        "colab": {
          "base_uri": "https://localhost:8080/"
        },
        "outputId": "f1302a85-97bd-44b0-bb2a-53d9edc0d5a7"
      },
      "outputs": [
        {
          "output_type": "stream",
          "name": "stdout",
          "text": [
            "Invalid date\n",
            "None\n"
          ]
        }
      ],
      "source": [
        "from datetime import datetime, timezone\n",
        "def create_new_date(d, m, y):\n",
        "  if (m >= 1 or m<= 12) and (d >=1 or d <=31):\n",
        "    if m == 2 and d <=28:\n",
        "      valid_date = datetime (y, m, d)\n",
        "      return valid_date\n",
        "    elif m in (1,3,5,7,8,10,12) and d <=31:\n",
        "      valid_date = datetime (y, m, d)\n",
        "      return valid_date\n",
        "    elif m in (6,9) and d <=30:\n",
        "      valid_date = datetime (y, m, d)\n",
        "      return valid_date\n",
        "    else:\n",
        "      print (\"Invalid date\")\n",
        "      return None\n",
        "\n",
        "NewDate = create_new_date (31,9,2023)\n",
        "print (NewDate)\n"
      ]
    },
    {
      "cell_type": "markdown",
      "metadata": {
        "id": "R5ZBHZXScqYQ"
      },
      "source": [
        "---\n",
        "### Exercise 6 - is it a leap year?\n",
        "\n",
        "Write a function that will take a date as a parameter (you will need to create the date variable before calling the function) and will determine if it is a leap year, returning True or False.\n",
        "\n",
        "*Hint:  a leap year is a year that is divisible by 4 but the centuries (1900, 2000, etc are only leap years if they are divisible by 400)*"
      ]
    },
    {
      "cell_type": "code",
      "execution_count": 13,
      "metadata": {
        "id": "pj8Y8PAqcq4u",
        "colab": {
          "base_uri": "https://localhost:8080/"
        },
        "outputId": "1a4a5960-b17f-4536-ff6c-5929375fb5f1"
      },
      "outputs": [
        {
          "output_type": "stream",
          "name": "stdout",
          "text": [
            "500 is not a leap year\n"
          ]
        }
      ],
      "source": [
        "from datetime import datetime\n",
        "def is_leap_year(date_to_check):\n",
        "  # add your code below here\n",
        "  if date_to_check.year %400 ==0:\n",
        "    return True\n",
        "  elif date_to_check.year %4 ==0 and date_to_check.year%100!=0:\n",
        "    return True\n",
        "  else:\n",
        "    return False\n",
        "\n",
        "\n",
        "check_date = datetime(500, 12, 15)\n",
        "if is_leap_year(check_date):\n",
        "  print(check_date.strftime(\"%Y\"), \"is a leap year\")\n",
        "else:\n",
        "  print(check_date.strftime(\"%Y\"), \"is not a leap year\")"
      ]
    },
    {
      "cell_type": "markdown",
      "metadata": {
        "id": "7SIry7OwcuMS"
      },
      "source": [
        "---\n",
        "### Exercise 7 - display parts of date/time\n",
        "\n",
        "Write a function that will take a date and print from it the following:  \n",
        "*  given date and time  \n",
        "*  year (in full)\n",
        "*  month (as a number)\n",
        "*  month name\n",
        "*  week number of the year  \n",
        "*  weekday of the week (as a number)  \n",
        "*  day of year  \n",
        "*  day of the month  \n",
        "*  day of week (as a name)  \n",
        "\n",
        "*Hint:  see w3Schools for [strftime reference](https://www.w3schools.com/python/python_datetime.asp)*\n",
        "\n"
      ]
    },
    {
      "cell_type": "code",
      "execution_count": 23,
      "metadata": {
        "id": "iKsefU9ncuzl",
        "colab": {
          "base_uri": "https://localhost:8080/"
        },
        "outputId": "f3d10467-9557-458c-d711-1ccc089cec33"
      },
      "outputs": [
        {
          "output_type": "stream",
          "name": "stdout",
          "text": [
            "1563-12-15 00:00:00\n",
            "1563\n",
            "12\n",
            "December\n",
            "49\n",
            "0\n",
            "349\n",
            "15\n",
            "Sunday\n"
          ]
        }
      ],
      "source": [
        "from datetime import datetime\n",
        "def display_parts(date_to_display):\n",
        "  print (date_to_display)\n",
        "  print (date_to_display.strftime (\"%Y\")) #year\n",
        "  print (date_to_display.strftime (\"%m\")) #month number\n",
        "  print (date_to_display.strftime (\"%B\")) #month name\n",
        "  print (date_to_display.strftime (\"%W\")) #week number\n",
        "  print (date_to_display.strftime (\"%w\")) #weekday number\n",
        "  print (date_to_display.strftime (\"%j\")) #day of year\n",
        "  print (date_to_display.strftime (\"%d\")) #day of month\n",
        "  print (date_to_display.strftime (\"%A\")) #day of week\n",
        "\n",
        "display_date = datetime(1563, 12, 15)\n",
        "display_parts (display_date)"
      ]
    },
    {
      "cell_type": "markdown",
      "metadata": {
        "id": "fvDfw6C6cvwA"
      },
      "source": [
        "---\n",
        "### Exercise 8 - next 6 days\n",
        "\n",
        "Write a function that will take a date and generate the dates of the following 6 days.  It should print each of the 6 days in the form:  \n",
        "\n",
        "DAY OF THE WEEK, MONTH NAME, FULL YEAR\n",
        "\n",
        "Hint:  to generate the days, use the function datetime.timedelta(), there is a good example of its use [here](https://www.geeksforgeeks.org/python-datetime-timedelta-function/)  "
      ]
    },
    {
      "cell_type": "code",
      "source": [],
      "metadata": {
        "id": "4SWoevLXF2y5"
      },
      "execution_count": null,
      "outputs": []
    },
    {
      "cell_type": "code",
      "execution_count": 40,
      "metadata": {
        "id": "qPrZzv7_cwJi",
        "colab": {
          "base_uri": "https://localhost:8080/"
        },
        "outputId": "3bc45f11-b73b-47ad-e92a-908b848c5ccd"
      },
      "outputs": [
        {
          "output_type": "stream",
          "name": "stdout",
          "text": [
            "Monday December 1563\n",
            "Tuesday December 1563\n",
            "Wednesday December 1563\n",
            "Thursday December 1563\n",
            "Friday December 1563\n",
            "Saturday December 1563\n"
          ]
        }
      ],
      "source": [
        "from datetime import datetime, timedelta\n",
        "def generate_dates(original_date):\n",
        "  for i in range (1, 7):\n",
        "    next_date = original_date + timedelta (days=i)\n",
        "    print (next_date.strftime (\"%A\"), next_date.strftime (\"%B\"), next_date.strftime(\"%Y\"))\n",
        "\n",
        "\n",
        "start_date = datetime (1563, 12, 15)\n",
        "generate_dates (start_date)"
      ]
    }
  ],
  "metadata": {
    "colab": {
      "provenance": [],
      "include_colab_link": true
    },
    "kernelspec": {
      "display_name": "Python 3",
      "name": "python3"
    },
    "language_info": {
      "name": "python"
    }
  },
  "nbformat": 4,
  "nbformat_minor": 0
}