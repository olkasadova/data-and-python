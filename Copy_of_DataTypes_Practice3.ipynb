{
  "nbformat": 4,
  "nbformat_minor": 0,
  "metadata": {
    "colab": {
      "provenance": [],
      "include_colab_link": true
    },
    "kernelspec": {
      "name": "python3",
      "display_name": "Python 3"
    },
    "language_info": {
      "name": "python"
    }
  },
  "cells": [
    {
      "cell_type": "markdown",
      "metadata": {
        "id": "view-in-github",
        "colab_type": "text"
      },
      "source": [
        "<a href=\"https://colab.research.google.com/github/olkasadova/data-and-python/blob/main/Copy_of_DataTypes_Practice3.ipynb\" target=\"_parent\"><img src=\"https://colab.research.google.com/assets/colab-badge.svg\" alt=\"Open In Colab\"/></a>"
      ]
    },
    {
      "cell_type": "markdown",
      "source": [
        "<a href=\"https://colab.research.google.com/github/StefanMeyer7/Python-Fundamentals/blob/main/DataTypes_Practice1.ipynb\" target=\"_parent\"><img src=\"https://colab.research.google.com/assets/colab-badge.svg\" alt=\"Open In Colab\"/></a>"
      ],
      "metadata": {
        "id": "hypbENCo_DGn"
      }
    },
    {
      "cell_type": "markdown",
      "source": [
        "# Working with Strings"
      ],
      "metadata": {
        "id": "AhRgOJ7ryJVH"
      }
    },
    {
      "cell_type": "markdown",
      "source": [
        "---\n",
        "### Exercise 1 input and strings\n",
        "**Recap**: to get input from the user and store it in a variable, use the instruction  \n",
        "\n",
        "*variableName = input(\"message asking user for required information\")*  \n",
        "\n",
        "*Remember: Unless you state otherwise, all input is String data*  \n",
        "\n",
        "Write a function called **print_initials()** which will:\n",
        "\n",
        "*  ask the user to input a **first_name**  \n",
        "*  ask the user to input a **middle_name**  \n",
        "*  ask the user to input a **surname**  \n",
        "*  print the name in the format: `surname`, `first_name` `middle_name`  \n",
        "\n",
        "Test Inputs:  \n",
        "Peter  \n",
        "Barry  \n",
        "Burrows  \n",
        "\n",
        "Expected output:  \n",
        "Burrows, Peter Barry\n"
      ],
      "metadata": {
        "id": "7PXmCFw5yL1k"
      }
    },
    {
      "cell_type": "code",
      "source": [
        "def print_initials():\n",
        "  #get user data\n",
        "  first_name = input (\"Please provide your First Name: \" )\n",
        "  middle_name = input (\"Please provide your Middle Name: \" )\n",
        "  surname = input (\"Please provide your Surname: \")\n",
        "  #output\n",
        "  print(surname + \", \" + first_name, middle_name)\n",
        "\n",
        "print_initials()\n",
        "\n"
      ],
      "metadata": {
        "id": "yg4eXXaFyN7r",
        "colab": {
          "base_uri": "https://localhost:8080/"
        },
        "outputId": "648d5a90-6859-49fb-b13a-ed9ad9edb786"
      },
      "execution_count": 5,
      "outputs": [
        {
          "output_type": "stream",
          "name": "stdout",
          "text": [
            "Please provide your First Name: Peter\n",
            "Please provide your Middle Name: Barry\n",
            "Please provide your Surname: Burrows\n",
            "Burrows, Peter Barry\n"
          ]
        }
      ]
    },
    {
      "cell_type": "markdown",
      "source": [
        " Substrings\n",
        "\n",
        "---\n",
        "\n",
        "A String is a set of characters. Each String has a length and each character in the string has a position or index. Indexing starts at 0 so the first character of a String is at position 0. As Strings have varying lengths, the last character of the String is at position -1. To find any character in the String, count from 0 or, if you want to count backwards from the end, count back from -1.  \n",
        "\n",
        "You can get a particular character, or a set of consecutive characters (substring) from a String using [] and the positions of the characters you want.  \n",
        "\n",
        "Example:  \n",
        "To get the first letter of a String (in this case the String is called **name**)\n",
        "**first_letter** = `name`[0]  \n",
        "**second_letter** = `name`[1]  \n",
        "**sixth_letter** = `name`[5]  \n",
        "\n",
        "To get the last letter of name:  \n",
        "**last_letter** = `name`[-1]  \n",
        "**second_last_letter** = `name`[-2]  \n",
        "**third_last_letter** = `name`[-3]  \n",
        "\n",
        "Have a go"
      ],
      "metadata": {
        "id": "CCr-T7TYyOBZ"
      }
    },
    {
      "cell_type": "code",
      "source": [
        "def print_letters():\n",
        "   name = \"Robert\"\n",
        "   # add your code below here to get a particular letter and print it.\n",
        "   first_letter = name[0]\n",
        "   last_letter = name [-1]\n",
        "   print (first_letter, last_letter)\n",
        "\n",
        "\n",
        "\n",
        "print_letters()"
      ],
      "metadata": {
        "id": "pfw0aN7CyQTJ",
        "colab": {
          "base_uri": "https://localhost:8080/"
        },
        "outputId": "bd686c5f-1f89-4dc5-d73a-54ef6fd73e84"
      },
      "execution_count": 11,
      "outputs": [
        {
          "output_type": "stream",
          "name": "stdout",
          "text": [
            "R t\n"
          ]
        }
      ]
    },
    {
      "cell_type": "markdown",
      "source": [
        "To get a set of letters from a String, use the slice operator.  \n",
        "\n",
        "*substring = stringname[ index of first letter to be included_ : index + 1 of last letter ]*\n",
        "\n",
        "Example:  \n",
        "\n",
        "**first_three_letters** = `name`[0:3]  \n",
        "**second_to_fifth_letters** = `name`[1:5]  \n",
        "**last_three_letters** = `name`[-3:]  \n",
        "\n",
        "*Note: we can't add 1 to -1 as the result would be 0 and confused with the first letter, so we omit the second number to indicate that we want all characters to the end of the string*"
      ],
      "metadata": {
        "id": "ARnlyx-2yVBj"
      }
    },
    {
      "cell_type": "code",
      "source": [
        "def print_substrings():\n",
        "   name = \"Robert\"\n",
        "   # add your code below here to get a particular letter, or set of letters and print them.\n",
        "   first_three_letters = name [0:3]\n",
        "   last_two_letters = name [-2:]\n",
        "   print (first_three_letters,last_two_letters)\n",
        "\n",
        "print_substrings()"
      ],
      "metadata": {
        "id": "uyG73iAFyWCM",
        "colab": {
          "base_uri": "https://localhost:8080/"
        },
        "outputId": "5712062c-c0c4-4ba8-ff6e-e3e1ae946034"
      },
      "execution_count": 16,
      "outputs": [
        {
          "output_type": "stream",
          "name": "stdout",
          "text": [
            "Rob rt\n"
          ]
        }
      ]
    },
    {
      "cell_type": "markdown",
      "source": [
        "---\n",
        "### Exercise 2 - substrings\n",
        "\n",
        "Write a function called **print_substring()** which will:\n",
        "\n",
        "Ask the user to input a **name** of at least 5 letters  \n",
        "Print the **first** and the **fourth** letters in the `name`  \n",
        "\n",
        "Test Inputs:  \n",
        "Bartholomew  \n",
        "\n",
        "Expected output:  \n",
        "First letter is B, fourth letter is t\n"
      ],
      "metadata": {
        "id": "GjwIqqCtyYFE"
      }
    },
    {
      "cell_type": "code",
      "source": [
        "def print_substrings():\n",
        "  name = input (\"Please input your name no less than 5 symbols: \" )\n",
        "  first_letter = name[0]\n",
        "  fourth_letter = name [3]\n",
        "  substring = name [-3:]\n",
        "  print (first_letter, fourth_letter, substring)\n",
        "\n",
        "print_substrings()"
      ],
      "metadata": {
        "id": "9rX2HoZtyZ9N",
        "colab": {
          "base_uri": "https://localhost:8080/"
        },
        "outputId": "b165bddf-bbf8-4548-e57d-69ba8933e75c"
      },
      "execution_count": 19,
      "outputs": [
        {
          "output_type": "stream",
          "name": "stdout",
          "text": [
            "Please input your name no less than 5 symbols: Bartholomew\n",
            "B t mew\n"
          ]
        }
      ]
    },
    {
      "cell_type": "markdown",
      "source": [
        "---\n",
        "### Exercise 3  - Formatting String output  \n",
        "\n",
        "Write a function called **print_formatted()** which will:  \n",
        "\n",
        "*  ask the user to input a **house_number**\n",
        "*  ask the user to input a **road_name**, then a **town**, then a **postcode**  \n",
        "*  print the address on three lines (`house_number` with a comma and `road_name`, `town`, `postcode`)  \n",
        "\n",
        "Test Input:  \n",
        "10  \n",
        "Old Road  \n",
        "Chatham  \n",
        "ME4 1AA  \n",
        "\n",
        "Expected output:   \n",
        "10, Old Road  \n",
        "Chatham  \n",
        "ME4 1AA  "
      ],
      "metadata": {
        "id": "AHTaERl3ycDz"
      }
    },
    {
      "cell_type": "code",
      "source": [
        "def print_formatted():\n",
        "  house_number = input (\"Enter house number: \")\n",
        "  road_name = input (\"What is your road name: \")\n",
        "  town = input (\"What town do you live in: \")\n",
        "  postcode = input (\"And your postcode please: \")\n",
        "\n",
        "  # priniting formatted address\n",
        "  print (house_number + \",\", road_name)\n",
        "  print (town)\n",
        "  print (postcode)\n",
        "\n",
        "print_formatted()\n",
        "\n"
      ],
      "metadata": {
        "id": "m8S_no9Kyc48",
        "colab": {
          "base_uri": "https://localhost:8080/"
        },
        "outputId": "86e0f43f-3155-481d-fbbb-a17a707f2967"
      },
      "execution_count": 23,
      "outputs": [
        {
          "output_type": "stream",
          "name": "stdout",
          "text": [
            "Enter house number: 10\n",
            "What is your road name: Old Road\n",
            "What town do you live in: Chatham\n",
            "And your postcode please: ME4 1AA\n",
            "10, Old Road\n",
            "Chatham\n",
            "ME4 1AA\n"
          ]
        }
      ]
    },
    {
      "cell_type": "markdown",
      "source": [
        "# String functions\n",
        "\n",
        "## String length\n",
        "\n",
        "You can get the length of a String using the len() function   \n",
        "e.g. **namelength** = len(`name`)  \n"
      ],
      "metadata": {
        "id": "qW8hUmVWyfBC"
      }
    },
    {
      "cell_type": "markdown",
      "source": [
        "---\n",
        "### Exercise 4 - String length  \n",
        "\n",
        "Write a function called **print_namelength()** which will:  \n",
        "\n",
        "*  ask the user to input a **name**  \n",
        "*  assign the length of the name to a variable called **name_length**  \n",
        "*  print the `name` followed by a comma, then `name_length`, then the word “characters”.\n",
        "\n",
        "Test Input:  \n",
        "William  \n",
        "\n",
        "Expected Output:  \n",
        "William, 7 characters"
      ],
      "metadata": {
        "id": "XkKLQYZayiwM"
      }
    },
    {
      "cell_type": "code",
      "source": [
        "def print_namelength():\n",
        "  name = input (\"Please provide your name: \")\n",
        "  name_length = len(name)\n",
        "  print (name + \",\", name_length, \"characters\" )\n",
        "\n",
        "print_namelength()\n"
      ],
      "metadata": {
        "id": "8DLhrrP4ykQY",
        "colab": {
          "base_uri": "https://localhost:8080/"
        },
        "outputId": "e124243d-9dba-4a0d-b5c5-cdb1d3d02899"
      },
      "execution_count": 28,
      "outputs": [
        {
          "output_type": "stream",
          "name": "stdout",
          "text": [
            "Please provide your name: Olha\n",
            "Olha, 4 characters\n"
          ]
        }
      ]
    },
    {
      "cell_type": "markdown",
      "source": [
        "## String Case Conversion  \n",
        "\n",
        "When you start to compare and search for strings, you will need to be aware that data doesn’t always turn up in the state we would like it.  People often forget to use capital letters at the beginning of their names and will sometimes use all capitals.  It is useful, therefore, to be able to convert a String either to all capitals or all lowercase, depending on how you want to see it.  \n",
        "\n",
        "There are three functions for this, which are linked to the String (here the String variable is called **name**).  \n",
        "\n",
        "*   **upper_case_name** = `name.upper()`\n",
        "*   **lower_case_name** = `name.lower()`\n",
        "*   **capitalised_name** = `name.capitalize()`\n"
      ],
      "metadata": {
        "id": "zZBVBzSFymrZ"
      }
    },
    {
      "cell_type": "markdown",
      "source": [
        "---\n",
        "### Exercise 5 - case conversion  \n",
        "\n",
        "Write a function called **convert_to_capitals()** which will:  \n",
        "\n",
        "*  ask the user to input a **name** in lowercase letters\n",
        "*  assign the capitalised String to the variable **capitalised_name**\n",
        "*  print the `name` in capitals  \n",
        "\n",
        "Test Input:  \n",
        "jaswinder  \n",
        "\n",
        "Expected output:  \n",
        "JASWINDER  \n"
      ],
      "metadata": {
        "id": "Q6dE2J5wywky"
      }
    },
    {
      "cell_type": "code",
      "source": [
        "def convert_to_capitals():\n",
        "  name = input (\"Please provide your name: \")\n",
        "  capitalized_name = name.upper()\n",
        "  print (capitalized_name)\n",
        "\n",
        "convert_to_capitals()"
      ],
      "metadata": {
        "id": "1VT1qkWryxda",
        "colab": {
          "base_uri": "https://localhost:8080/"
        },
        "outputId": "13b7553f-87d8-4df7-da77-8d366daf2467"
      },
      "execution_count": 30,
      "outputs": [
        {
          "output_type": "stream",
          "name": "stdout",
          "text": [
            "Please provide your name: jaswinder\n",
            "JASWINDER\n"
          ]
        }
      ]
    },
    {
      "cell_type": "markdown",
      "source": [
        "---\n",
        "### Exercise 6 - case conversion  \n",
        "\n",
        "Write a function called **capitalise_names()** which will:  \n",
        "\n",
        "*  ask the user to input a **name** and a **surname**  \n",
        "*  print both `name` and `surname` in lowercase with a capital letter at the start, even if they didn't have capitals when they were typed in  \n",
        "\n",
        "Test Input:  \n",
        "benJamIN  \n",
        "\n",
        "Expected output:  \n",
        "Benjamin\n"
      ],
      "metadata": {
        "id": "jHiY1vV_yzNt"
      }
    },
    {
      "cell_type": "code",
      "source": [
        "def capitalise_names():\n",
        "  name = input (\"Please provide your name: \")\n",
        "  surname = input (\"Please provide your surname: \")\n",
        "  name = name.capitalize()\n",
        "  surname = surname.capitalize()\n",
        "  print (name, surname)\n",
        "\n",
        "capitalise_names()"
      ],
      "metadata": {
        "id": "wn8uFJhoy3DL",
        "colab": {
          "base_uri": "https://localhost:8080/"
        },
        "outputId": "def459ae-c46a-4f3c-b8ba-0e40d6054be0"
      },
      "execution_count": 32,
      "outputs": [
        {
          "output_type": "stream",
          "name": "stdout",
          "text": [
            "Please provide your name: beJamiN\n",
            "Please provide your surname: wAll\n",
            "Bejamin Wall\n"
          ]
        }
      ]
    },
    {
      "cell_type": "markdown",
      "source": [
        "---\n",
        "### Exercise 7 - Substrings\n",
        "\n",
        "Write a function called **print_postcode_letters()** which will:   \n",
        "\n",
        "*  ask the user to enter a **postcode**  \n",
        "*  assign the first two letters of the postcode to a variable called **postcode_area**  \n",
        "*  convert the `postcode_area` String to capital letters and assign this to a variable called **capitalised_area**  \n",
        "*  print the `capitalised_area`  \n",
        "\n",
        "Test Input:  \n",
        "Me4 6bb  \n",
        "\n",
        "Expected output:  \n",
        "ME\n"
      ],
      "metadata": {
        "id": "Nf6nOs8Ny3f8"
      }
    },
    {
      "cell_type": "code",
      "source": [
        "def print_postcode_letters():\n",
        "  postcode = input (\"Input your Pstcode: \")\n",
        "  postcode_area = postcode [0:2]\n",
        "  capitalized_area = postcode_area.upper()\n",
        "  print (capitalized_area)\n",
        "\n",
        "print_postcode_letters()"
      ],
      "metadata": {
        "id": "pv6ySeqFy5EQ",
        "colab": {
          "base_uri": "https://localhost:8080/"
        },
        "outputId": "d3709c7d-7c3a-4f79-8cb1-f62945e35057"
      },
      "execution_count": 34,
      "outputs": [
        {
          "output_type": "stream",
          "name": "stdout",
          "text": [
            "Input your Pstcode: Me4 6bb\n",
            "ME\n"
          ]
        }
      ]
    },
    {
      "cell_type": "markdown",
      "source": [
        "---\n",
        "### Exercise 8 - Floor division and slicing\n",
        "\n",
        "Write a function called **print_half_word()** which will:\n",
        "\n",
        "*  ask the user to enter a **word**  \n",
        "*  assign the value of half the length of the `word` to a variable called **half_length**  \n",
        "*  assign the first half of the `word` to a new variable called **half_word**  \n",
        "*  print `half_word`  \n",
        "\n",
        "*Hint:  when dividing the length of the word by 2, use floor division (//) so that you get a whole number of letters).  To get the first half of the word, use word[0:halfLength]*  \n",
        "\n",
        "Test input:  \n",
        "Runtime  \n",
        "\n",
        "Expected output:  \n",
        "Run"
      ],
      "metadata": {
        "id": "TZfFe6t6y5qG"
      }
    },
    {
      "cell_type": "code",
      "source": [
        "def print_half_word():\n",
        "  word = input (\"Provide you word: \")\n",
        "  # calculate half length og the word\n",
        "  half_length = int (len(word)/ 2)\n",
        "  half_word = word[0:half_length]\n",
        "  print (half_length)\n",
        "  print (half_word)\n",
        "\n",
        "print_half_word()\n"
      ],
      "metadata": {
        "id": "5eyPFKAby8rb",
        "colab": {
          "base_uri": "https://localhost:8080/"
        },
        "outputId": "b5a40cc0-f935-40b4-8d3f-e49b340e3c36"
      },
      "execution_count": 39,
      "outputs": [
        {
          "output_type": "stream",
          "name": "stdout",
          "text": [
            "Provide you word: Runtime\n",
            "3\n",
            "Run\n"
          ]
        }
      ]
    },
    {
      "cell_type": "markdown",
      "source": [
        "---\n",
        "### Exercise 9 - String repetition\n",
        "\n",
        "Write a function called **repeat_two_letters()** which will:\n",
        "\n",
        "*  ask the user to enter a **word**  \n",
        "*  assign the last two letters of the `word` to a variable called **last_two**  \n",
        "*  assign a string made of 5 copies of the `last_two` (*Hint: `last_two`* * 5 *will do it)* to a variable called **five_copies**  \n",
        "*  print `five_copies`\n",
        "\n",
        "Test Input:\n",
        "Data\n",
        "\n",
        "Expected output:\n",
        "tatatatata\n"
      ],
      "metadata": {
        "id": "kqKi-xSDy9wq"
      }
    },
    {
      "cell_type": "code",
      "source": [
        "def repeat_two_letters():\n",
        "  word = input (\"Provide you word: \")\n",
        "  last_two = word[-2:]\n",
        "  five_copies = last_two * 5\n",
        "  print (five_copies)\n",
        "\n",
        "repeat_two_letters()"
      ],
      "metadata": {
        "id": "Usl-n3soy_uX",
        "colab": {
          "base_uri": "https://localhost:8080/"
        },
        "outputId": "3bc36d69-6fbd-4057-bc3b-12c1e7cb02bb"
      },
      "execution_count": 41,
      "outputs": [
        {
          "output_type": "stream",
          "name": "stdout",
          "text": [
            "Provide you word: Data\n",
            "tatatatata\n"
          ]
        }
      ]
    },
    {
      "cell_type": "markdown",
      "source": [
        "---\n",
        "### Exercise 10 - converting String to lower case\n",
        "\n",
        "Write a function called **lowerCase_threeLetters()** which will:  \n",
        "\n",
        "*  assign the value “january” to a variable called **month**  \n",
        "*  assign the first three characters of `month` to a variable called **month_short**   \n",
        "*  capitalise `month_short` and store the result back in `month_short`\n",
        "*  assign the rest of the characters to a variable called **month_rest**  \n",
        "*  join `month_short` and `month_rest` together and store the result back into the variable `month`  \n",
        "*  print `month`  \n",
        "\n",
        "Expected output:  \n",
        "JANuary  "
      ],
      "metadata": {
        "id": "q3o2ryfazADo"
      }
    },
    {
      "cell_type": "code",
      "source": [
        "def lowerCase_threeLetters():\n",
        "  month = \"january\"\n",
        "  month_short = month [0:3]\n",
        "  month_short = month_short.upper()\n",
        "  month_rest = month[3:]\n",
        "  month = month_short + month_rest\n",
        "  print(month)\n",
        "  print (month_short, month_rest)\n",
        "\n",
        "lowerCase_threeLetters()"
      ],
      "metadata": {
        "id": "wZ9r5M7XzB4q",
        "colab": {
          "base_uri": "https://localhost:8080/"
        },
        "outputId": "faa2b87e-adec-484c-8159-66e3c0e2d741"
      },
      "execution_count": 45,
      "outputs": [
        {
          "output_type": "stream",
          "name": "stdout",
          "text": [
            "JANuary\n",
            "JAN uary\n"
          ]
        }
      ]
    }
  ]
}